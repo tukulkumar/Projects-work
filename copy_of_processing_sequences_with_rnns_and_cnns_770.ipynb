{
 "cells": [
  {
   "cell_type": "code",
   "execution_count": 1,
   "metadata": {},
   "outputs": [],
   "source": [
    "batch_size = 10000\n",
    "n_steps = 51"
   ]
  },
  {
   "cell_type": "code",
   "execution_count": 2,
   "metadata": {},
   "outputs": [],
   "source": [
    "import  numpy as np"
   ]
  },
  {
   "cell_type": "code",
   "execution_count": 3,
   "metadata": {},
   "outputs": [],
   "source": [
    "time = np.linspace(0,1,n_steps)"
   ]
  },
  {
   "cell_type": "code",
   "execution_count": 4,
   "metadata": {},
   "outputs": [
    {
     "data": {
      "text/plain": [
       "(51,)"
      ]
     },
     "execution_count": 4,
     "metadata": {},
     "output_type": "execute_result"
    }
   ],
   "source": [
    "time.shape"
   ]
  },
  {
   "cell_type": "code",
   "execution_count": 5,
   "metadata": {},
   "outputs": [],
   "source": [
    "freq1, freq2, offset1, offset2 = np.random.rand(4,batch_size,1)"
   ]
  },
  {
   "cell_type": "code",
   "execution_count": 6,
   "metadata": {},
   "outputs": [],
   "source": [
    "series = 0.5*np.sin(time-offset1)*(freq1*10+10)"
   ]
  },
  {
   "cell_type": "code",
   "execution_count": 7,
   "metadata": {},
   "outputs": [],
   "source": [
    "series += 0.2*np.sin(time-offset2)*(freq2*20+20)"
   ]
  },
  {
   "cell_type": "code",
   "execution_count": 8,
   "metadata": {},
   "outputs": [],
   "source": [
    "series += 0.1 * (np.random.rand(batch_size, n_steps) - 0.5)"
   ]
  },
  {
   "cell_type": "code",
   "execution_count": 9,
   "metadata": {},
   "outputs": [
    {
     "data": {
      "text/plain": [
       "array([[[-3.837686 ],\n",
       "        [-3.725234 ],\n",
       "        [-3.5188005],\n",
       "        ...,\n",
       "        [ 5.1027064],\n",
       "        [ 5.282149 ],\n",
       "        [ 5.456352 ]],\n",
       "\n",
       "       [[-8.258046 ],\n",
       "        [-8.004573 ],\n",
       "        [-7.843975 ],\n",
       "        ...,\n",
       "        [ 3.8937688],\n",
       "        [ 4.149192 ],\n",
       "        [ 4.411835 ]],\n",
       "\n",
       "       [[-7.3087893],\n",
       "        [-7.1512437],\n",
       "        [-6.905682 ],\n",
       "        ...,\n",
       "        [ 2.174317 ],\n",
       "        [ 2.3899012],\n",
       "        [ 2.6135828]],\n",
       "\n",
       "       ...,\n",
       "\n",
       "       [[-4.26851  ],\n",
       "        [-3.9601648],\n",
       "        [-3.743168 ],\n",
       "        ...,\n",
       "        [ 7.7508683],\n",
       "        [ 7.9592686],\n",
       "        [ 8.189318 ]],\n",
       "\n",
       "       [[-4.846551 ],\n",
       "        [-4.561871 ],\n",
       "        [-4.202358 ],\n",
       "        ...,\n",
       "        [10.236894 ],\n",
       "        [10.503692 ],\n",
       "        [10.759078 ]],\n",
       "\n",
       "       [[-4.9733367],\n",
       "        [-4.6338587],\n",
       "        [-4.3938174],\n",
       "        ...,\n",
       "        [ 8.654393 ],\n",
       "        [ 8.869123 ],\n",
       "        [ 9.098796 ]]], dtype=float32)"
      ]
     },
     "execution_count": 9,
     "metadata": {},
     "output_type": "execute_result"
    }
   ],
   "source": [
    "series[..., np.newaxis].astype(np.float32)"
   ]
  },
  {
   "cell_type": "code",
   "execution_count": 9,
   "metadata": {},
   "outputs": [
    {
     "data": {
      "text/plain": [
       "(10000, 51)"
      ]
     },
     "execution_count": 9,
     "metadata": {},
     "output_type": "execute_result"
    }
   ],
   "source": [
    "series.shape"
   ]
  },
  {
   "cell_type": "code",
   "execution_count": 8,
   "metadata": {},
   "outputs": [
    {
     "data": {
      "text/plain": [
       "array([[[ 0.11153036],\n",
       "        [ 0.25284722],\n",
       "        [ 0.4532288 ],\n",
       "        ...,\n",
       "        [-0.02095151],\n",
       "        [ 0.06941125],\n",
       "        [ 0.16294828]],\n",
       "\n",
       "       [[-0.15221035],\n",
       "        [ 0.15890296],\n",
       "        [ 0.33068934],\n",
       "        ...,\n",
       "        [ 0.16634606],\n",
       "        [ 0.24257155],\n",
       "        [ 0.38780436]],\n",
       "\n",
       "       [[-0.36222613],\n",
       "        [-0.39290348],\n",
       "        [-0.37029994],\n",
       "        ...,\n",
       "        [-0.6283457 ],\n",
       "        [-0.64382   ],\n",
       "        [-0.51107347]],\n",
       "\n",
       "       ...,\n",
       "\n",
       "       [[ 0.4956408 ],\n",
       "        [ 0.20396921],\n",
       "        [-0.02725864],\n",
       "        ...,\n",
       "        [ 0.33266556],\n",
       "        [ 0.19023429],\n",
       "        [ 0.05130743]],\n",
       "\n",
       "       [[-0.17011477],\n",
       "        [-0.45208672],\n",
       "        [-0.56863385],\n",
       "        ...,\n",
       "        [-0.67012954],\n",
       "        [-0.70602554],\n",
       "        [-0.5590326 ]],\n",
       "\n",
       "       [[ 0.05349934],\n",
       "        [-0.22198144],\n",
       "        [-0.41152635],\n",
       "        ...,\n",
       "        [ 0.13167769],\n",
       "        [-0.07893043],\n",
       "        [-0.2581996 ]]], dtype=float32)"
      ]
     },
     "execution_count": 8,
     "metadata": {},
     "output_type": "execute_result"
    }
   ],
   "source": [
    "freq1, freq2, offsets1, offsets2 = np.random.rand(4, batch_size, 1)\n",
    "# The linspace() function returns evenly spaced numbers over a specified interval\\n\",\n",
    "time = np.linspace(0, 1, n_steps)\n",
    "series = 0.5 * np.sin((time - offsets1) * (freq1 * 10 + 10))  #   wave 1\\n\",\n",
    "series += 0.2 * np.sin((time - offsets2) * (freq2 * 20 + 20)) # + wave 2\\n\",\n",
    "series += 0.1 * (np.random.rand(batch_size, n_steps) - 0.5)   # + noise\\n\",\n",
    "# The function returns a NumPy array of shape [batch size, time steps, 1],\\n\",\n",
    "# where each series is the sum of two sine waves of fixed amplitudes but\\n\",\n",
    "# random frequencies and phases, plus a bit of noise\\n\",\n",
    "series[..., np.newaxis].astype(np.float32)"
   ]
  },
  {
   "cell_type": "code",
   "execution_count": null,
   "metadata": {},
   "outputs": [],
   "source": []
  }
 ],
 "metadata": {
  "kernelspec": {
   "display_name": "tensorflow2",
   "language": "python",
   "name": "tensorflow2"
  },
  "language_info": {
   "codemirror_mode": {
    "name": "ipython",
    "version": 3
   },
   "file_extension": ".py",
   "mimetype": "text/x-python",
   "name": "python",
   "nbconvert_exporter": "python",
   "pygments_lexer": "ipython3",
   "version": "3.6.8"
  },
  "toc": {
   "base_numbering": 1,
   "nav_menu": {},
   "number_sections": true,
   "sideBar": true,
   "skip_h1_title": false,
   "title_cell": "Table of Contents",
   "title_sidebar": "Contents",
   "toc_cell": false,
   "toc_position": {},
   "toc_section_display": true,
   "toc_window_display": false
  }
 },
 "nbformat": 4,
 "nbformat_minor": 2
}
