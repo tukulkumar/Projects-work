{
 "cells": [
  {
   "cell_type": "code",
   "execution_count": 1,
   "metadata": {},
   "outputs": [
    {
     "data": {
      "text/plain": [
       "defined class LogRecord\n"
      ]
     },
     "metadata": {},
     "output_type": "display_data"
    }
   ],
   "source": [
    "case class LogRecord( host: String, timeStamp: String, url:String,httpCode:Int)"
   ]
  },
  {
   "cell_type": "code",
   "execution_count": 2,
   "metadata": {},
   "outputs": [
    {
     "data": {
      "text/plain": [
       "PATTERN = ^(\\S+) (\\S+) (\\S+) \\[([\\w:/]+\\s[+\\-]\\d{4})\\] \"(\\S+) (\\S+)(.*)\" (\\d{3}) (\\S+)\n"
      ]
     },
     "metadata": {},
     "output_type": "display_data"
    },
    {
     "data": {
      "text/plain": [
       "^(\\S+) (\\S+) (\\S+) \\[([\\w:/]+\\s[+\\-]\\d{4})\\] \"(\\S+) (\\S+)(.*)\" (\\d{3}) (\\S+)"
      ]
     },
     "execution_count": 2,
     "metadata": {},
     "output_type": "execute_result"
    }
   ],
   "source": [
    "val PATTERN = \"\"\"^(\\S+) (\\S+) (\\S+) \\[([\\w:/]+\\s[+\\-]\\d{4})\\] \"(\\S+) (\\S+)(.*)\" (\\d{3}) (\\S+)\"\"\".r"
   ]
  },
  {
   "cell_type": "code",
   "execution_count": 3,
   "metadata": {},
   "outputs": [
    {
     "data": {
      "text/plain": [
       "parseLogLine: (log: String)LogRecord\n"
      ]
     },
     "metadata": {},
     "output_type": "display_data"
    }
   ],
   "source": [
    "def parseLogLine(log: String):\n",
    "\tLogRecord = {\n",
    "\t\tval res = PATTERN.findFirstMatchIn(log) \n",
    "\t\tif (res.isEmpty)\n",
    "\t\t{\n",
    "\t\t\tprintln(\"Rejected Log Line: \" + log)\n",
    "\t\t\tLogRecord(\"Empty\", \"\", \"\",  -1 )\n",
    "\t\t}\n",
    "\t\telse \n",
    "\t\t{\n",
    "\t\t\tval m = res.get\n",
    "\t\t\tLogRecord(m.group(1), m.group(4),m.group(6), m.group(8).toInt)\n",
    "\t\t}\n",
    "\t}\n"
   ]
  },
  {
   "cell_type": "code",
   "execution_count": 4,
   "metadata": {},
   "outputs": [
    {
     "data": {
      "text/plain": [
       "logFile = /data/spark/project/NASA_access_log_Aug95.gz MapPartitionsRDD[1] at textFile at <console>:33\n",
       "accessLog = MapPartitionsRDD[2] at map at <console>:34\n",
       "accessDf = [host: string, timeStamp: string ... 2 more fields]\n"
      ]
     },
     "metadata": {},
     "output_type": "display_data"
    },
    {
     "data": {
      "text/plain": [
       "[host: string, timeStamp: string ... 2 more fields]"
      ]
     },
     "execution_count": 4,
     "metadata": {},
     "output_type": "execute_result"
    },
    {
     "name": "stdout",
     "output_type": "stream",
     "text": [
      "Rejected Log Line: 203.16.174.5 - - [14/Aug/1995:04:12:17 -0400] \"GET  HTTP/1.0\" 302 -\n",
      "Rejected Log Line: 128.159.144.83 - - [14/Aug/1995:15:51:37 -0400] \"\u0016�\u0002�6�\u0002�T7�F\u0010��F\u0010\u0001\" 400 -\n",
      "Rejected Log Line: 128.159.144.83 - - [14/Aug/1995:15:51:58 -0400] \"\u0016�\u0002�6�\u0002�T7�F\u0010��F\u0010\u0001\" 400 -\n",
      "Rejected Log Line: 128.159.144.83 - - [14/Aug/1995:15:52:23 -0400] \"\u0016�\u0002�6�\u0002�T7�F\u0010��F\u0010\u0001\" 400 -\n",
      "Rejected Log Line: 128.159.144.83 - - [14/Aug/1995:15:59:35 -0400] \"\u0016�\u0002�6�\u0002�T7�F\u0010��F\u0010\u0001\" 400 -\n",
      "Rejected Log Line: bloor.torfree.net - - [22/Aug/1995:14:55:16 -0400] \"huttle/countdown/\" 400 -\n",
      "Rejected Log Line: mac391s.ksc.nasa.gov - - [23/Aug/1995:10:35:20 -0400] \"GET  HTTP/1.0\" 302 -\n",
      "Rejected Log Line: mac391s.ksc.nasa.gov - - [23/Aug/1995:10:35:21 -0400] \"GET  HTTP/1.0\" 302 -\n",
      "Rejected Log Line: mac391s.ksc.nasa.gov - - [23/Aug/1995:10:35:22 -0400] \"GET  HTTP/1.0\" 302 -\n",
      "Rejected Log Line: mac391s.ksc.nasa.gov - - [23/Aug/1995:10:35:27 -0400] \"GET  HTTP/1.0\" 302 -\n",
      "Rejected Log Line: mac391s.ksc.nasa.gov - - [23/Aug/1995:10:35:28 -0400] \"GET  HTTP/1.0\" 302 -\n",
      "Rejected Log Line: mac391s.ksc.nasa.gov - - [23/Aug/1995:10:35:29 -0400] \"GET  HTTP/1.0\" 302 -\n",
      "Rejected Log Line: mac391s.ksc.nasa.gov - - [23/Aug/1995:10:35:30 -0400] \"GET  HTTP/1.0\" 302 -\n",
      "Rejected Log Line: mac391s.ksc.nasa.gov - - [23/Aug/1995:10:35:31 -0400] \"GET  HTTP/1.0\" 302 -\n",
      "Rejected Log Line: mac391s.ksc.nasa.gov - - [23/Aug/1995:10:35:33 -0400] \"GET  HTTP/1.0\" 302 -\n",
      "Rejected Log Line: mac391s.ksc.nasa.gov - - [23/Aug/1995:10:35:34 -0400] \"GET  HTTP/1.0\" 302 -\n",
      "Rejected Log Line: mac391s.ksc.nasa.gov - - [23/Aug/1995:10:35:35 -0400] \"GET  HTTP/1.0\" 302 -\n",
      "Rejected Log Line: mac391s.ksc.nasa.gov - - [23/Aug/1995:10:35:37 -0400] \"GET  HTTP/1.0\" 302 -\n",
      "Rejected Log Line: mac391s.ksc.nasa.gov - - [23/Aug/1995:10:35:38 -0400] \"GET  HTTP/1.0\" 302 -\n",
      "Rejected Log Line: mac391s.ksc.nasa.gov - - [23/Aug/1995:10:35:39 -0400] \"GET  HTTP/1.0\" 302 -\n",
      "Rejected Log Line: mac391s.ksc.nasa.gov - - [23/Aug/1995:10:35:43 -0400] \"GET  HTTP/1.0\" 302 -\n",
      "Rejected Log Line: mac391s.ksc.nasa.gov - - [23/Aug/1995:10:35:44 -0400] \"GET  HTTP/1.0\" 302 -\n",
      "Rejected Log Line: mac391s.ksc.nasa.gov - - [23/Aug/1995:10:35:48 -0400] \"GET  HTTP/1.0\" 302 -\n",
      "Rejected Log Line: mac391s.ksc.nasa.gov - - [23/Aug/1995:10:36:04 -0400] \"GET  HTTP/1.0\" 302 -\n",
      "Rejected Log Line: mac391s.ksc.nasa.gov - - [23/Aug/1995:10:36:06 -0400] \"GET  HTTP/1.0\" 302 -\n",
      "Rejected Log Line: mac391s.ksc.nasa.gov - - [23/Aug/1995:10:36:08 -0400] \"GET  HTTP/1.0\" 302 -\n",
      "Rejected Log Line: mac391s.ksc.nasa.gov - - [23/Aug/1995:10:36:09 -0400] \"GET  HTTP/1.0\" 302 -\n",
      "Rejected Log Line: mac391s.ksc.nasa.gov - - [23/Aug/1995:10:36:10 -0400] \"GET  HTTP/1.0\" 302 -\n",
      "Rejected Log Line: mac391s.ksc.nasa.gov - - [23/Aug/1995:10:36:11 -0400] \"GET  HTTP/1.0\" 302 -\n",
      "Rejected Log Line: mac391s.ksc.nasa.gov - - [23/Aug/1995:10:36:12 -0400] \"GET  HTTP/1.0\" 302 -\n",
      "Rejected Log Line: mac391s.ksc.nasa.gov - - [23/Aug/1995:10:36:13 -0400] \"GET  HTTP/1.0\" 302 -\n",
      "Rejected Log Line: mac391s.ksc.nasa.gov - - [23/Aug/1995:10:36:15 -0400] \"GET  HTTP/1.0\" 302 -\n",
      "Rejected Log Line: mac391s.ksc.nasa.gov - - [23/Aug/1995:10:36:16 -0400] \"GET  HTTP/1.0\" 302 -\n",
      "Rejected Log Line: mac391s.ksc.nasa.gov - - [23/Aug/1995:10:36:17 -0400] \"GET  HTTP/1.0\" 302 -\n",
      "Rejected Log Line: mac391s.ksc.nasa.gov - - [23/Aug/1995:10:36:18 -0400] \"GET  HTTP/1.0\" 302 -\n",
      "Rejected Log Line: mac391s.ksc.nasa.gov - - [23/Aug/1995:10:36:19 -0400] \"GET  HTTP/1.0\" 302 -\n",
      "Rejected Log Line: mac391s.ksc.nasa.gov - - [23/Aug/1995:10:36:21 -0400] \"GET  HTTP/1.0\" 302 -\n",
      "Rejected Log Line: mac391s.ksc.nasa.gov - - [23/Aug/1995:10:36:22 -0400] \"GET  HTTP/1.0\" 302 -\n",
      "Rejected Log Line: mac391s.ksc.nasa.gov - - [23/Aug/1995:10:36:23 -0400] \"GET  HTTP/1.0\" 302 -\n",
      "Rejected Log Line: mac391s.ksc.nasa.gov - - [23/Aug/1995:10:36:24 -0400] \"GET  HTTP/1.0\" 302 -\n",
      "Rejected Log Line: mac391s.ksc.nasa.gov - - [23/Aug/1995:10:36:25 -0400] \"GET  HTTP/1.0\" 302 -\n",
      "Rejected Log Line: mac391s.ksc.nasa.gov - - [23/Aug/1995:10:36:26 -0400] \"GET  HTTP/1.0\" 302 -\n",
      "Rejected Log Line: mac391s.ksc.nasa.gov - - [23/Aug/1995:10:36:28 -0400] \"GET  HTTP/1.0\" 302 -\n",
      "Rejected Log Line: mac391s.ksc.nasa.gov - - [23/Aug/1995:10:36:29 -0400] \"GET  HTTP/1.0\" 302 -\n",
      "Rejected Log Line: mac391s.ksc.nasa.gov - - [23/Aug/1995:10:36:30 -0400] \"GET  HTTP/1.0\" 302 -\n",
      "Rejected Log Line: mac391s.ksc.nasa.gov - - [23/Aug/1995:10:36:31 -0400] \"GET  HTTP/1.0\" 302 -\n",
      "Rejected Log Line: mac391s.ksc.nasa.gov - - [23/Aug/1995:10:36:32 -0400] \"GET  HTTP/1.0\" 302 -\n",
      "Rejected Log Line: mac391s.ksc.nasa.gov - - [23/Aug/1995:10:36:34 -0400] \"GET  HTTP/1.0\" 302 -\n",
      "Rejected Log Line: mac391s.ksc.nasa.gov - - [23/Aug/1995:10:36:35 -0400] \"GET  HTTP/1.0\" 302 -\n",
      "Rejected Log Line: mac391s.ksc.nasa.gov - - [23/Aug/1995:10:36:36 -0400] \"GET  HTTP/1.0\" 302 -\n",
      "Rejected Log Line: mac391s.ksc.nasa.gov - - [23/Aug/1995:10:36:37 -0400] \"GET  HTTP/1.0\" 302 -\n",
      "Rejected Log Line: mac391s.ksc.nasa.gov - - [23/Aug/1995:10:36:38 -0400] \"GET  HTTP/1.0\" 302 -\n",
      "Rejected Log Line: mac391s.ksc.nasa.gov - - [23/Aug/1995:10:36:39 -0400] \"GET  HTTP/1.0\" 302 -\n",
      "Rejected Log Line: mac391s.ksc.nasa.gov - - [23/Aug/1995:10:36:41 -0400] \"GET  HTTP/1.0\" 302 -\n",
      "Rejected Log Line: mac391s.ksc.nasa.gov - - [23/Aug/1995:10:36:42 -0400] \"GET  HTTP/1.0\" 302 -\n",
      "Rejected Log Line: mac391s.ksc.nasa.gov - - [23/Aug/1995:10:36:43 -0400] \"GET  HTTP/1.0\" 302 -\n",
      "Rejected Log Line: mac391s.ksc.nasa.gov - - [23/Aug/1995:10:36:44 -0400] \"GET  HTTP/1.0\" 302 -\n",
      "Rejected Log Line: mac391s.ksc.nasa.gov - - [23/Aug/1995:10:36:52 -0400] \"GET  HTTP/1.0\" 302 -\n",
      "Rejected Log Line: 128.159.117.22 - - [30/Aug/1995:13:45:35 -0400] \"���.�\u000b",
      "2�.�>� .�\u00032����������.�\u0006� \" 400 -\n",
      "Rejected Log Line: titan - - [31/Aug/1995:05:06:15 -0400] \"?\" 400 -\n",
      "Rejected Log Line: 163.206.42.13 - - [31/Aug/1995:11:04:42 -0400] \"�|\u0005\u0011t\u0003�9ð'À|\u0005\u0011u\u000b",
      "&�G\u0018\u0001\" 400 -\n",
      "Rejected Log Line: 163.206.42.13 - - [31/Aug/1995:11:04:49 -0400] \"�|\u0005\u0011t\u0003�9ð'À|\u0005\u0011u\u000b",
      "&�G\u0018\u0001\" 400 -\n",
      "Rejected Log Line: 128.159.117.22 - - [31/Aug/1995:14:49:09 -0400] \"���.�\u000b",
      "2�.�>� .�\u00032����������.�\u0006� \" 400 -\n"
     ]
    }
   ],
   "source": [
    "val logFile = sc.textFile(\"/data/spark/project/NASA_access_log_Aug95.gz\")\n",
    "val accessLog = logFile.map(parseLogLine)\n",
    "val accessDf = accessLog.toDF()"
   ]
  },
  {
   "cell_type": "code",
   "execution_count": 5,
   "metadata": {},
   "outputs": [
    {
     "name": "stdout",
     "output_type": "stream",
     "text": [
      "root\n",
      " |-- host: string (nullable = true)\n",
      " |-- timeStamp: string (nullable = true)\n",
      " |-- url: string (nullable = true)\n",
      " |-- httpCode: integer (nullable = true)\n",
      "\n"
     ]
    }
   ],
   "source": [
    "accessDf.printSchema"
   ]
  },
  {
   "cell_type": "code",
   "execution_count": 6,
   "metadata": {},
   "outputs": [],
   "source": [
    "accessDf.createOrReplaceTempView(\"nasalog\")"
   ]
  },
  {
   "cell_type": "code",
   "execution_count": 7,
   "metadata": {},
   "outputs": [
    {
     "data": {
      "text/plain": [
       "output = [host: string, timeStamp: string ... 2 more fields]\n"
      ]
     },
     "metadata": {},
     "output_type": "display_data"
    },
    {
     "data": {
      "text/plain": [
       "[host: string, timeStamp: string ... 2 more fields]"
      ]
     },
     "execution_count": 7,
     "metadata": {},
     "output_type": "execute_result"
    }
   ],
   "source": [
    "val output = spark.sql(\"select * from nasalog\")"
   ]
  },
  {
   "cell_type": "code",
   "execution_count": 8,
   "metadata": {},
   "outputs": [],
   "source": [
    "output.createOrReplaceTempView(\"nasa_log\")"
   ]
  },
  {
   "cell_type": "code",
   "execution_count": 9,
   "metadata": {},
   "outputs": [
    {
     "data": {
      "text/plain": [
       "[]"
      ]
     },
     "execution_count": 9,
     "metadata": {},
     "output_type": "execute_result"
    }
   ],
   "source": [
    "spark.sql(\"cache TABLE nasa_log\")"
   ]
  },
  {
   "cell_type": "code",
   "execution_count": 10,
   "metadata": {},
   "outputs": [
    {
     "name": "stdout",
     "output_type": "stream",
     "text": [
      "[Stage 3:====================================================>  (192 + 8) / 200]+--------------------+-------+\n",
      "|                 url|req_cnt|\n",
      "+--------------------+-------+\n",
      "|           /ksc.html|  43687|\n",
      "|/shuttle/missions...|  24606|\n",
      "|/shuttle/missions...|  22453|\n",
      "|/software/winvn/w...|  10345|\n",
      "|/history/history....|  10134|\n",
      "|/history/apollo/a...|   8985|\n",
      "|/shuttle/countdow...|   7865|\n",
      "|/history/apollo/a...|   7177|\n",
      "|/shuttle/technolo...|   6517|\n",
      "|/shuttle/missions...|   5264|\n",
      "+--------------------+-------+\n",
      "\n"
     ]
    }
   ],
   "source": [
    "spark.sql(\"select url,count(*) as req_cnt from nasa_log where upper(url) like '%HTML%' group by url order by req_cnt desc LIMIT 10\").show"
   ]
  },
  {
   "cell_type": "code",
   "execution_count": 11,
   "metadata": {},
   "outputs": [
    {
     "name": "stdout",
     "output_type": "stream",
     "text": [
      "+--------------------+-------+\n",
      "|                host|req_cnt|\n",
      "+--------------------+-------+\n",
      "|  edams.ksc.nasa.gov|   6530|\n",
      "|piweba4y.prodigy.com|   4846|\n",
      "|        163.206.89.4|   4791|\n",
      "|piweba5y.prodigy.com|   4607|\n",
      "|piweba3y.prodigy.com|   4416|\n",
      "+--------------------+-------+\n",
      "\n"
     ]
    }
   ],
   "source": [
    "spark.sql(\"select host,count(*) as req_cnt from nasa_log group by host order by req_cnt desc LIMIT 5\").show"
   ]
  },
  {
   "cell_type": "code",
   "execution_count": 12,
   "metadata": {},
   "outputs": [
    {
     "name": "stdout",
     "output_type": "stream",
     "text": [
      "+--------------+-------+\n",
      "|     timeFrame|req_cnt|\n",
      "+--------------+-------+\n",
      "|31/Aug/1995:11|   6319|\n",
      "|31/Aug/1995:10|   6283|\n",
      "|31/Aug/1995:13|   5948|\n",
      "|30/Aug/1995:15|   5919|\n",
      "|31/Aug/1995:09|   5627|\n",
      "+--------------+-------+\n",
      "\n"
     ]
    }
   ],
   "source": [
    "spark.sql(\"select substr(timeStamp,1,14) as timeFrame,count(*) as req_cnt from nasa_log group by substr(timeStamp,1,14) order by req_cnt desc LIMIT 5\").show"
   ]
  },
  {
   "cell_type": "code",
   "execution_count": 13,
   "metadata": {},
   "outputs": [
    {
     "name": "stdout",
     "output_type": "stream",
     "text": [
      "+--------------+-------+\n",
      "|     timeFrame|req_cnt|\n",
      "+--------------+-------+\n",
      "|03/Aug/1995:04|     16|\n",
      "|03/Aug/1995:09|     22|\n",
      "|03/Aug/1995:05|     43|\n",
      "|03/Aug/1995:10|     57|\n",
      "|03/Aug/1995:07|     58|\n",
      "+--------------+-------+\n",
      "\n"
     ]
    }
   ],
   "source": [
    "spark.sql(\"select substr(timeStamp,1,14) as timeFrame,count(*) as req_cnt from nasa_log group by substr(timeStamp,1,14) order by req_cnt  LIMIT 5\").show"
   ]
  },
  {
   "cell_type": "code",
   "execution_count": 14,
   "metadata": {},
   "outputs": [
    {
     "name": "stdout",
     "output_type": "stream",
     "text": [
      "+--------+-------+\n",
      "|httpCode|req_cnt|\n",
      "+--------+-------+\n",
      "|      -1|     63|\n",
      "|     501|     27|\n",
      "|     500|      3|\n",
      "|     403|    171|\n",
      "|     404|  10056|\n",
      "|     200|1398988|\n",
      "|     304| 134146|\n",
      "|     302|  26444|\n",
      "+--------+-------+\n",
      "\n"
     ]
    }
   ],
   "source": [
    "spark.sql(\"select httpCode,count(*) as req_cnt from nasa_log group by httpCode \").show"
   ]
  },
  {
   "cell_type": "code",
   "execution_count": null,
   "metadata": {},
   "outputs": [],
   "source": []
  }
 ],
 "metadata": {
  "kernelspec": {
   "display_name": "Apache Toree - Scala",
   "language": "scala",
   "name": "apache_toree_scala"
  },
  "language_info": {
   "codemirror_mode": "text/x-scala",
   "file_extension": ".scala",
   "mimetype": "text/x-scala",
   "name": "scala",
   "pygments_lexer": "scala",
   "version": "2.11.8"
  },
  "toc": {
   "base_numbering": 1,
   "nav_menu": {},
   "number_sections": true,
   "sideBar": true,
   "skip_h1_title": false,
   "title_cell": "Table of Contents",
   "title_sidebar": "Contents",
   "toc_cell": false,
   "toc_position": {},
   "toc_section_display": true,
   "toc_window_display": false
  }
 },
 "nbformat": 4,
 "nbformat_minor": 2
}
