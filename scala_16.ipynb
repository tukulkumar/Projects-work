{
 "cells": [
  {
   "cell_type": "code",
   "execution_count": 1,
   "metadata": {},
   "outputs": [
    {
     "data": {
      "text/plain": [
       "my_imx = 10\n",
       "my_mutx = 20\n",
       "myname = hi\n"
      ]
     },
     "metadata": {},
     "output_type": "display_data"
    },
    {
     "data": {
      "text/plain": [
       "hi"
      ]
     },
     "execution_count": 1,
     "metadata": {},
     "output_type": "execute_result"
    }
   ],
   "source": [
    "val my_imx: Int = 10\n",
    "\n",
    "var my_mutx: Int = 20\n",
    "\n",
    "var myname: String = \"hi\""
   ]
  },
  {
   "cell_type": "code",
   "execution_count": 2,
   "metadata": {},
   "outputs": [
    {
     "data": {
      "text/plain": [
       "state = New York\n"
      ]
     },
     "metadata": {},
     "output_type": "display_data"
    },
    {
     "data": {
      "text/plain": [
       "New York"
      ]
     },
     "execution_count": 2,
     "metadata": {},
     "output_type": "execute_result"
    }
   ],
   "source": [
    "var state: String = \"New York\""
   ]
  },
  {
   "cell_type": "code",
   "execution_count": 3,
   "metadata": {},
   "outputs": [
    {
     "data": {
      "text/plain": [
       "principal = 500\n",
       "interest_rate = 12\n",
       "years = 5\n",
       "interest = 300\n"
      ]
     },
     "metadata": {},
     "output_type": "display_data"
    },
    {
     "data": {
      "text/plain": [
       "300"
      ]
     },
     "execution_count": 3,
     "metadata": {},
     "output_type": "execute_result"
    }
   ],
   "source": [
    "var principal = 500\n",
    "var interest_rate = 12\n",
    "var years = 5\n",
    "var interest = principal*interest_rate*years/100"
   ]
  },
  {
   "cell_type": "code",
   "execution_count": 4,
   "metadata": {},
   "outputs": [
    {
     "data": {
      "text/plain": [
       "defined object Hello\n"
      ]
     },
     "metadata": {},
     "output_type": "display_data"
    }
   ],
   "source": [
    "object Hello {\n",
    "   def main(args: Array[String]) {\n",
    "      var str:String = \"hello\"\n",
    "      println(str)\n",
    "      str = \"hello all\"\n",
    "      println(str)\n",
    "      str.concat(\" there\")\n",
    "      println(str)\n",
    "      str = str.concat(\" there\")\n",
    "      println(str)\n",
    "   }\n",
    "}"
   ]
  },
  {
   "cell_type": "code",
   "execution_count": 5,
   "metadata": {},
   "outputs": [
    {
     "data": {
      "text/plain": [
       "$line34.$read$$iw$$iw$$iw$$iw$$iw$$iw$Hello$@66a85f74"
      ]
     },
     "execution_count": 5,
     "metadata": {},
     "output_type": "execute_result"
    }
   ],
   "source": [
    "Hello"
   ]
  },
  {
   "cell_type": "code",
   "execution_count": 6,
   "metadata": {},
   "outputs": [
    {
     "data": {
      "text/plain": [
       "defined object Demo\n"
      ]
     },
     "metadata": {},
     "output_type": "display_data"
    }
   ],
   "source": [
    "object Demo {\n",
    "   def main(args: Array[String]) {\n",
    "      var floatVar = 10.123\n",
    "      var intVar = 5000\n",
    "      var stringVar = \"Hello There\"\n",
    "\n",
    "      var fs = printf(\"The value of the float variable is \" + \"%f, while the value of the integer \" + \"variable is %d, and the string\" + \"is %s\", floatVar, intVar, stringVar);\n",
    "\n",
    "      println(fs)\n",
    "   }\n",
    "}"
   ]
  },
  {
   "cell_type": "code",
   "execution_count": 7,
   "metadata": {},
   "outputs": [
    {
     "name": "stdout",
     "output_type": "stream",
     "text": [
      "Hello John\n"
     ]
    },
    {
     "data": {
      "text/plain": [
       "name = John\n"
      ]
     },
     "metadata": {},
     "output_type": "display_data"
    },
    {
     "data": {
      "text/plain": [
       "John"
      ]
     },
     "execution_count": 7,
     "metadata": {},
     "output_type": "execute_result"
    }
   ],
   "source": [
    "val name = \"John\"\n",
    "println(s\"Hello $name\")"
   ]
  },
  {
   "cell_type": "code",
   "execution_count": 8,
   "metadata": {},
   "outputs": [
    {
     "name": "stdout",
     "output_type": "stream",
     "text": [
      "2 + 3 = 5\n"
     ]
    }
   ],
   "source": [
    "println(s\"2 + 3 = ${2 + 3}\")"
   ]
  },
  {
   "cell_type": "code",
   "execution_count": 9,
   "metadata": {},
   "outputs": [
    {
     "name": "stdout",
     "output_type": "stream",
     "text": [
      "John is 1.70 meters tall\n"
     ]
    },
    {
     "data": {
      "text/plain": [
       "height = 1.7\n",
       "name = John\n"
      ]
     },
     "metadata": {},
     "output_type": "display_data"
    },
    {
     "data": {
      "text/plain": [
       "John"
      ]
     },
     "execution_count": 9,
     "metadata": {},
     "output_type": "execute_result"
    }
   ],
   "source": [
    "val height = 1.7d\n",
    "val name = \"John\"\n",
    "println(f\"$name%s is $height%2.2f meters tall\")"
   ]
  },
  {
   "cell_type": "code",
   "execution_count": 10,
   "metadata": {},
   "outputs": [
    {
     "name": "stdout",
     "output_type": "stream",
     "text": [
      "Result = \n",
      " a \n",
      " b\n"
     ]
    }
   ],
   "source": [
    "println(s\"Result = \\n a \\n b\")"
   ]
  },
  {
   "cell_type": "code",
   "execution_count": 11,
   "metadata": {},
   "outputs": [
    {
     "name": "stdout",
     "output_type": "stream",
     "text": [
      "Result = \\n a \\n b\n"
     ]
    }
   ],
   "source": [
    "println(raw\"Result = \\n a \\n b\")"
   ]
  },
  {
   "cell_type": "code",
   "execution_count": 12,
   "metadata": {},
   "outputs": [
    {
     "name": "stdout",
     "output_type": "stream",
     "text": [
      "The value of the float variable is 10.123000, while the value of the integer variable is 5000, and the stringis Hello There()\n"
     ]
    }
   ],
   "source": [
    "Demo.main(Array())"
   ]
  },
  {
   "cell_type": "code",
   "execution_count": 13,
   "metadata": {},
   "outputs": [
    {
     "name": "stdout",
     "output_type": "stream",
     "text": [
      "Length is 3\n"
     ]
    },
    {
     "data": {
      "text/plain": [
       "str1 = one\n"
      ]
     },
     "metadata": {},
     "output_type": "display_data"
    },
    {
     "data": {
      "text/plain": [
       "one"
      ]
     },
     "execution_count": 13,
     "metadata": {},
     "output_type": "execute_result"
    }
   ],
   "source": [
    "var str1:String = \"one\"\n",
    "println(\"Length is \" + str1.length());"
   ]
  },
  {
   "cell_type": "code",
   "execution_count": 14,
   "metadata": {},
   "outputs": [
    {
     "name": "stdout",
     "output_type": "stream",
     "text": [
      "Combined string is one two\n"
     ]
    },
    {
     "data": {
      "text/plain": [
       "str1 = one\n",
       "str2 = one two\n"
      ]
     },
     "metadata": {},
     "output_type": "display_data"
    },
    {
     "data": {
      "text/plain": [
       "one two"
      ]
     },
     "execution_count": 14,
     "metadata": {},
     "output_type": "execute_result"
    }
   ],
   "source": [
    "var str1:String = \"one\"\n",
    "var str2:String = str1.concat(\" two\")\n",
    "println(\"Combined string is \" + str2);"
   ]
  },
  {
   "cell_type": "code",
   "execution_count": 15,
   "metadata": {},
   "outputs": [
    {
     "name": "stdout",
     "output_type": "stream",
     "text": [
      "Char at 5th index is Y\n"
     ]
    },
    {
     "data": {
      "text/plain": [
       "str = New York\n"
      ]
     },
     "metadata": {},
     "output_type": "display_data"
    },
    {
     "data": {
      "text/plain": [
       "New York"
      ]
     },
     "execution_count": 15,
     "metadata": {},
     "output_type": "execute_result"
    }
   ],
   "source": [
    "var str:String = \"New York\"\n",
    "println(\"Char at 5th index is \" + str.charAt(4));"
   ]
  },
  {
   "cell_type": "code",
   "execution_count": 16,
   "metadata": {},
   "outputs": [
    {
     "name": "stdout",
     "output_type": "stream",
     "text": [
      "New string is New Shire\n"
     ]
    },
    {
     "data": {
      "text/plain": [
       "str = New York\n"
      ]
     },
     "metadata": {},
     "output_type": "display_data"
    },
    {
     "data": {
      "text/plain": [
       "New York"
      ]
     },
     "execution_count": 16,
     "metadata": {},
     "output_type": "execute_result"
    }
   ],
   "source": [
    "var str:String = \"New York\"\n",
    "println(\"New string is \" + str.replace(\"York\",\"Shire\"));"
   ]
  },
  {
   "cell_type": "code",
   "execution_count": 17,
   "metadata": {},
   "outputs": [
    {
     "name": "stdout",
     "output_type": "stream",
     "text": [
      "New string is New York xabxcx\n"
     ]
    },
    {
     "data": {
      "text/plain": [
       "str = New York 1ab2c3\n"
      ]
     },
     "metadata": {},
     "output_type": "display_data"
    },
    {
     "data": {
      "text/plain": [
       "New York 1ab2c3"
      ]
     },
     "execution_count": 17,
     "metadata": {},
     "output_type": "execute_result"
    }
   ],
   "source": [
    "var str:String = \"New York 1ab2c3\"\n",
    "println(\"New string is \" + str.replaceAll(\"[0-9]\",\"x\"));"
   ]
  },
  {
   "cell_type": "code",
   "execution_count": 18,
   "metadata": {},
   "outputs": [
    {
     "name": "stdout",
     "output_type": "stream",
     "text": [
      "New string is Nez Yorz\n"
     ]
    },
    {
     "data": {
      "text/plain": [
       "str = New York\n"
      ]
     },
     "metadata": {},
     "output_type": "display_data"
    },
    {
     "data": {
      "text/plain": [
       "New York"
      ]
     },
     "execution_count": 18,
     "metadata": {},
     "output_type": "execute_result"
    }
   ],
   "source": [
    "var str:String = \"New York\"\n",
    "// replace all w and k with z\n",
    "println(\"New string is \" + str.replaceAll(\"w|k\",\"z\"));"
   ]
  },
  {
   "cell_type": "code",
   "execution_count": 19,
   "metadata": {},
   "outputs": [
    {
     "name": "stdout",
     "output_type": "stream",
     "text": [
      "New string is New\n",
      "New\n",
      "York\n",
      "Hello\n",
      " There\n"
     ]
    },
    {
     "data": {
      "text/plain": [
       "str = New,York,Hello, There\n",
       "strarray = Array(New, York, Hello, \" There\")\n",
       "strarray = [Ljava.lang.String;@7643f9e9\n"
      ]
     },
     "metadata": {},
     "output_type": "display_data"
    },
    {
     "data": {
      "text/plain": [
       "[New, York, Hello,  There]"
      ]
     },
     "execution_count": 19,
     "metadata": {},
     "output_type": "execute_result"
    }
   ],
   "source": [
    "var str:String = \"New,York,Hello, There\"\n",
    "var strarray = new Array[String](3)\n",
    "strarray = str.split(\",\")\n",
    "println(\"New string is \" + strarray(0));\n",
    "println(strarray.deep.mkString(\"\\n\"))"
   ]
  },
  {
   "cell_type": "code",
   "execution_count": 20,
   "metadata": {},
   "outputs": [
    {
     "name": "stdout",
     "output_type": "stream",
     "text": [
      "New string is Yorky\n"
     ]
    },
    {
     "data": {
      "text/plain": [
       "str = NewxYorkyHello, There\n",
       "str1 = Yorky\n"
      ]
     },
     "metadata": {},
     "output_type": "display_data"
    },
    {
     "data": {
      "text/plain": [
       "Yorky"
      ]
     },
     "execution_count": 20,
     "metadata": {},
     "output_type": "execute_result"
    }
   ],
   "source": [
    "var str:String = \"NewxYorkyHello, There\"\n",
    "var str1 = str.substring(4,9)\n",
    "println(\"New string is \" + str1)"
   ]
  },
  {
   "cell_type": "code",
   "execution_count": 21,
   "metadata": {},
   "outputs": [
    {
     "data": {
      "text/plain": [
       "defined object Purge\n"
      ]
     },
     "metadata": {},
     "output_type": "display_data"
    }
   ],
   "source": [
    "object Purge{\n",
    "    def purgeVowels(str:String ): String = {\n",
    "        var str2 = str.replaceAll(\"[a|e|i|o|u|A|E|I|O|U]\",\"\")\n",
    "        return str2\n",
    "    }\n",
    "}"
   ]
  },
  {
   "cell_type": "code",
   "execution_count": 22,
   "metadata": {},
   "outputs": [
    {
     "data": {
      "text/plain": [
       "Nw Yrk"
      ]
     },
     "execution_count": 22,
     "metadata": {},
     "output_type": "execute_result"
    }
   ],
   "source": [
    "Purge.purgeVowels(\"New York\")"
   ]
  },
  {
   "cell_type": "code",
   "execution_count": 23,
   "metadata": {},
   "outputs": [
    {
     "data": {
      "text/plain": [
       "defined object Hello\n"
      ]
     },
     "metadata": {},
     "output_type": "display_data"
    }
   ],
   "source": [
    "object Hello {\n",
    "   def main(args: Array[String]) {\n",
    "      var a = 0;\n",
    "\n",
    "      // for loop execution with a range\n",
    "      println(\"Loop 1 - simple loop\")\n",
    "      for( a <- 1 to 5){\n",
    "         println( \"Value of a: \" + a );\n",
    "      }\n",
    "\n",
    "      println(\"Loop 2 - loop with custom incremental value\")\n",
    "      for( a <- 1 to 10 by 2){\n",
    "         println( \"Value of a: \" + a );\n",
    "      }\n",
    "\n",
    "      println(\"Loop 3 - loop in reverse, decreasing order\")\n",
    "      for( a <- 5 to 1 by -1){\n",
    "         println( \"Value of a: \" + a );\n",
    "      }\n",
    "\n",
    "      println(\"Loop 4 - loop using until, one iteration less than simple loop\")\n",
    "      for( a <- 5 until 1 by -1){\n",
    "         println( \"Value of a: \" + a );\n",
    "      }\n",
    "\n",
    "      println(\"Loop 5 - loop over collections\")\n",
    "      val myList = List(1,2,3,4,5);\n",
    "      for( a <- myList ){\n",
    "         println( \"Value of a: \" + a );\n",
    "      }\n",
    "   }\n",
    "}"
   ]
  },
  {
   "cell_type": "code",
   "execution_count": 24,
   "metadata": {},
   "outputs": [
    {
     "name": "stdout",
     "output_type": "stream",
     "text": [
      "Loop 1 - simple loop\n",
      "Value of a: 1\n",
      "Value of a: 2\n",
      "Value of a: 3\n",
      "Value of a: 4\n",
      "Value of a: 5\n",
      "Loop 2 - loop with custom incremental value\n",
      "Value of a: 1\n",
      "Value of a: 3\n",
      "Value of a: 5\n",
      "Value of a: 7\n",
      "Value of a: 9\n",
      "Loop 3 - loop in reverse, decreasing order\n",
      "Value of a: 5\n",
      "Value of a: 4\n",
      "Value of a: 3\n",
      "Value of a: 2\n",
      "Value of a: 1\n",
      "Loop 4 - loop using until, one iteration less than simple loop\n",
      "Value of a: 5\n",
      "Value of a: 4\n",
      "Value of a: 3\n",
      "Value of a: 2\n",
      "Loop 5 - loop over collections\n",
      "Value of a: 1\n",
      "Value of a: 2\n",
      "Value of a: 3\n",
      "Value of a: 4\n",
      "Value of a: 5\n"
     ]
    }
   ],
   "source": [
    "Hello.main(Array())"
   ]
  },
  {
   "cell_type": "code",
   "execution_count": 25,
   "metadata": {},
   "outputs": [
    {
     "data": {
      "text/plain": [
       "defined object Greet\n"
      ]
     },
     "metadata": {},
     "output_type": "display_data"
    }
   ],
   "source": [
    "object Greet {\n",
    "   def greet(x: Int): String={\n",
    "        if (x >= 4 && x < 12){\n",
    "            return(\"Good Morning\");\n",
    "        }\n",
    "        else if (x >= 12 && x < 16){ \n",
    "            return(\"Good Afternoon\");\n",
    "        }\n",
    "        else if (x >= 16 && x < 21){ \n",
    "            return(\"Good Evening\");\n",
    "        }\n",
    "        else if (x >= 21 && x < 25){ \n",
    "            return(\"Good Night\");   \n",
    "        }\n",
    "       else {return \"Invalid Time\";}\n",
    "    }\n",
    "}"
   ]
  },
  {
   "cell_type": "code",
   "execution_count": 26,
   "metadata": {},
   "outputs": [
    {
     "data": {
      "text/plain": [
       "Good Night"
      ]
     },
     "execution_count": 26,
     "metadata": {},
     "output_type": "execute_result"
    }
   ],
   "source": [
    "Greet.greet(23)"
   ]
  },
  {
   "cell_type": "code",
   "execution_count": 27,
   "metadata": {},
   "outputs": [
    {
     "data": {
      "text/plain": [
       "defined class Student\n",
       "stu1 = Student@257c1e55\n",
       "name_stu = John Doe\n",
       "sex_stu = M\n",
       "grade_stu = 15\n",
       "age_stu = 23\n"
      ]
     },
     "metadata": {},
     "output_type": "display_data"
    },
    {
     "data": {
      "text/plain": [
       "23"
      ]
     },
     "execution_count": 27,
     "metadata": {},
     "output_type": "execute_result"
    }
   ],
   "source": [
    "class Student (nameOfStudent: String, sexOfStudent: Char, gradeOfStudent: Int, ageOfStudent :Int) {\n",
    "   var name : String = nameOfStudent;\n",
    "   var sex : Char = sexOfStudent;\n",
    "   var grade : Int = gradeOfStudent;\n",
    "   var age : Int = ageOfStudent;\n",
    "}\n",
    "var stu1 = new Student(\"John Doe\", 'M', 15, 23 );\n",
    "\n",
    "var name_stu = stu1.name\n",
    "var sex_stu = stu1.sex\n",
    "var grade_stu = stu1.grade\n",
    "var age_stu = stu1.age"
   ]
  },
  {
   "cell_type": "code",
   "execution_count": 28,
   "metadata": {},
   "outputs": [
    {
     "data": {
      "text/plain": [
       "defined class Student\n"
      ]
     },
     "metadata": {},
     "output_type": "display_data"
    }
   ],
   "source": [
    "import java.io._\n",
    "\n",
    "class Student()\n",
    "{\n",
    "    var name:String=\"\";\n",
    "    var sex:Char='a';\n",
    "    var grade:Int=0;\n",
    "    var age:Int=0;\n",
    "    \n",
    "    def this(sname:String, ssex :Char, sgrade :Int, sage :Int)\n",
    "    {\n",
    "        this();\n",
    "        this.name = sname;\n",
    "        this.sex = ssex;\n",
    "        this.grade = sgrade;\n",
    "        this.age =sage;\n",
    "\n",
    "    }\n",
    "\n",
    "    def this(sname:String)\n",
    "    {\n",
    "        this();\n",
    "        this.name = sname;\n",
    "\n",
    "    }\n",
    "    def this(sname:String, ssex:Char)\n",
    "    {\n",
    "        this();\n",
    "        this.name = sname;\n",
    "        this.sex = ssex;\n",
    "\n",
    "    }\n",
    "}"
   ]
  },
  {
   "cell_type": "code",
   "execution_count": 29,
   "metadata": {},
   "outputs": [
    {
     "data": {
      "text/plain": [
       "stu = Student@5bd0d9b9\n"
      ]
     },
     "metadata": {},
     "output_type": "display_data"
    },
    {
     "data": {
      "text/plain": [
       "$line104.$read$$iw$$iw$Student@5bd0d9b9"
      ]
     },
     "execution_count": 29,
     "metadata": {},
     "output_type": "execute_result"
    }
   ],
   "source": [
    "var stu = new Student(\"Dey\");"
   ]
  },
  {
   "cell_type": "code",
   "execution_count": 30,
   "metadata": {},
   "outputs": [
    {
     "data": {
      "text/plain": [
       "stu = Student@5096d4ea\n"
      ]
     },
     "metadata": {},
     "output_type": "display_data"
    },
    {
     "data": {
      "text/plain": [
       "$line104.$read$$iw$$iw$Student@5096d4ea"
      ]
     },
     "execution_count": 30,
     "metadata": {},
     "output_type": "execute_result"
    }
   ],
   "source": [
    "var stu = new Student(\"Mack\", 'F');"
   ]
  },
  {
   "cell_type": "code",
   "execution_count": 31,
   "metadata": {},
   "outputs": [
    {
     "data": {
      "text/plain": [
       "stu = Student@a76abba\n"
      ]
     },
     "metadata": {},
     "output_type": "display_data"
    },
    {
     "data": {
      "text/plain": [
       "$line104.$read$$iw$$iw$Student@a76abba"
      ]
     },
     "execution_count": 31,
     "metadata": {},
     "output_type": "execute_result"
    }
   ],
   "source": [
    "var stu = new Student(\"Doe\", 'F', 8, 16);"
   ]
  },
  {
   "cell_type": "code",
   "execution_count": 32,
   "metadata": {},
   "outputs": [
    {
     "data": {
      "text/plain": [
       "name_stu = Doe\n",
       "sex_stu = F\n",
       "grade_stu = 8\n",
       "age_stu = 16\n"
      ]
     },
     "metadata": {},
     "output_type": "display_data"
    },
    {
     "data": {
      "text/plain": [
       "16"
      ]
     },
     "execution_count": 32,
     "metadata": {},
     "output_type": "execute_result"
    }
   ],
   "source": [
    "var name_stu = stu.name\n",
    "var sex_stu = stu.sex\n",
    "var grade_stu = stu.grade\n",
    "var age_stu = stu.age"
   ]
  },
  {
   "cell_type": "code",
   "execution_count": 40,
   "metadata": {},
   "outputs": [
    {
     "data": {
      "text/plain": [
       "defined object Calc\n"
      ]
     },
     "metadata": {},
     "output_type": "display_data"
    }
   ],
   "source": [
    "object Calc {\n",
    "    def calcSum(x:Int, y:Int): Int = {\n",
    "        var a:Int = 0\n",
    "        var sum: Int = 0\n",
    "        for (a <- x to y) {\n",
    "            sum += a\n",
    "        }\n",
    "        return sum\n",
    "    }\n",
    "}"
   ]
  },
  {
   "cell_type": "code",
   "execution_count": 41,
   "metadata": {},
   "outputs": [
    {
     "data": {
      "text/plain": [
       "26"
      ]
     },
     "execution_count": 41,
     "metadata": {},
     "output_type": "execute_result"
    }
   ],
   "source": [
    "Calc.calcSum(5,8)"
   ]
  },
  {
   "cell_type": "code",
   "execution_count": 44,
   "metadata": {},
   "outputs": [
    {
     "data": {
      "text/plain": [
       "strArray = Array(John, Doe, Jane, Sach)\n"
      ]
     },
     "metadata": {},
     "output_type": "display_data"
    },
    {
     "data": {
      "text/plain": [
       "[John, Doe, Jane, Sach]"
      ]
     },
     "execution_count": 44,
     "metadata": {},
     "output_type": "execute_result"
    }
   ],
   "source": [
    "var strArray = Array(\"John\",\"Doe\",\"Jane\",\"Sach\")"
   ]
  },
  {
   "cell_type": "code",
   "execution_count": 46,
   "metadata": {},
   "outputs": [],
   "source": [
    "import Array._"
   ]
  },
  {
   "cell_type": "code",
   "execution_count": 49,
   "metadata": {},
   "outputs": [
    {
     "data": {
      "text/plain": [
       "numArray = Array(10, 12, 14, 16, 18, 20)\n"
      ]
     },
     "metadata": {},
     "output_type": "display_data"
    },
    {
     "data": {
      "text/plain": [
       "[10, 12, 14, 16, 18, 20]"
      ]
     },
     "execution_count": 49,
     "metadata": {},
     "output_type": "execute_result"
    }
   ],
   "source": [
    "var numArray = range(10,21,2)"
   ]
  },
  {
   "cell_type": "code",
   "execution_count": 50,
   "metadata": {},
   "outputs": [
    {
     "data": {
      "text/plain": [
       "strList = List(apple, banana, mango, orange, pears)\n"
      ]
     },
     "metadata": {},
     "output_type": "display_data"
    },
    {
     "data": {
      "text/plain": [
       "List(apple, banana, mango, orange, pears)"
      ]
     },
     "execution_count": 50,
     "metadata": {},
     "output_type": "execute_result"
    }
   ],
   "source": [
    "var strList = List(\"apple\",\"banana\",\"mango\",\"orange\",\"pears\")"
   ]
  },
  {
   "cell_type": "code",
   "execution_count": 51,
   "metadata": {},
   "outputs": [
    {
     "data": {
      "text/plain": [
       "intSet = Set(2, 4, 17, 19)\n"
      ]
     },
     "metadata": {},
     "output_type": "display_data"
    },
    {
     "data": {
      "text/plain": [
       "Set(2, 4, 17, 19)"
      ]
     },
     "execution_count": 51,
     "metadata": {},
     "output_type": "execute_result"
    }
   ],
   "source": [
    "var intSet = Set(2,4,17,19)"
   ]
  },
  {
   "cell_type": "code",
   "execution_count": 54,
   "metadata": {},
   "outputs": [
    {
     "data": {
      "text/plain": [
       "charMap = Map(A -> 1, B -> 2, C -> 3)\n"
      ]
     },
     "metadata": {},
     "output_type": "display_data"
    },
    {
     "data": {
      "text/plain": [
       "Map(A -> 1, B -> 2, C -> 3)"
      ]
     },
     "execution_count": 54,
     "metadata": {},
     "output_type": "execute_result"
    }
   ],
   "source": [
    "var charMap= Map('A'->1,'B'->2,'C'->3)"
   ]
  },
  {
   "cell_type": "code",
   "execution_count": 55,
   "metadata": {},
   "outputs": [
    {
     "data": {
      "text/plain": [
       "myTuple = (5,Hello,100)\n"
      ]
     },
     "metadata": {},
     "output_type": "display_data"
    },
    {
     "data": {
      "text/plain": [
       "(5,Hello,100)"
      ]
     },
     "execution_count": 55,
     "metadata": {},
     "output_type": "execute_result"
    }
   ],
   "source": [
    "var myTuple = (5, \"Hello\", 100)"
   ]
  },
  {
   "cell_type": "code",
   "execution_count": 56,
   "metadata": {},
   "outputs": [
    {
     "data": {
      "text/plain": [
       "myIter = non-empty iterator\n"
      ]
     },
     "metadata": {},
     "output_type": "display_data"
    },
    {
     "data": {
      "text/plain": [
       "non-empty iterator"
      ]
     },
     "execution_count": 56,
     "metadata": {},
     "output_type": "execute_result"
    }
   ],
   "source": [
    "val myIter = Iterator(\"I\",\"am\",\"going\")\n"
   ]
  },
  {
   "cell_type": "code",
   "execution_count": 59,
   "metadata": {},
   "outputs": [],
   "source": [
    "import java.io._"
   ]
  },
  {
   "cell_type": "code",
   "execution_count": 65,
   "metadata": {},
   "outputs": [
    {
     "data": {
      "text/plain": [
       "writer = java.io.PrintWriter@7e0f6dd0\n"
      ]
     },
     "metadata": {},
     "output_type": "display_data"
    },
    {
     "data": {
      "text/plain": [
       "java.io.PrintWriter@7e0f6dd0"
      ]
     },
     "execution_count": 65,
     "metadata": {},
     "output_type": "execute_result"
    }
   ],
   "source": [
    "val writer = new PrintWriter(new File(\"New.txt\"))\n",
    "writer.write(\"Hello Scala\")\n",
    "writer.write(\"\\n\")\n",
    "writer.write(\"Bye Scala\")\n",
    "writer.close()"
   ]
  },
  {
   "cell_type": "code",
   "execution_count": 63,
   "metadata": {},
   "outputs": [],
   "source": [
    "import scala.io.Source"
   ]
  },
  {
   "cell_type": "code",
   "execution_count": 66,
   "metadata": {},
   "outputs": [
    {
     "name": "stdout",
     "output_type": "stream",
     "text": [
      "Hello Scala\n",
      "Bye Scala"
     ]
    }
   ],
   "source": [
    "Source.fromFile(\"New.txt\").foreach{\n",
    "    print\n",
    "}"
   ]
  },
  {
   "cell_type": "code",
   "execution_count": null,
   "metadata": {},
   "outputs": [],
   "source": []
  }
 ],
 "metadata": {
  "kernelspec": {
   "display_name": "Apache Toree - Scala",
   "language": "scala",
   "name": "apache_toree_scala"
  },
  "language_info": {
   "codemirror_mode": "text/x-scala",
   "file_extension": ".scala",
   "mimetype": "text/x-scala",
   "name": "scala",
   "pygments_lexer": "scala",
   "version": "2.11.8"
  },
  "toc": {
   "base_numbering": 1,
   "nav_menu": {},
   "number_sections": true,
   "sideBar": true,
   "skip_h1_title": false,
   "title_cell": "Table of Contents",
   "title_sidebar": "Contents",
   "toc_cell": false,
   "toc_position": {},
   "toc_section_display": true,
   "toc_window_display": false
  }
 },
 "nbformat": 4,
 "nbformat_minor": 2
}
