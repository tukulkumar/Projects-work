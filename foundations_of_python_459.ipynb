{
 "cells": [
  {
   "cell_type": "code",
   "execution_count": null,
   "metadata": {},
   "outputs": [],
   "source": [
    "2+3"
   ]
  },
  {
   "cell_type": "code",
   "execution_count": 42,
   "metadata": {},
   "outputs": [],
   "source": [
    "l = [1,2,3]    \n",
    "a, b, c = l"
   ]
  },
  {
   "cell_type": "code",
   "execution_count": 44,
   "metadata": {},
   "outputs": [
    {
     "name": "stdout",
     "output_type": "stream",
     "text": [
      "1 2\n"
     ]
    }
   ],
   "source": [
    "a,b =b,a\n",
    "print(a,b)"
   ]
  },
  {
   "cell_type": "code",
   "execution_count": 38,
   "metadata": {},
   "outputs": [],
   "source": [
    "l = [(0,23,34), (2,34,23), (1,34,23)]\n",
    "l.sort()"
   ]
  },
  {
   "cell_type": "code",
   "execution_count": 39,
   "metadata": {},
   "outputs": [
    {
     "name": "stdout",
     "output_type": "stream",
     "text": [
      "59\n"
     ]
    }
   ],
   "source": [
    "print(sum(l[2]))"
   ]
  },
  {
   "cell_type": "code",
   "execution_count": 41,
   "metadata": {},
   "outputs": [
    {
     "name": "stdout",
     "output_type": "stream",
     "text": [
      "[(2, 34, 23), (1, 34, 23), (0, 23, 34)]\n"
     ]
    }
   ],
   "source": [
    "l.sort(reverse=True)\n",
    "print(l)"
   ]
  },
  {
   "cell_type": "code",
   "execution_count": 37,
   "metadata": {},
   "outputs": [
    {
     "data": {
      "text/plain": [
       "True"
      ]
     },
     "execution_count": 37,
     "metadata": {},
     "output_type": "execute_result"
    }
   ],
   "source": [
    "(0, 1, 2) < (0, 3)"
   ]
  },
  {
   "cell_type": "code",
   "execution_count": 31,
   "metadata": {},
   "outputs": [
    {
     "name": "stdout",
     "output_type": "stream",
     "text": [
      "9\n",
      "34\n"
     ]
    }
   ],
   "source": [
    "t = (1,3,5,2,54,34,2,34,5)\n",
    "l = len(t)\n",
    "print(len(t))\n",
    "print(t[l-2])"
   ]
  },
  {
   "cell_type": "code",
   "execution_count": 36,
   "metadata": {},
   "outputs": [
    {
     "name": "stdout",
     "output_type": "stream",
     "text": [
      "61\n",
      "(3, 5, 5, 2, 54)\n",
      "69\n"
     ]
    }
   ],
   "source": [
    "t2 = t[2:5]\n",
    "print(sum(t2))\n",
    "t3 = t[1:3] + t2[:]\n",
    "print(t3)\n",
    "print(sum(t3))"
   ]
  },
  {
   "cell_type": "code",
   "execution_count": null,
   "metadata": {},
   "outputs": [],
   "source": [
    "x = 40"
   ]
  },
  {
   "cell_type": "code",
   "execution_count": null,
   "metadata": {},
   "outputs": [],
   "source": [
    "x"
   ]
  },
  {
   "cell_type": "code",
   "execution_count": null,
   "metadata": {},
   "outputs": [],
   "source": [
    "x = 2\n",
    "x  = x + 2\n",
    "print (x)"
   ]
  },
  {
   "cell_type": "code",
   "execution_count": null,
   "metadata": {},
   "outputs": [],
   "source": [
    "x  = x + 2\n",
    "print (x)"
   ]
  },
  {
   "cell_type": "code",
   "execution_count": null,
   "metadata": {},
   "outputs": [],
   "source": [
    "if x < 10 :\n",
    "    print('smaller')\n",
    "if x > 20:\n",
    "    print('Bigger')\n",
    "print('End')"
   ]
  },
  {
   "cell_type": "code",
   "execution_count": null,
   "metadata": {},
   "outputs": [],
   "source": [
    "n = 5\n",
    "while n >  0:\n",
    "    print (n)\n",
    "    n = n - 1\n",
    "print ('Blastoff')"
   ]
  },
  {
   "cell_type": "code",
   "execution_count": null,
   "metadata": {},
   "outputs": [],
   "source": [
    "#this is comment\n",
    "print ('Hello')"
   ]
  },
  {
   "cell_type": "code",
   "execution_count": null,
   "metadata": {},
   "outputs": [],
   "source": [
    "2^3"
   ]
  },
  {
   "cell_type": "code",
   "execution_count": null,
   "metadata": {},
   "outputs": [],
   "source": [
    "2**3"
   ]
  },
  {
   "cell_type": "code",
   "execution_count": null,
   "metadata": {},
   "outputs": [],
   "source": [
    "14%3"
   ]
  },
  {
   "cell_type": "code",
   "execution_count": null,
   "metadata": {},
   "outputs": [],
   "source": [
    "5/3"
   ]
  },
  {
   "cell_type": "code",
   "execution_count": null,
   "metadata": {},
   "outputs": [],
   "source": [
    "5//3"
   ]
  },
  {
   "cell_type": "code",
   "execution_count": null,
   "metadata": {},
   "outputs": [],
   "source": [
    "5%3"
   ]
  },
  {
   "cell_type": "code",
   "execution_count": null,
   "metadata": {},
   "outputs": [],
   "source": [
    "x=1+2*3-4/5**6"
   ]
  },
  {
   "cell_type": "code",
   "execution_count": null,
   "metadata": {},
   "outputs": [],
   "source": [
    "print (x)"
   ]
  },
  {
   "cell_type": "code",
   "execution_count": null,
   "metadata": {},
   "outputs": [],
   "source": [
    "1+2**3/4*5"
   ]
  },
  {
   "cell_type": "code",
   "execution_count": null,
   "metadata": {},
   "outputs": [],
   "source": [
    "type (x)"
   ]
  },
  {
   "cell_type": "code",
   "execution_count": null,
   "metadata": {},
   "outputs": [],
   "source": [
    "name = input ('who are you?')"
   ]
  },
  {
   "cell_type": "code",
   "execution_count": null,
   "metadata": {},
   "outputs": [],
   "source": [
    "print(\"Welcome : \" + name)"
   ]
  },
  {
   "cell_type": "code",
   "execution_count": null,
   "metadata": {},
   "outputs": [],
   "source": [
    "25*4\n"
   ]
  },
  {
   "cell_type": "code",
   "execution_count": null,
   "metadata": {},
   "outputs": [],
   "source": [
    "print(5/2)"
   ]
  },
  {
   "cell_type": "code",
   "execution_count": null,
   "metadata": {},
   "outputs": [],
   "source": [
    "(5000*10*4)/100\n"
   ]
  },
  {
   "cell_type": "code",
   "execution_count": null,
   "metadata": {},
   "outputs": [],
   "source": [
    "4**2\n"
   ]
  },
  {
   "cell_type": "code",
   "execution_count": null,
   "metadata": {},
   "outputs": [],
   "source": [
    "print(1 + 2 ** 3 // 4 * 5)"
   ]
  },
  {
   "cell_type": "code",
   "execution_count": null,
   "metadata": {},
   "outputs": [],
   "source": [
    "8//4"
   ]
  },
  {
   "cell_type": "code",
   "execution_count": null,
   "metadata": {},
   "outputs": [],
   "source": [
    "bank_balance = 200\n",
    "print(bank_balance)"
   ]
  },
  {
   "cell_type": "code",
   "execution_count": null,
   "metadata": {},
   "outputs": [],
   "source": [
    "my_int = 20"
   ]
  },
  {
   "cell_type": "code",
   "execution_count": null,
   "metadata": {},
   "outputs": [],
   "source": [
    "my_float = 15.85"
   ]
  },
  {
   "cell_type": "code",
   "execution_count": null,
   "metadata": {},
   "outputs": [],
   "source": [
    "my_string = 'Hello World'"
   ]
  },
  {
   "cell_type": "code",
   "execution_count": null,
   "metadata": {},
   "outputs": [],
   "source": [
    "my_bool = True"
   ]
  },
  {
   "cell_type": "code",
   "execution_count": null,
   "metadata": {},
   "outputs": [],
   "source": [
    "height = 60\n",
    "width = 40\n",
    "new_area_of_rectangle = height * width\n",
    "print(new_area_of_rectangle)"
   ]
  },
  {
   "cell_type": "code",
   "execution_count": null,
   "metadata": {},
   "outputs": [],
   "source": [
    "height = 1.7\n",
    "weight = 72.25\n",
    "bmi = weight // (height * height)\n",
    "bmi = int(bmi)\n",
    "print(bmi)"
   ]
  },
  {
   "cell_type": "code",
   "execution_count": null,
   "metadata": {},
   "outputs": [],
   "source": [
    "gender = \"male\""
   ]
  },
  {
   "cell_type": "code",
   "execution_count": null,
   "metadata": {},
   "outputs": [],
   "source": [
    "is_obese = False"
   ]
  },
  {
   "cell_type": "code",
   "execution_count": null,
   "metadata": {},
   "outputs": [],
   "source": [
    "height = 20\n",
    "width = 80\n",
    "area_of_rectangle = height * width"
   ]
  },
  {
   "cell_type": "code",
   "execution_count": null,
   "metadata": {},
   "outputs": [],
   "source": [
    "print(area_of_rectangle)"
   ]
  },
  {
   "cell_type": "code",
   "execution_count": null,
   "metadata": {},
   "outputs": [],
   "source": [
    "print(\"game\"+str(1))"
   ]
  },
  {
   "cell_type": "code",
   "execution_count": null,
   "metadata": {},
   "outputs": [],
   "source": [
    "total_interest = 9762.69"
   ]
  },
  {
   "cell_type": "code",
   "execution_count": null,
   "metadata": {},
   "outputs": [],
   "source": [
    "type(total_interest)"
   ]
  },
  {
   "cell_type": "code",
   "execution_count": null,
   "metadata": {},
   "outputs": [],
   "source": [
    "type(area_of_rectangle)"
   ]
  },
  {
   "cell_type": "code",
   "execution_count": null,
   "metadata": {},
   "outputs": [],
   "source": [
    "bmi = 25"
   ]
  },
  {
   "cell_type": "code",
   "execution_count": null,
   "metadata": {},
   "outputs": [],
   "source": [
    "bmi_str = str(bmi)\n",
    "message = \"BMI is \" + bmi_str\n",
    "print(message)"
   ]
  },
  {
   "cell_type": "code",
   "execution_count": null,
   "metadata": {},
   "outputs": [],
   "source": [
    "first = 'Cloudx'\n",
    "second = 'Lab'\n",
    "final = first + second\n",
    "print(final)"
   ]
  },
  {
   "cell_type": "code",
   "execution_count": null,
   "metadata": {},
   "outputs": [],
   "source": [
    "animal = 'cat'\n",
    "ten_animals = animal * 10"
   ]
  },
  {
   "cell_type": "code",
   "execution_count": null,
   "metadata": {},
   "outputs": [],
   "source": []
  },
  {
   "cell_type": "code",
   "execution_count": null,
   "metadata": {},
   "outputs": [],
   "source": [
    "ihours = input('Hours: ')\n",
    "irate = input ('Rate: ')\n",
    "hours = int(ihours)\n",
    "rate = int (irate)\n",
    "normal_pay=0\n",
    "extra=0\n",
    "pay = 0\n",
    "if hours > 40:\n",
    "    extra = (hours - 40) * rate * 1.5\n",
    "    normal_pay = 40 * rate\n",
    "    pay = extra + normal_pay\n",
    "else:\n",
    "    normal_pay = hours * rate\n",
    "    pay = normal_pay\n",
    "print(pay)\n",
    "\n"
   ]
  },
  {
   "cell_type": "code",
   "execution_count": null,
   "metadata": {},
   "outputs": [],
   "source": [
    "try:\n",
    "    ihours = input('Hours: ')\n",
    "    irate = input ('Rate: ')\n",
    "    hours = int(ihours)\n",
    "    rate = int (irate)\n",
    "    normal_pay=0\n",
    "    extra=0\n",
    "    pay = 0\n",
    "    if hours > 40:\n",
    "        extra = (hours - 40) * rate * 1.5\n",
    "        normal_pay = 40 * rate\n",
    "        pay = extra + normal_pay\n",
    "    else:\n",
    "        normal_pay = hours * rate\n",
    "        pay = normal_pay\n",
    "    print(pay)\n",
    "except:\n",
    "    print('Please enter valid values')\n",
    "        "
   ]
  },
  {
   "cell_type": "code",
   "execution_count": null,
   "metadata": {},
   "outputs": [],
   "source": [
    "#Reactangle cordinated\n",
    "left_top_x = 0\n",
    "left_top_y = 0\n",
    "right_bottom_x = 10\n",
    "right_bottom_y = 20\n",
    "x = int(input(\"Enter x: \"))\n",
    "y = int(input('Entet y: '))\n",
    "if x > left_top_x and x < right_bottom_x and y > left_top_y and y < right_bottom_y:\n",
    "    print('Point is inside rectangle')\n",
    "else:\n",
    "    print('Point is outside rectangle')"
   ]
  },
  {
   "cell_type": "code",
   "execution_count": null,
   "metadata": {},
   "outputs": [],
   "source": [
    "def pay(h,r):\n",
    "    if(h>40):\n",
    "        print((h-40)*r*1.5+40*r)\n",
    "    else:\n",
    "        print(h*r)"
   ]
  },
  {
   "cell_type": "code",
   "execution_count": null,
   "metadata": {},
   "outputs": [],
   "source": [
    "pay(45,10)"
   ]
  },
  {
   "cell_type": "code",
   "execution_count": null,
   "metadata": {},
   "outputs": [],
   "source": [
    "def pay_calculator (hours,rate):\n",
    "    if(hours>40):\n",
    "        total_pay = ((hours-40)*rate*1.5+40*rate)\n",
    "        \n",
    "    else:\n",
    "        total_pay = (hours*rate)\n",
    "    return(total_pay)"
   ]
  },
  {
   "cell_type": "code",
   "execution_count": null,
   "metadata": {},
   "outputs": [],
   "source": [
    "pay_calculator(45,10)"
   ]
  },
  {
   "cell_type": "code",
   "execution_count": null,
   "metadata": {},
   "outputs": [],
   "source": [
    "print(max('Hello world'))"
   ]
  },
  {
   "cell_type": "code",
   "execution_count": null,
   "metadata": {},
   "outputs": [],
   "source": [
    "area_of_circle = 78.5\n",
    "area_of_circle = str(area_of_circle)\n",
    "area_of_circle_msg = \"Area of the circle is - \" + area_of_circle\n",
    "print(area_of_circle_msg)"
   ]
  },
  {
   "cell_type": "code",
   "execution_count": null,
   "metadata": {},
   "outputs": [],
   "source": [
    "len('cloudxlab')"
   ]
  },
  {
   "cell_type": "code",
   "execution_count": null,
   "metadata": {},
   "outputs": [],
   "source": [
    "max('cloudxlab')\n"
   ]
  },
  {
   "cell_type": "code",
   "execution_count": null,
   "metadata": {},
   "outputs": [],
   "source": [
    "min('cloudxlab')"
   ]
  },
  {
   "cell_type": "code",
   "execution_count": null,
   "metadata": {},
   "outputs": [],
   "source": [
    "square_area = 8.9*8.9\n",
    "square_area_type = type(square_area)\n",
    "square_area_int = int(square_area)\n",
    "square_area_str = str(square_area_int)\n",
    "print (square_area)\n",
    "print (square_area_type)\n",
    "print (square_area_int)\n",
    "print (square_area_str)\n"
   ]
  },
  {
   "cell_type": "code",
   "execution_count": null,
   "metadata": {},
   "outputs": [],
   "source": [
    "import math\n",
    "print (math)"
   ]
  },
  {
   "cell_type": "code",
   "execution_count": null,
   "metadata": {},
   "outputs": [],
   "source": [
    "math.log10(1000)"
   ]
  },
  {
   "cell_type": "code",
   "execution_count": null,
   "metadata": {},
   "outputs": [],
   "source": [
    "math.cos(0)"
   ]
  },
  {
   "cell_type": "code",
   "execution_count": null,
   "metadata": {},
   "outputs": [],
   "source": [
    "import math\n",
    "square_root = math.sqrt(56.98)\n",
    "print(square_root)\n",
    "#sin_rad = 26/360*2*math.pi\n",
    "sin_rad = math.radians(26)\n",
    "print(sin_rad)\n",
    "#print(math.radians(26))\n",
    "sin_degree = math.sin(math.radians(26))\n",
    "print (sin_degree)\n",
    "log_e = math.log(1000)\n",
    "print(log_e)"
   ]
  },
  {
   "cell_type": "code",
   "execution_count": null,
   "metadata": {},
   "outputs": [],
   "source": [
    "for a in range(10):\n",
    "    import random\n",
    "    number = random.random()\n",
    "    print(number)"
   ]
  },
  {
   "cell_type": "code",
   "execution_count": null,
   "metadata": {},
   "outputs": [],
   "source": [
    "import random\n",
    "random_number = random.random()\n",
    "random_int = int(random_number)\n",
    "print(random_number)\n",
    "print(random_int)"
   ]
  },
  {
   "cell_type": "code",
   "execution_count": null,
   "metadata": {},
   "outputs": [],
   "source": [
    "def print_name():\n",
    "    name = \"Cloudxlab\"        \n",
    "    print(\"My name is\", name)"
   ]
  },
  {
   "cell_type": "code",
   "execution_count": null,
   "metadata": {},
   "outputs": [],
   "source": [
    "print(type(print_name))"
   ]
  },
  {
   "cell_type": "code",
   "execution_count": null,
   "metadata": {},
   "outputs": [],
   "source": [
    "def get_name():\n",
    "    print(\"Cloudxlab\")\n",
    "get_name()"
   ]
  },
  {
   "cell_type": "code",
   "execution_count": null,
   "metadata": {},
   "outputs": [],
   "source": [
    "def print_name(value):\n",
    "    x = value\n",
    "    print(value)\n",
    "print_name(str(math.cos(0)))"
   ]
  },
  {
   "cell_type": "code",
   "execution_count": null,
   "metadata": {},
   "outputs": [],
   "source": [
    "def multiply(message, *args):\n",
    "    output = 1\n",
    "    for arg in args:\n",
    "        output *= arg\n",
    "    return message + \" \" + str(output)\n",
    "\n",
    "multiply_value = multiply(\"My Sum:\", 1, 2, 4, 6)\n",
    "print(multiply_value)"
   ]
  },
  {
   "cell_type": "code",
   "execution_count": null,
   "metadata": {},
   "outputs": [],
   "source": [
    "def multiply(premessage, *args, message):\n",
    "    output = 1\n",
    "    for arg in args:\n",
    "        output *= arg\n",
    "    return premessage + \" \" + str(output) + \" \" + message\n",
    "\n",
    "multiply_value = multiply(\"Starting calculation:\", 2, 4, 6, message=\"My Sum:\")\n",
    "print(multiply_value)"
   ]
  },
  {
   "cell_type": "code",
   "execution_count": null,
   "metadata": {},
   "outputs": [],
   "source": [
    "def groupdata(message, **kwargs):\n",
    "    grouped_data = {}\n",
    "    for key, value in kwargs.items():\n",
    "        grouped_data[key.split(\"_\")[0]] = grouped_data.get(key.split(\"_\")[0], 0) + value\n",
    "    return message + \" \" + str(grouped_data)\n",
    "\n",
    "summary = groupdata(\n",
    "    \"My fruits:\",\n",
    "    apple_indian = 3,\n",
    "    orange_indian = 5,\n",
    "    apple_mexican = 6,\n",
    "    orange_mexica = 7,\n",
    "    banana=11\n",
    ")\n",
    "print(summary)"
   ]
  },
  {
   "cell_type": "code",
   "execution_count": null,
   "metadata": {},
   "outputs": [],
   "source": [
    "def my_function(number):\n",
    "    xyz = number\n",
    "    xyz_str = str(xyz)\n",
    "    xyz_str = xyz_str + 'cloudxlab'\n",
    "    print(xyz_str)\n",
    "my_function(10)"
   ]
  },
  {
   "cell_type": "code",
   "execution_count": null,
   "metadata": {},
   "outputs": [],
   "source": [
    "def new_function (num):\n",
    "    import math\n",
    "    return math.pi * num\n",
    "def void_function(num1,num2):\n",
    "    a=new_function(num1**num2)\n",
    "    print(a) "
   ]
  },
  {
   "cell_type": "code",
   "execution_count": null,
   "metadata": {},
   "outputs": [],
   "source": [
    "void_function(4.6,7.3)"
   ]
  },
  {
   "cell_type": "code",
   "execution_count": null,
   "metadata": {},
   "outputs": [],
   "source": [
    "def input_name():\n",
    "    inp_user = input('What am I studing? ')\n",
    "    return (inp_user)\n"
   ]
  },
  {
   "cell_type": "code",
   "execution_count": null,
   "metadata": {},
   "outputs": [],
   "source": [
    "subject = input_name()\n",
    "print (subject)"
   ]
  },
  {
   "cell_type": "code",
   "execution_count": null,
   "metadata": {},
   "outputs": [],
   "source": [
    "def is_on_line(x1,x2,x):\n",
    "    if x>=x1 and x<=x2:\n",
    "        return True\n",
    "    elif x<=x1 and x>=x2:\n",
    "        return True\n",
    "    else:\n",
    "        return False"
   ]
  },
  {
   "cell_type": "code",
   "execution_count": null,
   "metadata": {},
   "outputs": [],
   "source": [
    "is_on_line(10,20,30)"
   ]
  },
  {
   "cell_type": "code",
   "execution_count": null,
   "metadata": {},
   "outputs": [],
   "source": [
    "is_on_line(10,20,20)"
   ]
  },
  {
   "cell_type": "code",
   "execution_count": null,
   "metadata": {},
   "outputs": [],
   "source": [
    "is_on_line(10,20,-10)"
   ]
  },
  {
   "cell_type": "code",
   "execution_count": null,
   "metadata": {},
   "outputs": [],
   "source": [
    "is_on_line(-4,-5,-4.5)"
   ]
  },
  {
   "cell_type": "code",
   "execution_count": null,
   "metadata": {},
   "outputs": [],
   "source": [
    "def conditional_statements (num1, num2, num3, num4):\n",
    "    if num1<num2 and num1>num3  and num1 == num4:\n",
    "        if num3<num1 and num3<num2 and num3<num4:\n",
    "            if type(num2) == float:\n",
    "                if type(num1) == int and type(num3) == int and type(num4)==int:\n",
    "                    return num1+num2+num3+num4\n",
    "                else: return None\n",
    "            else: return None\n",
    "        else: return None\n",
    "    else: return None\n",
    "    "
   ]
  },
  {
   "cell_type": "code",
   "execution_count": null,
   "metadata": {},
   "outputs": [],
   "source": [
    "conditional_statements(4,5.1,2,4)"
   ]
  },
  {
   "cell_type": "code",
   "execution_count": null,
   "metadata": {},
   "outputs": [],
   "source": [
    "def except_func(num):\n",
    "    try:\n",
    "        x  = num * num\n",
    "        return x\n",
    "    except:\n",
    "        return 'invalid number'"
   ]
  },
  {
   "cell_type": "code",
   "execution_count": null,
   "metadata": {},
   "outputs": [],
   "source": [
    "except_func(\"sample\")"
   ]
  },
  {
   "cell_type": "code",
   "execution_count": null,
   "metadata": {
    "code_folding": []
   },
   "outputs": [],
   "source": [
    "x =[19,2.5,13,11,7,11,9,10]\n"
   ]
  },
  {
   "cell_type": "code",
   "execution_count": null,
   "metadata": {},
   "outputs": [],
   "source": [
    "#stock =[19,2.5,13,11,7,11,9,10]\n",
    "stock=[10,8,5,4,1,2,3,4,5,6,7,8,9,10,18,7,7.5,9,10,12,15,16]\n",
    "profit = 0\n",
    "buy = 0\n",
    "sell = 0\n",
    "for buy in stock:\n",
    "    for sell in stock:\n",
    "        if sell-buy > profit and stock.index(buy) < stock.index(sell):\n",
    "            profit = sell - buy\n",
    "            buy_price = buy\n",
    "            sell_price = sell\n",
    "print ('profit =', profit, 'Buy Price = ', buy_price, 'Sell Price = ', sell_price)"
   ]
  },
  {
   "cell_type": "code",
   "execution_count": null,
   "metadata": {},
   "outputs": [],
   "source": [
    "def print_even(n):\n",
    "    for i in range(n):\n",
    "        if i%2 == 0:\n",
    "            print (i)\n"
   ]
  },
  {
   "cell_type": "code",
   "execution_count": null,
   "metadata": {},
   "outputs": [],
   "source": [
    "print_even(5)"
   ]
  },
  {
   "cell_type": "code",
   "execution_count": 1,
   "metadata": {},
   "outputs": [],
   "source": [
    "def compound_interest(principle, rate, years):\n",
    "    comp_interest = 0.0\n",
    "    for i in range(years):\n",
    "        interest = principle*rate*1/100\n",
    "        principle = principle + interest\n",
    "        comp_interest = comp_interest + interest\n",
    "    return comp_interest"
   ]
  },
  {
   "cell_type": "code",
   "execution_count": 2,
   "metadata": {},
   "outputs": [
    {
     "data": {
      "text/plain": [
       "10.25"
      ]
     },
     "execution_count": 2,
     "metadata": {},
     "output_type": "execute_result"
    }
   ],
   "source": [
    "compound_interest(100,5,2)"
   ]
  },
  {
   "cell_type": "code",
   "execution_count": 3,
   "metadata": {},
   "outputs": [],
   "source": [
    "def sum_func(n):\n",
    "    a = 0\n",
    "    s = 0\n",
    "    if type(n) == int and n >= 0:\n",
    "        while a < n:\n",
    "            a = a + 1\n",
    "            s += a\n",
    "        print (s)\n",
    "    else:\n",
    "        print ('-1')"
   ]
  },
  {
   "cell_type": "code",
   "execution_count": 4,
   "metadata": {},
   "outputs": [
    {
     "name": "stdout",
     "output_type": "stream",
     "text": [
      "55\n"
     ]
    }
   ],
   "source": [
    "sum_func(10)"
   ]
  },
  {
   "cell_type": "code",
   "execution_count": null,
   "metadata": {},
   "outputs": [],
   "source": []
  },
  {
   "cell_type": "code",
   "execution_count": 1,
   "metadata": {},
   "outputs": [],
   "source": [
    "def sum_func(n):\n",
    "    a = 0\n",
    "    s = 0\n",
    "    if type(n) == int and n >= 0:\n",
    "        while a < n:\n",
    "            a = a + 1\n",
    "            s += a\n",
    "        return (s)\n",
    "    else:\n",
    "        return (-1)"
   ]
  },
  {
   "cell_type": "code",
   "execution_count": 2,
   "metadata": {},
   "outputs": [
    {
     "data": {
      "text/plain": [
       "-1"
      ]
     },
     "execution_count": 2,
     "metadata": {},
     "output_type": "execute_result"
    }
   ],
   "source": [
    "sum_func(-1)"
   ]
  },
  {
   "cell_type": "code",
   "execution_count": 5,
   "metadata": {},
   "outputs": [
    {
     "name": "stdout",
     "output_type": "stream",
     "text": [
      "Enter 1 to enter a number,  Enter 2 to stop the process\n",
      "2\n"
     ]
    }
   ],
   "source": [
    "total = 0\n",
    "while True:\n",
    "    n = input(\"Enter 1 to enter a number,  Enter 2 to stop the process\\n\")\n",
    "    if n is \"1\":\n",
    "        number = input(\"Enter the number\\n\")\n",
    "        try:\n",
    "            total = total + int(number)\n",
    "        except:\n",
    "            print(\"Please enter a valid number\\n\")\n",
    "            continue\n",
    "    elif n is \"2\": \n",
    "        break\n",
    "    else:\n",
    "        print(\"Please enter a valid choice\\n\")\n",
    "        continue"
   ]
  },
  {
   "cell_type": "code",
   "execution_count": 15,
   "metadata": {},
   "outputs": [],
   "source": [
    "def special_func(num):\n",
    "    total = 0\n",
    "    if type(num) == int and num>0:\n",
    "        i = 1\n",
    "        while i < num:\n",
    "            if num % i == 0 and i % 2 != 0:\n",
    "                total += i\n",
    "            i = i + 1\n",
    "        return (total)\n",
    "    else:\n",
    "        return (-10)"
   ]
  },
  {
   "cell_type": "code",
   "execution_count": 19,
   "metadata": {},
   "outputs": [
    {
     "data": {
      "text/plain": [
       "4"
      ]
     },
     "execution_count": 19,
     "metadata": {},
     "output_type": "execute_result"
    }
   ],
   "source": [
    "special_func(24)"
   ]
  },
  {
   "cell_type": "code",
   "execution_count": 41,
   "metadata": {},
   "outputs": [],
   "source": [
    "def str_func(arg):\n",
    "    a = len(arg)\n",
    "    return(str(arg[a-1]))"
   ]
  },
  {
   "cell_type": "code",
   "execution_count": 42,
   "metadata": {},
   "outputs": [
    {
     "data": {
      "text/plain": [
       "True"
      ]
     },
     "execution_count": 42,
     "metadata": {},
     "output_type": "execute_result"
    }
   ],
   "source": [
    "str_func(\"cloudxlab\") =='b'"
   ]
  },
  {
   "cell_type": "code",
   "execution_count": 20,
   "metadata": {},
   "outputs": [],
   "source": [
    "def sum_str_func(arg):\n",
    "    result = 0\n",
    "    if type(arg) == int:\n",
    "        arg = str(arg)\n",
    "    l = len(arg)\n",
    "    #print (l)\n",
    "    for i in range(l):\n",
    "        result += int(arg[i])\n",
    "    return (result)"
   ]
  },
  {
   "cell_type": "code",
   "execution_count": 21,
   "metadata": {},
   "outputs": [
    {
     "data": {
      "text/plain": [
       "10"
      ]
     },
     "execution_count": 21,
     "metadata": {},
     "output_type": "execute_result"
    }
   ],
   "source": [
    "sum_str_func('1234')"
   ]
  },
  {
   "cell_type": "code",
   "execution_count": 55,
   "metadata": {},
   "outputs": [],
   "source": [
    "def slicing_func(arg):\n",
    "    arg = str(arg)\n",
    "    l = len(arg)\n",
    "    print(arg[2:l])"
   ]
  },
  {
   "cell_type": "code",
   "execution_count": 56,
   "metadata": {},
   "outputs": [
    {
     "name": "stdout",
     "output_type": "stream",
     "text": [
      "llo World\n"
     ]
    }
   ],
   "source": [
    "slicing_func(\"Hello World\")"
   ]
  },
  {
   "cell_type": "code",
   "execution_count": 62,
   "metadata": {},
   "outputs": [
    {
     "ename": "TypeError",
     "evalue": "'str' object does not support item assignment",
     "output_type": "error",
     "traceback": [
      "\u001b[0;31m---------------------------------------------------------------------------\u001b[0m",
      "\u001b[0;31mTypeError\u001b[0m                                 Traceback (most recent call last)",
      "\u001b[0;32m<ipython-input-62-2bef47816709>\u001b[0m in \u001b[0;36m<module>\u001b[0;34m\u001b[0m\n\u001b[1;32m      1\u001b[0m \u001b[0ma\u001b[0m \u001b[0;34m=\u001b[0m \u001b[0;34m\"cloudxlab\"\u001b[0m\u001b[0;34m\u001b[0m\u001b[0;34m\u001b[0m\u001b[0m\n\u001b[0;32m----> 2\u001b[0;31m \u001b[0ma\u001b[0m\u001b[0;34m[\u001b[0m\u001b[0;36m1\u001b[0m\u001b[0;34m]\u001b[0m \u001b[0;34m=\u001b[0m \u001b[0;34m'm'\u001b[0m\u001b[0;34m\u001b[0m\u001b[0;34m\u001b[0m\u001b[0m\n\u001b[0m",
      "\u001b[0;31mTypeError\u001b[0m: 'str' object does not support item assignment"
     ]
    }
   ],
   "source": [
    "a = \"cloudxlab\"\n",
    "a[1] = 'm'"
   ]
  },
  {
   "cell_type": "code",
   "execution_count": 67,
   "metadata": {},
   "outputs": [
    {
     "name": "stdout",
     "output_type": "stream",
     "text": [
      "5\n"
     ]
    }
   ],
   "source": [
    "a = \"Cloudxlab is a large ed-tech platform for ml and big data\"\n",
    "count = 0\n",
    "for letter in a:\n",
    "     if letter == 'l':\n",
    "        count = count + 1\n",
    "print (count)"
   ]
  },
  {
   "cell_type": "code",
   "execution_count": 68,
   "metadata": {},
   "outputs": [
    {
     "name": "stdout",
     "output_type": "stream",
     "text": [
      "True\n"
     ]
    }
   ],
   "source": [
    "result = 'cloud' in 'cloudxlab'\n",
    "print (result)"
   ]
  },
  {
   "cell_type": "code",
   "execution_count": 69,
   "metadata": {},
   "outputs": [
    {
     "name": "stdout",
     "output_type": "stream",
     "text": [
      "False\n"
     ]
    }
   ],
   "source": [
    "string = \"machine\"\n",
    "print (string == \" machine\")"
   ]
  },
  {
   "cell_type": "code",
   "execution_count": 70,
   "metadata": {},
   "outputs": [
    {
     "data": {
      "text/plain": [
       "['__add__',\n",
       " '__class__',\n",
       " '__contains__',\n",
       " '__delattr__',\n",
       " '__dir__',\n",
       " '__doc__',\n",
       " '__eq__',\n",
       " '__format__',\n",
       " '__ge__',\n",
       " '__getattribute__',\n",
       " '__getitem__',\n",
       " '__getnewargs__',\n",
       " '__gt__',\n",
       " '__hash__',\n",
       " '__init__',\n",
       " '__init_subclass__',\n",
       " '__iter__',\n",
       " '__le__',\n",
       " '__len__',\n",
       " '__lt__',\n",
       " '__mod__',\n",
       " '__mul__',\n",
       " '__ne__',\n",
       " '__new__',\n",
       " '__reduce__',\n",
       " '__reduce_ex__',\n",
       " '__repr__',\n",
       " '__rmod__',\n",
       " '__rmul__',\n",
       " '__setattr__',\n",
       " '__sizeof__',\n",
       " '__str__',\n",
       " '__subclasshook__',\n",
       " 'capitalize',\n",
       " 'casefold',\n",
       " 'center',\n",
       " 'count',\n",
       " 'encode',\n",
       " 'endswith',\n",
       " 'expandtabs',\n",
       " 'find',\n",
       " 'format',\n",
       " 'format_map',\n",
       " 'index',\n",
       " 'isalnum',\n",
       " 'isalpha',\n",
       " 'isdecimal',\n",
       " 'isdigit',\n",
       " 'isidentifier',\n",
       " 'islower',\n",
       " 'isnumeric',\n",
       " 'isprintable',\n",
       " 'isspace',\n",
       " 'istitle',\n",
       " 'isupper',\n",
       " 'join',\n",
       " 'ljust',\n",
       " 'lower',\n",
       " 'lstrip',\n",
       " 'maketrans',\n",
       " 'partition',\n",
       " 'replace',\n",
       " 'rfind',\n",
       " 'rindex',\n",
       " 'rjust',\n",
       " 'rpartition',\n",
       " 'rsplit',\n",
       " 'rstrip',\n",
       " 'split',\n",
       " 'splitlines',\n",
       " 'startswith',\n",
       " 'strip',\n",
       " 'swapcase',\n",
       " 'title',\n",
       " 'translate',\n",
       " 'upper',\n",
       " 'zfill']"
      ]
     },
     "execution_count": 70,
     "metadata": {},
     "output_type": "execute_result"
    }
   ],
   "source": [
    "dir(string)"
   ]
  },
  {
   "cell_type": "code",
   "execution_count": 71,
   "metadata": {},
   "outputs": [
    {
     "name": "stdout",
     "output_type": "stream",
     "text": [
      "Help on built-in function upper:\n",
      "\n",
      "upper(...) method of builtins.str instance\n",
      "    S.upper() -> str\n",
      "    \n",
      "    Return a copy of S converted to uppercase.\n",
      "\n"
     ]
    }
   ],
   "source": [
    "help(string.upper)"
   ]
  },
  {
   "cell_type": "code",
   "execution_count": 72,
   "metadata": {},
   "outputs": [
    {
     "name": "stdout",
     "output_type": "stream",
     "text": [
      "CLOUDXLAB\n",
      "cloudxlab\n"
     ]
    }
   ],
   "source": [
    "a = \"cloudxlab\"\n",
    "print(a.upper())\n",
    "print(a)"
   ]
  },
  {
   "cell_type": "code",
   "execution_count": 27,
   "metadata": {},
   "outputs": [],
   "source": [
    "def email_func(str1):\n",
    "    if type(str1) is str:\n",
    "        a = str1.split(' ')\n",
    "        print (a)\n",
    "        for word in a:\n",
    "            if word.find('@') >= 0:\n",
    "                b = word\n",
    "                return(b)\n",
    "                break\n",
    "            else:\n",
    "                continue\n",
    "        return False\n",
    "    return False"
   ]
  },
  {
   "cell_type": "code",
   "execution_count": 28,
   "metadata": {},
   "outputs": [
    {
     "name": "stdout",
     "output_type": "stream",
     "text": [
      "['', 'we', 'look', 'for', 'first', '@', '@cloudxlab.com', '@cloudxlab']\n"
     ]
    },
    {
     "data": {
      "text/plain": [
       "'@'"
      ]
     },
     "execution_count": 28,
     "metadata": {},
     "output_type": "execute_result"
    }
   ],
   "source": [
    "email_func(\" we look for first @ @cloudxlab.com @cloudxlab\")"
   ]
  },
  {
   "cell_type": "code",
   "execution_count": 4,
   "metadata": {},
   "outputs": [
    {
     "name": "stdout",
     "output_type": "stream",
     "text": [
      "73\n"
     ]
    }
   ],
   "source": [
    "a = 73\n",
    "b = \"%d\" % a\n",
    "print (b)"
   ]
  },
  {
   "cell_type": "code",
   "execution_count": 3,
   "metadata": {},
   "outputs": [],
   "source": [
    "def abc (string):\n",
    "    s = string.find('@')\n",
    "    if s==-1:\n",
    "        return False\n",
    "    else:\n",
    "        email = string.split('@')\n",
    "        print (email)\n",
    "        b1 = email[0].split(' ')\n",
    "        print (b1)\n",
    "        b2 = email[1].split(' ')\n",
    "        print (b2)\n",
    "        i=len(b1)\n",
    "        e = b1[i-1] + \"@\" + b2[0]\n",
    "        return e"
   ]
  },
  {
   "cell_type": "code",
   "execution_count": 2,
   "metadata": {},
   "outputs": [
    {
     "name": "stdout",
     "output_type": "stream",
     "text": [
      "['this is first abhinav', 'cloudxlab.com and this is second sandeep', 'cloudxlab.com']\n",
      "['this', 'is', 'first', 'abhinav']\n",
      "['cloudxlab.com', 'and', 'this', 'is', 'second', 'sandeep']\n"
     ]
    },
    {
     "data": {
      "text/plain": [
       "'abhinav@cloudxlab.com'"
      ]
     },
     "execution_count": 2,
     "metadata": {},
     "output_type": "execute_result"
    }
   ],
   "source": [
    "abc(\"this is first abhinav@cloudxlab.com and this is second sandeep@cloudxlab.com\")"
   ]
  },
  {
   "cell_type": "code",
   "execution_count": 56,
   "metadata": {},
   "outputs": [
    {
     "data": {
      "text/plain": [
       "'a@'"
      ]
     },
     "execution_count": 56,
     "metadata": {},
     "output_type": "execute_result"
    }
   ],
   "source": [
    "email_func(\"a a@\")"
   ]
  },
  {
   "cell_type": "code",
   "execution_count": 5,
   "metadata": {},
   "outputs": [
    {
     "name": "stdout",
     "output_type": "stream",
     "text": [
      "3+3\n"
     ]
    }
   ],
   "source": [
    "print('%d+3' % 3)"
   ]
  },
  {
   "cell_type": "code",
   "execution_count": 6,
   "metadata": {},
   "outputs": [
    {
     "name": "stdout",
     "output_type": "stream",
     "text": [
      "%f %f %s\n"
     ]
    }
   ],
   "source": [
    "print(\"%f %f %s\")"
   ]
  },
  {
   "cell_type": "code",
   "execution_count": 13,
   "metadata": {},
   "outputs": [
    {
     "name": "stdout",
     "output_type": "stream",
     "text": [
      "12.300000 12 cloudxlab\n"
     ]
    }
   ],
   "source": [
    "print(\"%f %s %s\" % (12.3, 12, 'cloudxlab'))"
   ]
  },
  {
   "cell_type": "code",
   "execution_count": 10,
   "metadata": {},
   "outputs": [
    {
     "name": "stdout",
     "output_type": "stream",
     "text": [
      "23 is an integer, 23.34 is floating-point and Twenty-Three is string\n"
     ]
    }
   ],
   "source": [
    "print(\"%d is an integer, %g is floating-point and %s is string\" % (23, 23.34, \"Twenty-Three\"))"
   ]
  },
  {
   "cell_type": "code",
   "execution_count": 4,
   "metadata": {},
   "outputs": [],
   "source": [
    "a = [12, 3.4, 34, 'cloudxlab', [2.3, 1.4]]"
   ]
  },
  {
   "cell_type": "code",
   "execution_count": 5,
   "metadata": {},
   "outputs": [
    {
     "name": "stdout",
     "output_type": "stream",
     "text": [
      "False\n"
     ]
    }
   ],
   "source": [
    "print(3 in a)"
   ]
  },
  {
   "cell_type": "code",
   "execution_count": 6,
   "metadata": {},
   "outputs": [
    {
     "name": "stdout",
     "output_type": "stream",
     "text": [
      "[12, 3.4, 34, 'cloudxlab', [2.3, 1.4]]\n"
     ]
    }
   ],
   "source": [
    "print(a)"
   ]
  },
  {
   "cell_type": "code",
   "execution_count": 7,
   "metadata": {},
   "outputs": [
    {
     "name": "stdout",
     "output_type": "stream",
     "text": [
      "False\n"
     ]
    }
   ],
   "source": [
    "print('cloudx lab' in a)"
   ]
  },
  {
   "cell_type": "code",
   "execution_count": 8,
   "metadata": {},
   "outputs": [],
   "source": [
    "a = [1,2,3,4,5,6,7,8,9]\n",
    "s = (a[2:5])"
   ]
  },
  {
   "cell_type": "code",
   "execution_count": 9,
   "metadata": {},
   "outputs": [
    {
     "name": "stdout",
     "output_type": "stream",
     "text": [
      "[3, 4, 5]\n"
     ]
    }
   ],
   "source": [
    "print (s)"
   ]
  },
  {
   "cell_type": "code",
   "execution_count": 15,
   "metadata": {},
   "outputs": [],
   "source": [
    "a = [1,2,7,4,9,6,7,8,9]"
   ]
  },
  {
   "cell_type": "code",
   "execution_count": 13,
   "metadata": {},
   "outputs": [
    {
     "name": "stdout",
     "output_type": "stream",
     "text": [
      "36\n"
     ]
    }
   ],
   "source": [
    "s = 0\n",
    "for num in range(len(a)):\n",
    "    s += num\n",
    "print (s)"
   ]
  },
  {
   "cell_type": "code",
   "execution_count": 16,
   "metadata": {},
   "outputs": [
    {
     "name": "stdout",
     "output_type": "stream",
     "text": [
      "53\n"
     ]
    }
   ],
   "source": [
    "print(sum(a))"
   ]
  },
  {
   "cell_type": "code",
   "execution_count": 17,
   "metadata": {},
   "outputs": [
    {
     "name": "stdout",
     "output_type": "stream",
     "text": [
      "56\n"
     ]
    }
   ],
   "source": [
    "a = [23,12,32,1,2,34,56]\n",
    "a.append(12)\n",
    "print(a[len(a)-2])"
   ]
  },
  {
   "cell_type": "code",
   "execution_count": 18,
   "metadata": {},
   "outputs": [
    {
     "data": {
      "text/plain": [
       "[23, 12, 32, 1, 2, 34, 56, 12]"
      ]
     },
     "execution_count": 18,
     "metadata": {},
     "output_type": "execute_result"
    }
   ],
   "source": [
    "a"
   ]
  },
  {
   "cell_type": "code",
   "execution_count": 19,
   "metadata": {},
   "outputs": [],
   "source": [
    "a.extend(a)"
   ]
  },
  {
   "cell_type": "code",
   "execution_count": 20,
   "metadata": {},
   "outputs": [
    {
     "data": {
      "text/plain": [
       "[23, 12, 32, 1, 2, 34, 56, 12, 23, 12, 32, 1, 2, 34, 56, 12]"
      ]
     },
     "execution_count": 20,
     "metadata": {},
     "output_type": "execute_result"
    }
   ],
   "source": [
    "a"
   ]
  },
  {
   "cell_type": "code",
   "execution_count": 21,
   "metadata": {},
   "outputs": [
    {
     "data": {
      "text/plain": [
       "344"
      ]
     },
     "execution_count": 21,
     "metadata": {},
     "output_type": "execute_result"
    }
   ],
   "source": [
    "sum(a)"
   ]
  },
  {
   "cell_type": "code",
   "execution_count": 22,
   "metadata": {},
   "outputs": [
    {
     "name": "stdout",
     "output_type": "stream",
     "text": [
      "14\n"
     ]
    }
   ],
   "source": [
    "a.sort()\n",
    "print(a[2] + a[7])"
   ]
  },
  {
   "cell_type": "code",
   "execution_count": 23,
   "metadata": {},
   "outputs": [
    {
     "data": {
      "text/plain": [
       "[1, 1, 2, 2, 12, 12, 12, 12, 23, 23, 32, 32, 34, 34, 56, 56]"
      ]
     },
     "execution_count": 23,
     "metadata": {},
     "output_type": "execute_result"
    }
   ],
   "source": [
    "a"
   ]
  },
  {
   "cell_type": "code",
   "execution_count": 24,
   "metadata": {},
   "outputs": [
    {
     "data": {
      "text/plain": [
       "[2, 4, 5]"
      ]
     },
     "execution_count": 24,
     "metadata": {},
     "output_type": "execute_result"
    }
   ],
   "source": [
    "list1 = [12,23,43,[2,4,5], 2, 4,5]\n",
    "list1.pop(3)"
   ]
  },
  {
   "cell_type": "code",
   "execution_count": 25,
   "metadata": {},
   "outputs": [
    {
     "data": {
      "text/plain": [
       "[12, 23, 43, 2, 4, 5]"
      ]
     },
     "execution_count": 25,
     "metadata": {},
     "output_type": "execute_result"
    }
   ],
   "source": [
    "list1"
   ]
  },
  {
   "cell_type": "code",
   "execution_count": 26,
   "metadata": {},
   "outputs": [
    {
     "data": {
      "text/plain": [
       "89"
      ]
     },
     "execution_count": 26,
     "metadata": {},
     "output_type": "execute_result"
    }
   ],
   "source": [
    "sum(list1)"
   ]
  },
  {
   "cell_type": "code",
   "execution_count": 27,
   "metadata": {},
   "outputs": [
    {
     "name": "stdout",
     "output_type": "stream",
     "text": [
      "['cloudx', 'provides', 'cloud', 'lab']\n"
     ]
    }
   ],
   "source": [
    "list2 = ['cloudx', 'lab', 'provides', 'cloud', 'lab']\n",
    "del list2[1]\n",
    "print(list2)"
   ]
  },
  {
   "cell_type": "code",
   "execution_count": 28,
   "metadata": {},
   "outputs": [],
   "source": [
    "list2.remove('lab')"
   ]
  },
  {
   "cell_type": "code",
   "execution_count": 36,
   "metadata": {},
   "outputs": [
    {
     "data": {
      "text/plain": [
       "['__add__',\n",
       " '__class__',\n",
       " '__contains__',\n",
       " '__delattr__',\n",
       " '__delitem__',\n",
       " '__dir__',\n",
       " '__doc__',\n",
       " '__eq__',\n",
       " '__format__',\n",
       " '__ge__',\n",
       " '__getattribute__',\n",
       " '__getitem__',\n",
       " '__gt__',\n",
       " '__hash__',\n",
       " '__iadd__',\n",
       " '__imul__',\n",
       " '__init__',\n",
       " '__init_subclass__',\n",
       " '__iter__',\n",
       " '__le__',\n",
       " '__len__',\n",
       " '__lt__',\n",
       " '__mul__',\n",
       " '__ne__',\n",
       " '__new__',\n",
       " '__reduce__',\n",
       " '__reduce_ex__',\n",
       " '__repr__',\n",
       " '__reversed__',\n",
       " '__rmul__',\n",
       " '__setattr__',\n",
       " '__setitem__',\n",
       " '__sizeof__',\n",
       " '__str__',\n",
       " '__subclasshook__',\n",
       " 'append',\n",
       " 'clear',\n",
       " 'copy',\n",
       " 'count',\n",
       " 'extend',\n",
       " 'index',\n",
       " 'insert',\n",
       " 'pop',\n",
       " 'remove',\n",
       " 'reverse',\n",
       " 'sort']"
      ]
     },
     "execution_count": 36,
     "metadata": {},
     "output_type": "execute_result"
    }
   ],
   "source": [
    "dir(list2)"
   ]
  },
  {
   "cell_type": "code",
   "execution_count": 38,
   "metadata": {},
   "outputs": [],
   "source": [
    "list2.reverse()"
   ]
  },
  {
   "cell_type": "code",
   "execution_count": 39,
   "metadata": {},
   "outputs": [
    {
     "data": {
      "text/plain": [
       "['cloud', 'provides', 'cloudx']"
      ]
     },
     "execution_count": 39,
     "metadata": {},
     "output_type": "execute_result"
    }
   ],
   "source": [
    "list2"
   ]
  },
  {
   "cell_type": "code",
   "execution_count": 40,
   "metadata": {},
   "outputs": [
    {
     "data": {
      "text/plain": [
       "['cloud', 'provides', 'cloudx']"
      ]
     },
     "execution_count": 40,
     "metadata": {},
     "output_type": "execute_result"
    }
   ],
   "source": [
    "list(list2)"
   ]
  },
  {
   "cell_type": "code",
   "execution_count": 52,
   "metadata": {},
   "outputs": [
    {
     "name": "stdout",
     "output_type": "stream",
     "text": [
      "['cloud']\n",
      "['provides']\n",
      "['cloudx']\n"
     ]
    }
   ],
   "source": [
    "for n in list2:\n",
    "    item = n.split()\n",
    "    rev = item\n",
    "    print (rev)"
   ]
  },
  {
   "cell_type": "code",
   "execution_count": 41,
   "metadata": {},
   "outputs": [],
   "source": [
    "def str_list_func(st):\n",
    "    a  = st.split()\n",
    "    #print (a)\n",
    "    newstr = list()\n",
    "    for word in a:\n",
    "        x = list(word)\n",
    "        f = x[0]\n",
    "        x[0] = x[len(x)-1]\n",
    "        x[len(x)-1] = f\n",
    "        newstr.append(''.join(x))\n",
    "    return ' '.join(newstr)"
   ]
  },
  {
   "cell_type": "code",
   "execution_count": 42,
   "metadata": {},
   "outputs": [
    {
     "data": {
      "text/plain": [
       "'I ma gearninl nythoP ta bloudxLaC'"
      ]
     },
     "execution_count": 42,
     "metadata": {},
     "output_type": "execute_result"
    }
   ],
   "source": [
    "str_list_func(\"I am learning Python at CloudxLab\")"
   ]
  },
  {
   "cell_type": "code",
   "execution_count": 43,
   "metadata": {},
   "outputs": [
    {
     "data": {
      "text/plain": [
       "'I ma eht dolg'"
      ]
     },
     "execution_count": 43,
     "metadata": {},
     "output_type": "execute_result"
    }
   ],
   "source": [
    "str_list_func(\"I am the gold\")"
   ]
  },
  {
   "cell_type": "code",
   "execution_count": 51,
   "metadata": {},
   "outputs": [
    {
     "name": "stdout",
     "output_type": "stream",
     "text": [
      "This is a sample file for testing\n",
      "\n",
      "for Python course for\n",
      "\n",
      "learners in CloudxLab.\n",
      "\n",
      "This is a sample file for testing\n",
      "for Python course for\n",
      "learners in CloudxLab.\n",
      "\n"
     ]
    }
   ],
   "source": [
    "with open(\"/cxldata/python_sample_file\") as f:\n",
    "    s = \"\"\n",
    "    for line in f:\n",
    "        print(line)\n",
    "        s = s + line\n",
    "    print(s)"
   ]
  },
  {
   "cell_type": "code",
   "execution_count": 60,
   "metadata": {},
   "outputs": [],
   "source": [
    "def file_read_func (path):\n",
    "    try:\n",
    "        with open(path) as f:\n",
    "            s = 0\n",
    "            for line in f:\n",
    "                word = line.split()\n",
    "                for words in word:\n",
    "                    s += len(words)\n",
    "        return (s)\n",
    "    except:\n",
    "        return -1"
   ]
  },
  {
   "cell_type": "code",
   "execution_count": 61,
   "metadata": {},
   "outputs": [
    {
     "data": {
      "text/plain": [
       "65"
      ]
     },
     "execution_count": 61,
     "metadata": {},
     "output_type": "execute_result"
    }
   ],
   "source": [
    "file_read_func (\"/cxldata/python_sample_file\")"
   ]
  },
  {
   "cell_type": "code",
   "execution_count": 65,
   "metadata": {},
   "outputs": [],
   "source": [
    "check = 0\n",
    "with open(\"/cxldata/python_sample_file\") as f:\n",
    "    for line in f:\n",
    "        if(line.startswith('w')):\n",
    "            check = check + 1"
   ]
  },
  {
   "cell_type": "code",
   "execution_count": 66,
   "metadata": {},
   "outputs": [
    {
     "name": "stdout",
     "output_type": "stream",
     "text": [
      "0\n"
     ]
    }
   ],
   "source": [
    "print (check)"
   ]
  },
  {
   "cell_type": "code",
   "execution_count": 67,
   "metadata": {},
   "outputs": [],
   "source": [
    "with open(\"python_file_writing.txt\", 'a') as f:\n",
    "    f.write(\"I am learning Python at CloudxLab\")"
   ]
  },
  {
   "cell_type": "code",
   "execution_count": 68,
   "metadata": {},
   "outputs": [
    {
     "data": {
      "text/plain": [
       "'/home/tukulkumar1011/cloudxlab_jupyter_notebooks'"
      ]
     },
     "execution_count": 68,
     "metadata": {},
     "output_type": "execute_result"
    }
   ],
   "source": [
    "pwd"
   ]
  },
  {
   "cell_type": "code",
   "execution_count": 1,
   "metadata": {},
   "outputs": [
    {
     "name": "stdout",
     "output_type": "stream",
     "text": [
      "{'1 rupee coins': 10, '2 rupees coins': 5, '5 rupees coins': 6, '10 rupees coins': 12}\n"
     ]
    }
   ],
   "source": [
    "d = dict()\n",
    "d['1 rupee coins'] = 10\n",
    "d['2 rupees coins'] = 5\n",
    "d['5 rupees coins'] = 6\n",
    "d['10 rupees coins'] = 12\n",
    "print(d)"
   ]
  },
  {
   "cell_type": "code",
   "execution_count": 2,
   "metadata": {},
   "outputs": [
    {
     "name": "stdout",
     "output_type": "stream",
     "text": [
      "18\n"
     ]
    }
   ],
   "source": [
    "print(d['5 rupees coins']+d['10 rupees coins'])"
   ]
  },
  {
   "cell_type": "code",
   "execution_count": 3,
   "metadata": {},
   "outputs": [
    {
     "name": "stdout",
     "output_type": "stream",
     "text": [
      "4\n"
     ]
    }
   ],
   "source": [
    "d = { 'one' : 1 , 'two' : 2, 'three' : 3, 'four': 4 }\n",
    "print(len(d))"
   ]
  },
  {
   "cell_type": "code",
   "execution_count": 4,
   "metadata": {},
   "outputs": [
    {
     "name": "stdout",
     "output_type": "stream",
     "text": [
      "False\n"
     ]
    }
   ],
   "source": [
    "print(4 in d)"
   ]
  },
  {
   "cell_type": "code",
   "execution_count": 5,
   "metadata": {},
   "outputs": [
    {
     "name": "stdout",
     "output_type": "stream",
     "text": [
      "False\n"
     ]
    }
   ],
   "source": [
    "print(5 in d and 2 in d)"
   ]
  },
  {
   "cell_type": "code",
   "execution_count": 6,
   "metadata": {},
   "outputs": [
    {
     "name": "stdout",
     "output_type": "stream",
     "text": [
      "True\n"
     ]
    }
   ],
   "source": [
    "print('three' in d)"
   ]
  },
  {
   "cell_type": "code",
   "execution_count": 15,
   "metadata": {},
   "outputs": [],
   "source": [
    "def dict_func(a):\n",
    "    d = dict()\n",
    "    words = a.split()\n",
    "    for word in words:\n",
    "        if word not in d:\n",
    "            d[word] = 1\n",
    "        else:\n",
    "            d[word] = d[word] + 1\n",
    "    return d        "
   ]
  },
  {
   "cell_type": "code",
   "execution_count": 16,
   "metadata": {},
   "outputs": [
    {
     "data": {
      "text/plain": [
       "{'the': 2,\n",
       " 'quick': 1,\n",
       " 'brown': 1,\n",
       " 'fox': 1,\n",
       " 'jumps': 1,\n",
       " 'over': 1,\n",
       " 'lazy': 1,\n",
       " 'dog': 1}"
      ]
     },
     "execution_count": 16,
     "metadata": {},
     "output_type": "execute_result"
    }
   ],
   "source": [
    "dict_func('the quick brown fox jumps over the lazy dog')"
   ]
  },
  {
   "cell_type": "code",
   "execution_count": 20,
   "metadata": {},
   "outputs": [
    {
     "data": {
      "text/plain": [
       "tuple"
      ]
     },
     "execution_count": 20,
     "metadata": {},
     "output_type": "execute_result"
    }
   ],
   "source": [
    "t = (1,)\n",
    "type(t)"
   ]
  },
  {
   "cell_type": "code",
   "execution_count": 21,
   "metadata": {},
   "outputs": [
    {
     "data": {
      "text/plain": [
       "int"
      ]
     },
     "execution_count": 21,
     "metadata": {},
     "output_type": "execute_result"
    }
   ],
   "source": [
    "t = (1)\n",
    "type(t)"
   ]
  },
  {
   "cell_type": "code",
   "execution_count": 22,
   "metadata": {},
   "outputs": [
    {
     "name": "stdout",
     "output_type": "stream",
     "text": [
      "()\n"
     ]
    }
   ],
   "source": [
    "t = tuple()\n",
    "print(t)"
   ]
  },
  {
   "cell_type": "code",
   "execution_count": 23,
   "metadata": {},
   "outputs": [],
   "source": [
    "t1 = tuple(\"1,2,3,4,5\")\n",
    "t2 = tuple([1,2,3,4,5])\n",
    "t3 = tuple((1,2,3,4,5))"
   ]
  },
  {
   "cell_type": "code",
   "execution_count": 28,
   "metadata": {},
   "outputs": [
    {
     "name": "stdout",
     "output_type": "stream",
     "text": [
      "9\n",
      "5\n",
      "5\n"
     ]
    }
   ],
   "source": [
    "print(len(t1))\n",
    "print(len(t2))\n",
    "print(len(t3))"
   ]
  },
  {
   "cell_type": "code",
   "execution_count": 45,
   "metadata": {},
   "outputs": [
    {
     "name": "stdout",
     "output_type": "stream",
     "text": [
      "dict_items([('one', 1), ('two', 2), ('three', 3)])\n"
     ]
    }
   ],
   "source": [
    "d = { \"one\" : 1, \"two\" : 2, \"three\" : 3}\n",
    "k = d.items()\n",
    "print(k)"
   ]
  },
  {
   "cell_type": "code",
   "execution_count": 46,
   "metadata": {},
   "outputs": [
    {
     "name": "stdout",
     "output_type": "stream",
     "text": [
      "[('one', 1), ('two', 2), ('three', 3)]\n"
     ]
    }
   ],
   "source": [
    "l = list(k)\n",
    "print(l)"
   ]
  },
  {
   "cell_type": "code",
   "execution_count": 47,
   "metadata": {},
   "outputs": [
    {
     "name": "stdout",
     "output_type": "stream",
     "text": [
      "one 1\n",
      "two 2\n",
      "three 3\n"
     ]
    }
   ],
   "source": [
    "for key, value in list(k):\n",
    "    print(key, value)"
   ]
  },
  {
   "cell_type": "code",
   "execution_count": 64,
   "metadata": {},
   "outputs": [],
   "source": [
    "def dict_tuple_func (s):\n",
    "    l = dict()\n",
    "    sm = 0\n",
    "    for i in s:\n",
    "        if i not in l:\n",
    "            l[i] = 1\n",
    "            sm = sm + i\n",
    "        else:\n",
    "            l[i] = l[i] + 1\n",
    "    tp = tuple()\n",
    "    tp = (l, sm)\n",
    "    return (tp)"
   ]
  },
  {
   "cell_type": "code",
   "execution_count": 65,
   "metadata": {},
   "outputs": [
    {
     "data": {
      "text/plain": [
       "({1: 2, 2: 2, 3: 2}, 6)"
      ]
     },
     "execution_count": 65,
     "metadata": {},
     "output_type": "execute_result"
    }
   ],
   "source": [
    "dict_tuple_func([1, 2, 3, 1, 2, 3])"
   ]
  },
  {
   "cell_type": "code",
   "execution_count": 66,
   "metadata": {},
   "outputs": [
    {
     "data": {
      "text/plain": [
       "({1: 1, 2: 1, 3: 2, 4: 2, 5: 2, 23: 1, 6: 1}, 44)"
      ]
     },
     "execution_count": 66,
     "metadata": {},
     "output_type": "execute_result"
    }
   ],
   "source": [
    "dict_tuple_func([1,2,3,4,5,3,23,5,6,4])"
   ]
  },
  {
   "cell_type": "raw",
   "metadata": {},
   "source": [
    "import re\n",
    "hand = open('mbox-short.txt')\n",
    "for  line in hand:\n",
    "    line = line.rstrip()\n",
    "    if re.search('^From: ', line):\n",
    "        print (line)"
   ]
  },
  {
   "cell_type": "code",
   "execution_count": 4,
   "metadata": {},
   "outputs": [
    {
     "name": "stdout",
     "output_type": "stream",
     "text": [
      "{b'But': 1, b'soft': 1, b'what': 1, b'light': 1, b'through': 1, b'yonder': 1, b'window': 1, b'breaks': 1, b'It': 1, b'is': 3, b'the': 3, b'east': 1, b'and': 3, b'Juliet': 1, b'sun': 2, b'Arise': 1, b'fair': 1, b'kill': 1, b'envious': 1, b'moon': 1, b'Who': 1, b'already': 1, b'sick': 1, b'pale': 1, b'with': 1, b'grief': 1}\n"
     ]
    }
   ],
   "source": [
    "from urllib import *\n",
    "fhand = request.urlopen('http://www.py4inf.com/code/romeo.txt')\n",
    "\n",
    "counts = dict()\n",
    "for line in fhand:\n",
    "    words = line.split()\n",
    "    for word in words:\n",
    "        counts[word] = counts.get(word,0) + 1\n",
    "print (counts)"
   ]
  },
  {
   "cell_type": "code",
   "execution_count": 5,
   "metadata": {},
   "outputs": [
    {
     "name": "stdout",
     "output_type": "stream",
     "text": [
      "Enter - http://www.py4inf.com/code/romeo.txt\n"
     ]
    }
   ],
   "source": [
    "from  urllib import *\n",
    "from bs4 import BeautifulSoup\n",
    "\n",
    "url = input('Enter - ')\n",
    "\n",
    "html = request.urlopen(url).read()\n",
    "soup = BeautifulSoup(html)\n",
    "\n",
    "tags = soup('a')\n",
    "\n",
    "for tag in tags:\n",
    "    print(tag.get('href', None))"
   ]
  },
  {
   "cell_type": "code",
   "execution_count": 6,
   "metadata": {},
   "outputs": [
    {
     "name": "stdout",
     "output_type": "stream",
     "text": [
      "Enter - https://en.wikipedia.org/wiki/Nidhhi_Agerwal\n",
      "None\n",
      "#mw-head\n",
      "#searchInput\n",
      "/wiki/File:Nidhhi_Agerwal_graces_the_Filmfare_Glamour_and_Style_Awards_2017_(26)_(cropped).jpg\n",
      "/wiki/Hyderabad\n",
      "/wiki/Andhra_Pradesh\n",
      "/wiki/Telangana\n",
      "/wiki/India\n",
      "/wiki/Christ_University\n",
      "/wiki/Telugu_language\n",
      "/wiki/Tamil_language\n",
      "/wiki/Munna_Michael\n",
      "#cite_note-deccanchronicle-1\n",
      "#cite_note-2\n",
      "#cite_note-budding_star-3\n",
      "/wiki/Telugu_language\n",
      "/wiki/Savyasachi_(2018_film)\n",
      "/wiki/Tamil_language\n",
      "/wiki/Eeswaran\n",
      "#Early_life\n",
      "#Career\n",
      "#Filmography\n",
      "#Films\n",
      "#Awards_and_nominations\n",
      "#See_also\n",
      "#References\n",
      "#External_links\n",
      "/w/index.php?title=Nidhhi_Agerwal&action=edit&section=1\n",
      "/wiki/Hyderabad\n",
      "/wiki/Bangalore\n",
      "/wiki/Hindi\n",
      "/wiki/Marwari_people\n",
      "/wiki/Telugu_language\n",
      "/wiki/Tamil_language\n",
      "/wiki/Kannada\n",
      "#cite_note-4\n",
      "#cite_note-5\n",
      "#cite_note-deccanchronicle-1\n",
      "#cite_note-6\n",
      "#cite_note-7\n",
      "/wiki/Christ_University\n",
      "#cite_note-8\n",
      "#cite_note-9\n",
      "/wiki/Ballet\n",
      "/wiki/Kathak\n",
      "/wiki/Belly_dance\n",
      "#cite_note-10\n",
      "/w/index.php?title=Nidhhi_Agerwal&action=edit&section=2\n",
      "/wiki/Sabbir_Khan\n",
      "/wiki/Munna_Michael\n",
      "/wiki/Tiger_Shroff\n",
      "#cite_note-11\n",
      "#cite_note-12\n",
      "/w/index.php?title=Nidhhi_Agerwal&action=edit&section=3\n",
      "/w/index.php?title=Nidhhi_Agerwal&action=edit&section=4\n",
      "/wiki/Munna_Michael\n",
      "/wiki/Hindi_language\n",
      "#cite_note-13\n",
      "/wiki/Savyasachi_(2018_film)\n",
      "/wiki/Telugu_language\n",
      "#cite_note-14\n",
      "/wiki/Mr._Majnu\n",
      "#cite_note-15\n",
      "/wiki/ISmart_Shankar\n",
      "#cite_note-16\n",
      "/wiki/Eeswaran\n",
      "/wiki/Tamil_language\n",
      "#cite_note-17\n",
      "/wiki/Bhoomi_(2021_film)\n",
      "#cite_note-18\n",
      "/wiki/Hero_(2022_film)\n",
      "#cite_note-19\n",
      "/wiki/Magizh_Thirumeni\n",
      "#cite_note-20\n",
      "/wiki/Hari_Hara_Veera_Mallu\n",
      "#cite_note-21\n",
      "/w/index.php?title=Nidhhi_Agerwal&action=edit&section=5\n",
      "/wiki/Zee_Cine_Awards\n",
      "/wiki/Zee_Cine_Award_for_Best_Female_Debut\n",
      "/wiki/Munna_Michael\n",
      "#cite_note-22\n",
      "/wiki/SIIMA_Awards\n",
      "/wiki/SIIMA_Award_for_Best_Female_Debut_(Telugu)\n",
      "/wiki/Savyasachi_(2018_film)\n",
      "#cite_note-23\n",
      "/wiki/Asian_Academy_of_Film_%26_Television\n",
      "#cite_note-budding_star-3\n",
      "/w/index.php?title=Nidhhi_Agerwal&action=edit&section=6\n",
      "/wiki/List_of_Bollywood_actresses\n",
      "/w/index.php?title=Nidhhi_Agerwal&action=edit&section=7\n",
      "#cite_ref-deccanchronicle_1-0\n",
      "#cite_ref-deccanchronicle_1-1\n",
      "http://www.deccanchronicle.com/entertainment/bollywood/150816/tiger-shroffs-heroine-for-munna-michael-has-been-confirmed.html\n",
      "/wiki/Deccan_Chronicle\n",
      "https://web.archive.org/web/20170801180739/http://www.deccanchronicle.com/entertainment/bollywood/150816/tiger-shroffs-heroine-for-munna-michael-has-been-confirmed.html\n",
      "#cite_ref-2\n",
      "http://www.firstpost.com/entertainment/munna-michael-starring-tiger-shroff-nawazuddin-siddiqui-to-release-on-21-july-3396758.html\n",
      "/wiki/Firstpost\n",
      "https://web.archive.org/web/20170503230713/http://www.firstpost.com/entertainment/munna-michael-starring-tiger-shroff-nawazuddin-siddiqui-to-release-on-21-july-3396758.html\n",
      "#cite_ref-budding_star_3-0\n",
      "#cite_ref-budding_star_3-1\n",
      "https://timesofindia.indiatimes.com/entertainment/hindi/bollywood/photo-feature/nidhhi-agerwal-steamy-pictures-of-the-budding-star/beauty-in-blue/photostory/61560747.cms\n",
      "https://web.archive.org/web/20180927115909/https://timesofindia.indiatimes.com/entertainment/hindi/bollywood/photo-feature/nidhhi-agerwal-steamy-pictures-of-the-budding-star/beauty-in-blue/photostory/61560747.cms\n",
      "#cite_ref-4\n",
      "https://web.archive.org/web/20190518121503/https://timesofindia.indiatimes.com/entertainment/telugu/movies/news/nidhhi-agerwal-i-am-a-tollywood-buff-who-grew-up-watching-telugu-films-dubbed-in-hindi/articleshow/61660243.cms\n",
      "https://timesofindia.indiatimes.com/entertainment/telugu/movies/news/nidhhi-agerwal-i-am-a-tollywood-buff-who-grew-up-watching-telugu-films-dubbed-in-hindi/articleshow/61660243.cms\n",
      "#cite_ref-5\n",
      "https://timesofindia.indiatimes.com/entertainment/tamil/movies/news/nidhhi-agerwal-spends-time-in-an-old-age-home-on-her-birthday/articleshow/85424453.cms\n",
      "#cite_ref-6\n",
      "https://www.bollywoodhungama.com/news/features/stunning-affair-mesh-sheer-nidhhi-agerwal-reveals-gq-best-dressed-2018-party/\n",
      "#cite_ref-7\n",
      "https://timesofindia.indiatimes.com/entertainment/telugu/movies/news/video-alert-nidhhi-agerwal-welcomes-2020-by-gifting-herself-a-swanky-car/articleshow/73124973.cms\n",
      "#cite_ref-8\n",
      "http://beautypageants.indiatimes.com/miss-diva/miss-diva-contestants/2014/Nidhhi-Agerwal/profile/42481675.cms\n",
      "/wiki/Times_Internet\n",
      "https://web.archive.org/web/20170606132701/http://beautypageants.indiatimes.com/miss-diva/miss-diva-contestants/2014/Nidhhi-Agerwal/profile/42481675.cms\n",
      "#cite_ref-9\n",
      "http://beautypageants.indiatimes.com/Tiger-Shroff-to-romance-Nidhhi-Agerwal-in-Munna-Michael/eventshow/53797004.cms\n",
      "/wiki/Times_Internet\n",
      "https://web.archive.org/web/20170902030831/http://beautypageants.indiatimes.com/Tiger-Shroff-to-romance-Nidhhi-Agerwal-in-Munna-Michael/eventshow/53797004.cms\n",
      "#cite_ref-10\n",
      "http://beautypageants.indiatimes.com/I-always-wanted-to-be-an-actor-Nidhhi-Agerwal/I-always-wanted-to-be-an-actor-Nidhhi-Agerwal/eventshow/54998665.cms\n",
      "/wiki/Times_Internet\n",
      "https://web.archive.org/web/20170902032343/http://beautypageants.indiatimes.com/I-always-wanted-to-be-an-actor-Nidhhi-Agerwal/I-always-wanted-to-be-an-actor-Nidhhi-Agerwal/eventshow/54998665.cms\n",
      "#cite_ref-11\n",
      "http://movies.ndtv.com/bollywood/tiger-shroffs-munna-michael-co-star-niddhi-agerwal-made-to-sign-no-dating-clause-1470855\n",
      "/wiki/NDTV\n",
      "https://web.archive.org/web/20170521054334/http://movies.ndtv.com/bollywood/tiger-shroffs-munna-michael-co-star-niddhi-agerwal-made-to-sign-no-dating-clause-1470855\n",
      "#cite_ref-12\n",
      "http://timesofindia.indiatimes.com/entertainment/hindi/bollywood/news/Actress-Nidhhi-Agerwal-okay-with-no-dating-clause/articleshow/54733603.cms\n",
      "/wiki/Times_Internet\n",
      "https://web.archive.org/web/20170131234842/http://timesofindia.indiatimes.com/entertainment/hindi/bollywood/news/Actress-Nidhhi-Agerwal-okay-with-no-dating-clause/articleshow/54733603.cms\n",
      "#cite_ref-13\n",
      "https://timesofindia.indiatimes.com/entertainment/hindi/bollywood/news/nidhhi-agerwal-passed-four-rounds-of-audition-to-bag-munna-michael/articleshow/59595061.cms\n",
      "https://web.archive.org/web/20170722043509/http://timesofindia.indiatimes.com/entertainment/hindi/bollywood/news/nidhhi-agerwal-passed-four-rounds-of-audition-to-bag-munna-michael/articleshow/59595061.cms\n",
      "#cite_ref-14\n",
      "https://timesofindia.indiatimes.com/entertainment/telugu/movies/news/nidhhi-agerwals-role-in-savyasachi-is-far-from-glamorous/articleshow/61782972.cms\n",
      "https://web.archive.org/web/20171213193858/https://timesofindia.indiatimes.com/entertainment/telugu/movies/news/nidhhi-agerwals-role-in-savyasachi-is-far-from-glamorous/articleshow/61782972.cms\n",
      "#cite_ref-15\n",
      "https://indianexpress.com/article/entertainment/movie-review/mr-majnu-movie-review-rating-akhil-akkineni-5555076/\n",
      "#cite_ref-16\n",
      "https://timesofindia.indiatimes.com/entertainment/telugu/movies/nidhhi-agerwal-to-play-a-scientist-in-puri-jagannadhs-next/articleshow/68256615.cms\n",
      "#cite_ref-17\n",
      "https://timesofindia.indiatimes.com/entertainment/tamil/movies/news/strs-next-with-susienthiran-titled-eeswaran-first-look-out/articleshow/78868428.cms\n",
      "#cite_ref-18\n",
      "https://www.thenewsminute.com/article/jayam-ravi-s-bhoomi-premiere-pongal-2021-137566%3famp\n",
      "#cite_ref-19\n",
      "https://m.timesofindia.com/entertainment/telugu/movies/news/nidhhi-agerwals-birthday-poster-from-her-next-film-with-ashok-galla-released/amp_articleshow/77586006.cms\n",
      "#cite_ref-20\n",
      "https://m.timesofindia.com/entertainment/tamil/movies/news/udhayanidhi-stalin-begins-shooting-for-his-film-with-magizh-thirumeni/amp_articleshow/79603300.cms\n",
      "#cite_ref-21\n",
      "https://timesofindia.indiatimes.com/entertainment/telugu/movies/news/hari-hara-veera-mallu-pawan-kalyan-looks-flamboyant-as-a-heroic-outlaw/articleshow/81450766.cms\n",
      "/wiki/Template:Cite_news\n",
      "/wiki/Category:CS1_maint:_url-status\n",
      "#cite_ref-22\n",
      "https://www.firstpost.com/entertainment/zee-cine-awards-2018-sridevi-varun-dhawan-win-top-acting-honours-golmaal-again-gets-best-film-4267373.html\n",
      "#cite_ref-23\n",
      "https://www.dnaindia.com/television/photo-gallery-siima-2019-nominations-list-out-who-among-kiara-advani-srinidhi-shetty-and-nidhhi-agerwal-will-claim-best-debut-award-2777395\n",
      "https://web.archive.org/web/20191117103839/https://www.dnaindia.com/television/photo-gallery-siima-2019-nominations-list-out-who-among-kiara-advani-srinidhi-shetty-and-nidhhi-agerwal-will-claim-best-debut-award-2777395\n",
      "/w/index.php?title=Nidhhi_Agerwal&action=edit&section=8\n",
      "https://commons.wikimedia.org/wiki/Category:Nidhhi_Agerwal\n",
      "https://www.imdb.com/name/nm8490426/\n",
      "/wiki/IMDb\n",
      "https://www.wikidata.org/wiki/Q29950534#P345\n",
      "https://twitter.com/AgerwalNidhhi\n",
      "/wiki/Twitter\n",
      "https://www.wikidata.org/wiki/Q29950534#P2002\n",
      "/wiki/Template:Zee_Cine_Award_for_Best_Female_Debut\n",
      "/wiki/Template_talk:Zee_Cine_Award_for_Best_Female_Debut\n",
      "https://en.wikipedia.org/w/index.php?title=Template:Zee_Cine_Award_for_Best_Female_Debut&action=edit\n",
      "/wiki/Zee_Cine_Award_for_Best_Female_Debut\n",
      "/wiki/Mahima_Chaudhry\n",
      "/wiki/Preity_Zinta\n",
      "/wiki/Rinke_Khanna\n",
      "/wiki/Amisha_Patel\n",
      "/wiki/Gracy_Singh\n",
      "/wiki/Malini_Sharma\n",
      "/wiki/Bhoomika_Chawla\n",
      "/wiki/Gayatri_Joshi\n",
      "/wiki/Vidya_Balan\n",
      "/wiki/Konkona_Sen_Sharma\n",
      "/wiki/Kangana_Ranaut\n",
      "/wiki/Deepika_Padukone\n",
      "/wiki/Sonakshi_Sinha\n",
      "/wiki/Parineeti_Chopra\n",
      "/wiki/Ileana_D%27Cruz\n",
      "/wiki/Yami_Gautam\n",
      "/wiki/Vaani_Kapoor\n",
      "/wiki/Harshaali_Malhotra\n",
      "/wiki/Bhumi_Pednekar\n",
      "/wiki/Ritika_Singh\n",
      "None\n",
      "/wiki/Janhvi_Kapoor\n",
      "/wiki/Tara_Sutaria\n",
      "/wiki/Ananya_Panday\n",
      "/wiki/Help:Authority_control\n",
      "https://www.wikidata.org/wiki/Q29950534#identifiers\n",
      "https://zbmath.org/authors/?q=ai:agarwal.nidhi\n",
      "https://en.wikipedia.org/w/index.php?title=Nidhhi_Agerwal&oldid=1080153373\n",
      "/wiki/Help:Category\n",
      "/wiki/Category:Actresses_in_Hindi_cinema\n",
      "/wiki/Category:Living_people\n",
      "/wiki/Category:Actresses_from_Bangalore\n",
      "/wiki/Category:21st-century_Indian_actresses\n",
      "/wiki/Category:Indian_film_actresses\n",
      "/wiki/Category:Female_models_from_Bangalore\n",
      "/wiki/Category:Female_models_from_Hyderabad,_India\n",
      "/wiki/Category:Actresses_in_Telugu_cinema\n",
      "/wiki/Category:Marwari_people\n",
      "/wiki/Category:Zee_Cine_Awards_winners\n",
      "/wiki/Category:Christ_University_alumni\n",
      "/wiki/Category:Actresses_from_Hyderabad,_India\n",
      "/wiki/Category:CS1_maint:_url-status\n",
      "/wiki/Category:Articles_with_short_description\n",
      "/wiki/Category:Short_description_is_different_from_Wikidata\n",
      "/wiki/Category:Use_dmy_dates_from_February_2022\n",
      "/wiki/Category:Use_Indian_English_from_August_2018\n",
      "/wiki/Category:All_Wikipedia_articles_written_in_Indian_English\n",
      "/wiki/Category:Articles_with_hCards\n",
      "/wiki/Category:Commons_category_link_from_Wikidata\n",
      "/wiki/Category:Articles_with_ZBMATH_identifiers\n",
      "/wiki/Category:Year_of_birth_missing_(living_people)\n",
      "/wiki/Special:MyTalk\n",
      "/wiki/Special:MyContributions\n",
      "/w/index.php?title=Special:CreateAccount&returnto=Nidhhi+Agerwal\n",
      "/w/index.php?title=Special:UserLogin&returnto=Nidhhi+Agerwal\n",
      "/wiki/Nidhhi_Agerwal\n",
      "/wiki/Talk:Nidhhi_Agerwal\n",
      "/wiki/Nidhhi_Agerwal\n",
      "/w/index.php?title=Nidhhi_Agerwal&action=edit\n",
      "/w/index.php?title=Nidhhi_Agerwal&action=history\n",
      "/wiki/Main_Page\n",
      "/wiki/Main_Page\n",
      "/wiki/Wikipedia:Contents\n",
      "/wiki/Portal:Current_events\n",
      "/wiki/Special:Random\n",
      "/wiki/Wikipedia:About\n",
      "//en.wikipedia.org/wiki/Wikipedia:Contact_us\n",
      "https://donate.wikimedia.org/wiki/Special:FundraiserRedirector?utm_source=donate&utm_medium=sidebar&utm_campaign=C13_en.wikipedia.org&uselang=en\n",
      "/wiki/Help:Contents\n",
      "/wiki/Help:Introduction\n",
      "/wiki/Wikipedia:Community_portal\n",
      "/wiki/Special:RecentChanges\n",
      "/wiki/Wikipedia:File_Upload_Wizard\n",
      "/wiki/Special:WhatLinksHere/Nidhhi_Agerwal\n",
      "/wiki/Special:RecentChangesLinked/Nidhhi_Agerwal\n",
      "/wiki/Wikipedia:File_Upload_Wizard\n",
      "/wiki/Special:SpecialPages\n",
      "/w/index.php?title=Nidhhi_Agerwal&oldid=1080153373\n",
      "/w/index.php?title=Nidhhi_Agerwal&action=info\n",
      "/w/index.php?title=Special:CiteThisPage&page=Nidhhi_Agerwal&id=1080153373&wpFormIdentifier=titleform\n",
      "https://www.wikidata.org/wiki/Special:EntityPage/Q29950534\n",
      "/w/index.php?title=Special:DownloadAsPdf&page=Nidhhi_Agerwal&action=show-download-screen\n",
      "/w/index.php?title=Nidhhi_Agerwal&printable=yes\n",
      "https://commons.wikimedia.org/wiki/Category:Nidhhi_Agerwal\n",
      "https://ar.wikipedia.org/wiki/%D9%86%D9%8A%D8%AF%D9%87%D9%8A_%D8%A3%D8%AC%D8%B1%D9%88%D8%A7%D9%84\n",
      "https://bn.wikipedia.org/wiki/%E0%A6%A8%E0%A6%BF%E0%A6%A7%E0%A6%BF_%E0%A6%86%E0%A6%97%E0%A6%BE%E0%A6%B0%E0%A6%93%E0%A6%AF%E0%A6%BC%E0%A6%BE%E0%A6%B2\n",
      "https://fa.wikipedia.org/wiki/%D9%86%DB%8C%D8%AF%DB%8C_%D8%A2%DA%AF%D8%B1%D9%88%D8%A7%D9%84\n",
      "https://ko.wikipedia.org/wiki/%EB%8B%88%EB%94%94_%EC%95%84%EA%B2%8C%EB%A5%B4%EC%99%88\n",
      "https://hi.wikipedia.org/wiki/%E0%A4%A8%E0%A4%BF%E0%A4%A7%E0%A4%BF_%E0%A4%85%E0%A4%97%E0%A5%8D%E0%A4%B0%E0%A4%B5%E0%A4%BE%E0%A4%B2\n",
      "https://id.wikipedia.org/wiki/Nidhhi_Agerwal\n",
      "https://mai.wikipedia.org/wiki/%E0%A4%A8%E0%A4%BF%E0%A4%A7%E0%A4%BF_%E0%A4%85%E0%A4%97%E0%A5%8D%E0%A4%B0%E0%A4%B5%E0%A4%BE%E0%A4%B2\n",
      "https://ml.wikipedia.org/wiki/%E0%B4%A8%E0%B4%BF%E0%B4%A7%E0%B4%BF_%E0%B4%85%E0%B4%97%E0%B5%BC%E0%B4%B5%E0%B4%BE%E0%B5%BE\n",
      "https://arz.wikipedia.org/wiki/%D9%86%D9%8A%D8%AF%D9%87%D9%89_%D8%A7%D8%AC%D8%B1%D9%88%D8%A7%D9%84\n",
      "https://ne.wikipedia.org/wiki/%E0%A4%A8%E0%A4%BF%E0%A4%A7%E0%A4%BF_%E0%A4%85%E0%A4%97%E0%A5%8D%E0%A4%B0%E0%A4%B5%E0%A4%BE%E0%A4%B2\n",
      "https://or.wikipedia.org/wiki/%E0%AC%A8%E0%AC%BF%E0%AC%A7%E0%AC%BF_%E0%AC%85%E0%AC%97%E0%AD%8D%E0%AC%B0%E0%AD%B1%E0%AC%BE%E0%AC%B2\n",
      "https://pnb.wikipedia.org/wiki/%D9%86%D8%AF%DA%BE%DB%8C_%D8%A7%DA%AF%D8%B1%D9%88%D8%A7%D9%84\n",
      "https://si.wikipedia.org/wiki/%E0%B6%B1%E0%B7%92%E0%B6%B0%E0%B7%92_%E0%B6%85%E0%B6%9C%E0%B7%8A%E2%80%8D%E0%B6%BB%E0%B7%8F%E0%B7%80%E0%B7%8F%E0%B6%BD%E0%B7%8A\n",
      "https://simple.wikipedia.org/wiki/Nidhhi_Agerwal\n",
      "https://ta.wikipedia.org/wiki/%E0%AE%A8%E0%AE%BF%E0%AE%A4%E0%AE%BF_%E0%AE%85%E0%AE%95%E0%AE%B0%E0%AF%8D%E0%AE%B5%E0%AE%BE%E0%AE%B2%E0%AF%8D\n",
      "https://te.wikipedia.org/wiki/%E0%B0%A8%E0%B0%BF%E0%B0%A7%E0%B0%BF_%E0%B0%85%E0%B0%97%E0%B0%B0%E0%B1%8D%E0%B0%B5%E0%B0%BE%E0%B0%B2%E0%B1%8D\n",
      "https://ur.wikipedia.org/wiki/%D9%86%D8%AF%DA%BE%DB%8C_%D8%A7%DA%AF%D8%B1%D9%88%D8%A7%D9%84\n",
      "https://zh.wikipedia.org/wiki/%E5%A6%AE%E8%BF%AA%C2%B7%E9%98%BF%E5%8A%A0%E7%93%A6%E7%88%BE\n",
      "https://www.wikidata.org/wiki/Special:EntityPage/Q29950534#sitelinks-wikipedia\n",
      "//en.wikipedia.org/wiki/Wikipedia:Text_of_Creative_Commons_Attribution-ShareAlike_3.0_Unported_License\n",
      "//creativecommons.org/licenses/by-sa/3.0/\n",
      "//foundation.wikimedia.org/wiki/Terms_of_Use\n",
      "//foundation.wikimedia.org/wiki/Privacy_policy\n",
      "//www.wikimediafoundation.org/\n",
      "https://foundation.wikimedia.org/wiki/Privacy_policy\n",
      "/wiki/Wikipedia:About\n",
      "/wiki/Wikipedia:General_disclaimer\n",
      "//en.wikipedia.org/wiki/Wikipedia:Contact_us\n",
      "//en.m.wikipedia.org/w/index.php?title=Nidhhi_Agerwal&mobileaction=toggle_view_mobile\n",
      "https://www.mediawiki.org/wiki/Special:MyLanguage/How_to_contribute\n",
      "https://stats.wikimedia.org/#/en.wikipedia.org\n",
      "https://foundation.wikimedia.org/wiki/Cookie_statement\n",
      "https://wikimediafoundation.org/\n",
      "https://www.mediawiki.org/\n"
     ]
    }
   ],
   "source": [
    "from  urllib import *\n",
    "from bs4 import BeautifulSoup\n",
    "\n",
    "url = input('Enter - ')\n",
    "\n",
    "html = request.urlopen(url).read()\n",
    "soup = BeautifulSoup(html)\n",
    "\n",
    "tags = soup('a')\n",
    "\n",
    "for tag in tags:\n",
    "    print(tag.get('href', None))"
   ]
  },
  {
   "cell_type": "code",
   "execution_count": 1,
   "metadata": {},
   "outputs": [
    {
     "ename": "NameError",
     "evalue": "name 'sys' is not defined",
     "output_type": "error",
     "traceback": [
      "\u001b[0;31m---------------------------------------------------------------------------\u001b[0m",
      "\u001b[0;31mNameError\u001b[0m                                 Traceback (most recent call last)",
      "\u001b[0;32m<ipython-input-1-b35d1d099a2a>\u001b[0m in \u001b[0;36m<module>\u001b[0;34m\u001b[0m\n\u001b[0;32m----> 1\u001b[0;31m \u001b[0msys\u001b[0m\u001b[0;34m.\u001b[0m\u001b[0mpath\u001b[0m\u001b[0;34m\u001b[0m\u001b[0;34m\u001b[0m\u001b[0m\n\u001b[0m",
      "\u001b[0;31mNameError\u001b[0m: name 'sys' is not defined"
     ]
    }
   ],
   "source": [
    "sys.path"
   ]
  },
  {
   "cell_type": "code",
   "execution_count": 2,
   "metadata": {},
   "outputs": [
    {
     "name": "stdout",
     "output_type": "stream",
     "text": [
      "My vehicle is:Red:Toyota:0\n",
      "Red\n",
      "Toyota\n",
      "Corrola\n",
      "My vehicle is:Red:Toyota:100\n",
      "My vehicle is:Red:Toyota1:0\n",
      "My vehicle is:Reds:Toyota2:0\n",
      "My vehicle is:Redd:Toyota3:0\n",
      "My vehicle is:Redd:Toyota4:0\n",
      "My car is:Red:Toyota: Drag: 0\n",
      "My car is:Red:Toyota: Drag: 90\n",
      "My car is:Red:Toyota: Drag: 0 Fly: 0\n",
      "My car is:Red:Toyota: Drag: 0 Fly: 90\n"
     ]
    }
   ],
   "source": [
    "class Vehicle:\n",
    "    #dunder\n",
    "    def __init__(self, color, make, model=\"Good\"):\n",
    "        self.color = color\n",
    "        self.make = make\n",
    "        self.model = model\n",
    "        self.speed = 0\n",
    "        #self.drag = 0\n",
    "\n",
    "    def __repr__(self):\n",
    "        return \"My vehicle is:\" + self.color + \":\" + self.make + \":\" + str(self.speed)\n",
    "\n",
    "    def run(self, speed):\n",
    "        self.speed = speed\n",
    "\n",
    "veh1 = Vehicle(\"Red\", \"Toyota\", \"Corrola\")\n",
    "print(veh1)\n",
    "print(veh1.color)\n",
    "print(veh1.make)\n",
    "print(veh1.model)\n",
    "veh1.run(100)\n",
    "print(veh1)\n",
    "\n",
    "myvehs = [\n",
    "    Vehicle(\"Red\", \"Toyota1\", \"Corrola1\"),\n",
    "    Vehicle(\"Reds\", \"Toyota2\", \"Corrola2\"),\n",
    "    Vehicle(\"Redd\", \"Toyota3\", \"Corrola3\"),\n",
    "    Vehicle(\"Redd\", \"Toyota4\", \"Corrola4\")\n",
    "]\n",
    "\n",
    "for veh in myvehs:\n",
    "    print(veh)\n",
    "\n",
    "class Car(Vehicle):\n",
    "    drag = 0\n",
    "    def do_drag(self, drag):\n",
    "        self.drag = drag\n",
    "\n",
    "    def __repr__(self):\n",
    "        return \"My car is:\" + self.color + \":\" + self.make + \":\" + \" Drag: \" + str(self.drag)\n",
    "\n",
    "car = Car(\"Red\", \"Toyota\", \"Corrola\")\n",
    "print(car)\n",
    "car.do_drag(90)\n",
    "print(car)\n",
    "\n",
    "class CarSports(Car, Vehicle):\n",
    "    fly = 0\n",
    "    def do_fly(self, fly):\n",
    "        self.fly = fly\n",
    "\n",
    "    def __repr__(self):\n",
    "        return \"My car is:\" + self.color + \":\" + self.make + \":\" + \" Drag: \" + str(self.drag) \\\n",
    "        + \" Fly: \" + str(self.fly)\n",
    "\n",
    "carsports1 = CarSports(\"Red\", \"Toyota\", \"Corrola\")\n",
    "print(carsports1)\n",
    "carsports1.do_fly(90)\n",
    "print(carsports1)"
   ]
  },
  {
   "cell_type": "code",
   "execution_count": 4,
   "metadata": {},
   "outputs": [
    {
     "data": {
      "text/plain": [
       "[0, 5, 20, 45, 80, 125, 180, 245, 320]"
      ]
     },
     "execution_count": 4,
     "metadata": {},
     "output_type": "execute_result"
    }
   ],
   "source": [
    "[i*i*5 for i in range(9)]"
   ]
  },
  {
   "cell_type": "code",
   "execution_count": null,
   "metadata": {},
   "outputs": [],
   "source": []
  }
 ],
 "metadata": {
  "kernelspec": {
   "display_name": "Python 3",
   "language": "python",
   "name": "python3"
  },
  "language_info": {
   "codemirror_mode": {
    "name": "ipython",
    "version": 3
   },
   "file_extension": ".py",
   "mimetype": "text/x-python",
   "name": "python",
   "nbconvert_exporter": "python",
   "pygments_lexer": "ipython3",
   "version": "3.6.8"
  },
  "toc": {
   "base_numbering": 1,
   "nav_menu": {},
   "number_sections": true,
   "sideBar": true,
   "skip_h1_title": false,
   "title_cell": "Table of Contents",
   "title_sidebar": "Contents",
   "toc_cell": false,
   "toc_position": {},
   "toc_section_display": true,
   "toc_window_display": false
  }
 },
 "nbformat": 4,
 "nbformat_minor": 2
}
