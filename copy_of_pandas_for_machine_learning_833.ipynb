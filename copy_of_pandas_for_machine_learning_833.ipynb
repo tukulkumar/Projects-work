{
 "cells": [
  {
   "cell_type": "code",
   "execution_count": 2,
   "metadata": {},
   "outputs": [
    {
     "data": {
      "image/png": "[encoded data removed]",
      "text/plain": [
       "<Figure size 432x288 with 1 Axes>"
      ]
     },
     "metadata": {
      "needs_background": "light"
     },
     "output_type": "display_data"
    }
   ],
   "source": [
    "import matplotlib.pyplot as plt\n",
    "import numpy as np\n",
    "x = np.arange(10)\n",
    "y = x**2\n",
    "plt.plot(x,y)\n",
    "plt.show()"
   ]
  },
  {
   "cell_type": "code",
   "execution_count": 7,
   "metadata": {},
   "outputs": [
    {
     "data": {
      "text/html": [
       "<div>\n",
       "<style scoped>\n",
       "    .dataframe tbody tr th:only-of-type {\n",
       "        vertical-align: middle;\n",
       "    }\n",
       "\n",
       "    .dataframe tbody tr th {\n",
       "        vertical-align: top;\n",
       "    }\n",
       "\n",
       "    .dataframe thead th {\n",
       "        text-align: right;\n",
       "    }\n",
       "</style>\n",
       "<table border=\"1\" class=\"dataframe\">\n",
       "  <thead>\n",
       "    <tr style=\"text-align: right;\">\n",
       "      <th></th>\n",
       "      <th>latitude</th>\n",
       "      <th>housing_median_age</th>\n",
       "      <th>total_rooms</th>\n",
       "      <th>total_bedrooms</th>\n",
       "      <th>population</th>\n",
       "      <th>households</th>\n",
       "      <th>median_income</th>\n",
       "      <th>median_house_value</th>\n",
       "    </tr>\n",
       "  </thead>\n",
       "  <tbody>\n",
       "    <tr>\n",
       "      <td>count</td>\n",
       "      <td>5.000000</td>\n",
       "      <td>5.000000</td>\n",
       "      <td>5.000000</td>\n",
       "      <td>5.000000</td>\n",
       "      <td>5.000000</td>\n",
       "      <td>5.000000</td>\n",
       "      <td>5.000000</td>\n",
       "      <td>5.000000</td>\n",
       "    </tr>\n",
       "    <tr>\n",
       "      <td>mean</td>\n",
       "      <td>37.858000</td>\n",
       "      <td>43.600000</td>\n",
       "      <td>2469.400000</td>\n",
       "      <td>388.000000</td>\n",
       "      <td>868.400000</td>\n",
       "      <td>383.800000</td>\n",
       "      <td>6.674660</td>\n",
       "      <td>369340.000000</td>\n",
       "    </tr>\n",
       "    <tr>\n",
       "      <td>std</td>\n",
       "      <td>0.013038</td>\n",
       "      <td>13.501852</td>\n",
       "      <td>2603.018114</td>\n",
       "      <td>405.241286</td>\n",
       "      <td>862.336535</td>\n",
       "      <td>424.493463</td>\n",
       "      <td>1.921878</td>\n",
       "      <td>47089.733488</td>\n",
       "    </tr>\n",
       "    <tr>\n",
       "      <td>min</td>\n",
       "      <td>37.850000</td>\n",
       "      <td>21.000000</td>\n",
       "      <td>880.000000</td>\n",
       "      <td>129.000000</td>\n",
       "      <td>322.000000</td>\n",
       "      <td>126.000000</td>\n",
       "      <td>3.846200</td>\n",
       "      <td>341300.000000</td>\n",
       "    </tr>\n",
       "    <tr>\n",
       "      <td>25%</td>\n",
       "      <td>37.850000</td>\n",
       "      <td>41.000000</td>\n",
       "      <td>1274.000000</td>\n",
       "      <td>190.000000</td>\n",
       "      <td>496.000000</td>\n",
       "      <td>177.000000</td>\n",
       "      <td>5.643100</td>\n",
       "      <td>342200.000000</td>\n",
       "    </tr>\n",
       "    <tr>\n",
       "      <td>50%</td>\n",
       "      <td>37.850000</td>\n",
       "      <td>52.000000</td>\n",
       "      <td>1467.000000</td>\n",
       "      <td>235.000000</td>\n",
       "      <td>558.000000</td>\n",
       "      <td>219.000000</td>\n",
       "      <td>7.257400</td>\n",
       "      <td>352100.000000</td>\n",
       "    </tr>\n",
       "    <tr>\n",
       "      <td>75%</td>\n",
       "      <td>37.860000</td>\n",
       "      <td>52.000000</td>\n",
       "      <td>1627.000000</td>\n",
       "      <td>280.000000</td>\n",
       "      <td>565.000000</td>\n",
       "      <td>259.000000</td>\n",
       "      <td>8.301400</td>\n",
       "      <td>358500.000000</td>\n",
       "    </tr>\n",
       "    <tr>\n",
       "      <td>max</td>\n",
       "      <td>37.880000</td>\n",
       "      <td>52.000000</td>\n",
       "      <td>7099.000000</td>\n",
       "      <td>1106.000000</td>\n",
       "      <td>2401.000000</td>\n",
       "      <td>1138.000000</td>\n",
       "      <td>8.325200</td>\n",
       "      <td>452600.000000</td>\n",
       "    </tr>\n",
       "  </tbody>\n",
       "</table>\n",
       "</div>"
      ],
      "text/plain": [
       "        latitude  housing_median_age  total_rooms  total_bedrooms  \\\n",
       "count   5.000000            5.000000     5.000000        5.000000   \n",
       "mean   37.858000           43.600000  2469.400000      388.000000   \n",
       "std     0.013038           13.501852  2603.018114      405.241286   \n",
       "min    37.850000           21.000000   880.000000      129.000000   \n",
       "25%    37.850000           41.000000  1274.000000      190.000000   \n",
       "50%    37.850000           52.000000  1467.000000      235.000000   \n",
       "75%    37.860000           52.000000  1627.000000      280.000000   \n",
       "max    37.880000           52.000000  7099.000000     1106.000000   \n",
       "\n",
       "        population   households  median_income  median_house_value  \n",
       "count     5.000000     5.000000       5.000000            5.000000  \n",
       "mean    868.400000   383.800000       6.674660       369340.000000  \n",
       "std     862.336535   424.493463       1.921878        47089.733488  \n",
       "min     322.000000   126.000000       3.846200       341300.000000  \n",
       "25%     496.000000   177.000000       5.643100       342200.000000  \n",
       "50%     558.000000   219.000000       7.257400       352100.000000  \n",
       "75%     565.000000   259.000000       8.301400       358500.000000  \n",
       "max    2401.000000  1138.000000       8.325200       452600.000000  "
      ]
     },
     "execution_count": 7,
     "metadata": {},
     "output_type": "execute_result"
    }
   ],
   "source": [
    "import pandas as pd\n",
    "mydf = pd.read_csv(\"housing_short.csv\", index_col=0)\n",
    "mydf.describe()"
   ]
  },
  {
   "cell_type": "code",
   "execution_count": 5,
   "metadata": {},
   "outputs": [
    {
     "name": "stdout",
     "output_type": "stream",
     "text": [
      "churn_emails_inbox_with_python_433.ipynb\r\n",
      "copy_of_copy_of_getting_started_with_matplotlib_835.ipynb\r\n",
      "copy_of_machine_learning_prerequisites_832.ipynb\r\n",
      "copy_of_pandas_for_machine_learning_833.ipynb\r\n",
      "foundations_of_python_459.ipynb\r\n",
      "getting_started_with_various_tools_at_cloudxlab_928.ipynb\r\n",
      "housing_short.csv\r\n",
      "python_file_writing.txt\r\n"
     ]
    }
   ],
   "source": [
    "!ls"
   ]
  },
  {
   "cell_type": "code",
   "execution_count": null,
   "metadata": {},
   "outputs": [],
   "source": [
    "2**32"
   ]
  },
  {
   "cell_type": "code",
   "execution_count": 1,
   "metadata": {},
   "outputs": [
    {
     "data": {
      "image/png": "[encoded data removed]",
      "text/plain": [
       "<Figure size 432x288 with 1 Axes>"
      ]
     },
     "metadata": {
      "needs_background": "light"
     },
     "output_type": "display_data"
    }
   ],
   "source": [
    "import numpy as np\n",
    "%matplotlib inline\n",
    "import matplotlib.pyplot as plt\n",
    "u = np.array([2, 5])\n",
    "v = np.array([3, 1])\n",
    "x_coords, y_coords = zip(u, v)\n",
    "plt.scatter(x_coords, y_coords, color=[\"r\",\"b\"])\n",
    "plt.axis([0, 9, 0, 6])\n",
    "plt.grid()\n",
    "plt.show()"
   ]
  },
  {
   "cell_type": "code",
   "execution_count": null,
   "metadata": {},
   "outputs": [],
   "source": []
  }
 ],
 "metadata": {
  "kernelspec": {
   "display_name": "Python 3",
   "language": "python",
   "name": "python3"
  },
  "language_info": {
   "codemirror_mode": {
    "name": "ipython",
    "version": 3
   },
   "file_extension": ".py",
   "mimetype": "text/x-python",
   "name": "python",
   "nbconvert_exporter": "python",
   "pygments_lexer": "ipython3",
   "version": "3.6.8"
  },
  "toc": {
   "base_numbering": 1,
   "nav_menu": {},
   "number_sections": true,
   "sideBar": true,
   "skip_h1_title": false,
   "title_cell": "Table of Contents",
   "title_sidebar": "Contents",
   "toc_cell": false,
   "toc_position": {},
   "toc_section_display": true,
   "toc_window_display": false
  }
 },
 "nbformat": 4,
 "nbformat_minor": 2
}
