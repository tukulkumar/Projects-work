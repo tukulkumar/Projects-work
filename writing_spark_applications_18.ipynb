{
 "cells": [
  {
   "cell_type": "code",
   "execution_count": 1,
   "metadata": {},
   "outputs": [
    {
     "data": {
      "text/plain": [
       "accessLogs = /data/spark/project/access/access.log.2.gz MapPartitionsRDD[1] at textFile at <console>:27\n"
      ]
     },
     "metadata": {},
     "output_type": "display_data"
    },
    {
     "data": {
      "text/plain": [
       "/data/spark/project/access/access.log.2.gz MapPartitionsRDD[1] at textFile at <console>:27"
      ]
     },
     "execution_count": 1,
     "metadata": {},
     "output_type": "execute_result"
    }
   ],
   "source": [
    "var accessLogs = sc.textFile(\"/data/spark/project/access/access.log.2.gz\")"
   ]
  },
  {
   "cell_type": "code",
   "execution_count": 2,
   "metadata": {},
   "outputs": [
    {
     "data": {
      "text/plain": [
       "[::1 - - [27/Sep/2015:06:48:28 -0400] \"OPTIONS * HTTP/1.0\" 200 125 \"-\" \"Apache/2.4.7 (Ubuntu) PHP/5.5.9-1ubuntu4.11 OpenSSL/1.0.1f (internal dummy connection)\", ::1 - - [27/Sep/2015:06:48:28 -0400] \"OPTIONS * HTTP/1.0\" 200 125 \"-\" \"Apache/2.4.7 (Ubuntu) PHP/5.5.9-1ubuntu4.11 OpenSSL/1.0.1f (internal dummy connection)\", ::1 - - [27/Sep/2015:06:48:28 -0400] \"OPTIONS * HTTP/1.0\" 200 125 \"-\" \"Apache/2.4.7 (Ubuntu) PHP/5.5.9-1ubuntu4.11 OpenSSL/1.0.1f (internal dummy connection)\", 66.249.65.26 - - [27/Sep/2015:06:48:36 -0400] \"GET /node/538/done?sid=4269 HTTP/1.1\" 200 7507 \"-\" \"Mediapartners-Google\", 107.170.18.142 - - [27/Sep/2015:06:49:00 -0400] \"GET /sites/default/files/js/js_r9aWLNMmmiKmXRgRGjsumiGwv18XTh8JE7yHdM0TYzU.js HTTP/1.1\" 304 125 \"http://www.knowbigdata.com/page/big-data-and-hadoop-online-instructor-led-training\" \"Serf/1.1.0 mod_pagespeed/1.9.32.3-4448\", 107.170.18.142 - - [27/Sep/2015:06:49:00 -0400] \"GET /sites/default/files/spiffygif_30x30.gif HTTP/1.1\" 304 125 \"http://www.knowbigdata.com/page/big-data-and-hadoop-online-instructor-led-training\" \"Serf/1.1.0 mod_pagespeed/1.9.32.3-4448\", 107.170.18.142 - - [27/Sep/2015:06:49:00 -0400] \"GET /sites/default/files/hadoop.png HTTP/1.1\" 304 125 \"http://www.knowbigdata.com/page/big-data-and-hadoop-online-instructor-led-training\" \"Serf/1.1.0 mod_pagespeed/1.9.32.3-4448\", 107.170.18.142 - - [27/Sep/2015:06:49:00 -0400] \"GET /sites/default/files/digitally-signed.png HTTP/1.1\" 304 125 \"http://www.knowbigdata.com/page/big-data-and-hadoop-online-instructor-led-training\" \"Serf/1.1.0 mod_pagespeed/1.9.32.3-4448\", 107.170.18.142 - - [27/Sep/2015:06:49:00 -0400] \"GET /sites/default/files/linked-in-reco.png HTTP/1.1\" 304 125 \"http://www.knowbigdata.com/page/big-data-and-hadoop-online-instructor-led-training\" \"Serf/1.1.0 mod_pagespeed/1.9.32.3-4448\", 107.170.18.142 - - [27/Sep/2015:06:49:00 -0400] \"GET /sites/default/files/certificate.png HTTP/1.1\" 304 125 \"http://www.knowbigdata.com/page/big-data-and-hadoop-online-instructor-led-training\" \"Serf/1.1.0 mod_pagespeed/1.9.32.3-4448\"]"
      ]
     },
     "execution_count": 2,
     "metadata": {},
     "output_type": "execute_result"
    }
   ],
   "source": [
    "accessLogs.take(10)"
   ]
  },
  {
   "cell_type": "code",
   "execution_count": 3,
   "metadata": {},
   "outputs": [
    {
     "data": {
      "text/plain": [
       "containsIP: (line: String)Boolean\n"
      ]
     },
     "metadata": {},
     "output_type": "display_data"
    }
   ],
   "source": [
    "def containsIP(line:String):Boolean = return line matches \"^([0-9\\\\.]+) .*$\""
   ]
  },
  {
   "cell_type": "code",
   "execution_count": 4,
   "metadata": {},
   "outputs": [
    {
     "data": {
      "text/plain": [
       "ipaccesslogs = MapPartitionsRDD[2] at filter at <console>:31\n"
      ]
     },
     "metadata": {},
     "output_type": "display_data"
    },
    {
     "data": {
      "text/plain": [
       "MapPartitionsRDD[2] at filter at <console>:31"
      ]
     },
     "execution_count": 4,
     "metadata": {},
     "output_type": "execute_result"
    }
   ],
   "source": [
    "var ipaccesslogs = accessLogs.filter(containsIP)"
   ]
  },
  {
   "cell_type": "code",
   "execution_count": 5,
   "metadata": {},
   "outputs": [
    {
     "data": {
      "text/plain": [
       "false"
      ]
     },
     "execution_count": 5,
     "metadata": {},
     "output_type": "execute_result"
    }
   ],
   "source": [
    "containsIP(\" \")"
   ]
  },
  {
   "cell_type": "code",
   "execution_count": 7,
   "metadata": {},
   "outputs": [
    {
     "data": {
      "text/plain": [
       "true"
      ]
     },
     "execution_count": 7,
     "metadata": {},
     "output_type": "execute_result"
    }
   ],
   "source": [
    "containsIP(\"10.11.15.1 \")"
   ]
  },
  {
   "cell_type": "code",
   "execution_count": 8,
   "metadata": {},
   "outputs": [
    {
     "data": {
      "text/plain": [
       "[66.249.65.26 - - [27/Sep/2015:06:48:36 -0400] \"GET /node/538/done?sid=4269 HTTP/1.1\" 200 7507 \"-\" \"Mediapartners-Google\", 107.170.18.142 - - [27/Sep/2015:06:49:00 -0400] \"GET /sites/default/files/js/js_r9aWLNMmmiKmXRgRGjsumiGwv18XTh8JE7yHdM0TYzU.js HTTP/1.1\" 304 125 \"http://www.knowbigdata.com/page/big-data-and-hadoop-online-instructor-led-training\" \"Serf/1.1.0 mod_pagespeed/1.9.32.3-4448\", 107.170.18.142 - - [27/Sep/2015:06:49:00 -0400] \"GET /sites/default/files/spiffygif_30x30.gif HTTP/1.1\" 304 125 \"http://www.knowbigdata.com/page/big-data-and-hadoop-online-instructor-led-training\" \"Serf/1.1.0 mod_pagespeed/1.9.32.3-4448\", 107.170.18.142 - - [27/Sep/2015:06:49:00 -0400] \"GET /sites/default/files/hadoop.png HTTP/1.1\" 304 125 \"http://www.knowbigdata.com/page/big-data-and-hadoop-online-instructor-led-training\" \"Serf/1.1.0 mod_pagespeed/1.9.32.3-4448\", 107.170.18.142 - - [27/Sep/2015:06:49:00 -0400] \"GET /sites/default/files/digitally-signed.png HTTP/1.1\" 304 125 \"http://www.knowbigdata.com/page/big-data-and-hadoop-online-instructor-led-training\" \"Serf/1.1.0 mod_pagespeed/1.9.32.3-4448\", 107.170.18.142 - - [27/Sep/2015:06:49:00 -0400] \"GET /sites/default/files/linked-in-reco.png HTTP/1.1\" 304 125 \"http://www.knowbigdata.com/page/big-data-and-hadoop-online-instructor-led-training\" \"Serf/1.1.0 mod_pagespeed/1.9.32.3-4448\", 107.170.18.142 - - [27/Sep/2015:06:49:00 -0400] \"GET /sites/default/files/certificate.png HTTP/1.1\" 304 125 \"http://www.knowbigdata.com/page/big-data-and-hadoop-online-instructor-led-training\" \"Serf/1.1.0 mod_pagespeed/1.9.32.3-4448\", 107.170.18.142 - - [27/Sep/2015:06:49:00 -0400] \"GET /sites/default/files/sgiri.jpg HTTP/1.1\" 304 124 \"http://www.knowbigdata.com/page/big-data-and-hadoop-online-instructor-led-training\" \"Serf/1.1.0 mod_pagespeed/1.9.32.3-4448\", 5.9.106.81 - - [27/Sep/2015:06:49:00 -0400] \"GET /page/big-data-hadoop-online-instructor-led-training-session-1-introduction-free-26-may HTTP/1.1\" 301 515 \"-\" \"Mozilla/5.0 (Windows NT 5.1) AppleWebKit/537.31 (KHTML, like Gecko) Chrome/26.0.1410.43 Safari/537.31\", 5.9.94.207 - - [27/Sep/2015:06:49:00 -0400] \"GET /page/big-data-and-hadoop-online-instructor-led-training HTTP/1.1\" 200 89056 \"-\" \"Mozilla/5.0 (X11; U; Linux i686; en-US; rv:1.9.1.16) Gecko/20120421 Gecko Firefox/11.0\"]"
      ]
     },
     "execution_count": 8,
     "metadata": {},
     "output_type": "execute_result"
    }
   ],
   "source": [
    "ipaccesslogs.take(10)"
   ]
  },
  {
   "cell_type": "code",
   "execution_count": 9,
   "metadata": {},
   "outputs": [
    {
     "data": {
      "text/plain": [
       "extractIP: (line: String)String\n"
      ]
     },
     "metadata": {},
     "output_type": "display_data"
    }
   ],
   "source": [
    "def extractIP(line:String):(String) = {\n",
    "    // Here we are using the regular expression for matching the strings with a certain pattern.\n",
    "    val pattern = \"^([0-9\\\\.]+) .*$\".r\n",
    "    val pattern(ip:String) = line\n",
    "    return (ip.toString)\n",
    "}"
   ]
  },
  {
   "cell_type": "code",
   "execution_count": 10,
   "metadata": {},
   "outputs": [
    {
     "data": {
      "text/plain": [
       "ips = MapPartitionsRDD[3] at map at <console>:35\n"
      ]
     },
     "metadata": {},
     "output_type": "display_data"
    },
    {
     "data": {
      "text/plain": [
       "MapPartitionsRDD[3] at map at <console>:35"
      ]
     },
     "execution_count": 10,
     "metadata": {},
     "output_type": "execute_result"
    }
   ],
   "source": [
    "var ips = ipaccesslogs.map(line => (extractIP(line),1));"
   ]
  },
  {
   "cell_type": "code",
   "execution_count": 11,
   "metadata": {},
   "outputs": [
    {
     "data": {
      "text/plain": [
       "ipcounts = ShuffledRDD[4] at reduceByKey at <console>:37\n",
       "ipcountsOrdered = MapPartitionsRDD[7] at sortBy at <console>:38\n"
      ]
     },
     "metadata": {},
     "output_type": "display_data"
    },
    {
     "data": {
      "text/plain": [
       "[(107.170.18.142,142072), (106.216.188.163,4584), (173.0.130.26,1335), (69.65.19.184,1259), (106.216.154.50,1187), (78.46.22.138,1093), (180.151.117.99,1088), (106.216.189.5,638), (59.97.17.204,478), (72.195.144.124,436)]"
      ]
     },
     "execution_count": 11,
     "metadata": {},
     "output_type": "execute_result"
    }
   ],
   "source": [
    "var ipcounts = ips.reduceByKey((a,b) => (a+b))\n",
    "var ipcountsOrdered = ipcounts.sortBy(f => f._2, false);\n",
    "ipcountsOrdered.take(10)"
   ]
  },
  {
   "cell_type": "code",
   "execution_count": null,
   "metadata": {},
   "outputs": [],
   "source": []
  }
 ],
 "metadata": {
  "kernelspec": {
   "display_name": "Apache Toree - Scala",
   "language": "scala",
   "name": "apache_toree_scala"
  },
  "language_info": {
   "codemirror_mode": "text/x-scala",
   "file_extension": ".scala",
   "mimetype": "text/x-scala",
   "name": "scala",
   "pygments_lexer": "scala",
   "version": "2.11.8"
  },
  "toc": {
   "base_numbering": 1,
   "nav_menu": {},
   "number_sections": true,
   "sideBar": true,
   "skip_h1_title": false,
   "title_cell": "Table of Contents",
   "title_sidebar": "Contents",
   "toc_cell": false,
   "toc_position": {},
   "toc_section_display": true,
   "toc_window_display": false
  }
 },
 "nbformat": 4,
 "nbformat_minor": 2
}
