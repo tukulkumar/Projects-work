{
 "cells": [
  {
   "cell_type": "code",
   "execution_count": 9,
   "metadata": {},
   "outputs": [],
   "source": [
    "import numpy as np\n",
    "x = np.random.rand(5,5,5)"
   ]
  },
  {
   "cell_type": "code",
   "execution_count": 2,
   "metadata": {},
   "outputs": [
    {
     "data": {
      "text/plain": [
       "array([[[0.89443576, 0.11860518, 0.29917935, 0.99336352, 0.84017488],\n",
       "        [0.5320142 , 0.33457371, 0.21789489, 0.65669358, 0.38691019],\n",
       "        [0.87864164, 0.97809114, 0.26606344, 0.44404125, 0.51798038],\n",
       "        [0.60788541, 0.90831973, 0.45717969, 0.72974471, 0.33038838],\n",
       "        [0.11917855, 0.85649119, 0.21990195, 0.49382985, 0.74399691]],\n",
       "\n",
       "       [[0.0261506 , 0.57725288, 0.90541324, 0.29688663, 0.37321386],\n",
       "        [0.24694247, 0.09377471, 0.24198729, 0.69234531, 0.40878387],\n",
       "        [0.0522895 , 0.76788948, 0.9918257 , 0.62539782, 0.63146045],\n",
       "        [0.31731931, 0.13104758, 0.09244969, 0.17995054, 0.36032213],\n",
       "        [0.8344935 , 0.77719564, 0.47574799, 0.44205627, 0.39367214]],\n",
       "\n",
       "       [[0.32258288, 0.36778032, 0.88871332, 0.29712793, 0.39438333],\n",
       "        [0.06803867, 0.99742978, 0.86435656, 0.79255084, 0.02373348],\n",
       "        [0.28074424, 0.2906956 , 0.90095456, 0.73424025, 0.83377547],\n",
       "        [0.5500624 , 0.50806639, 0.95267199, 0.70025329, 0.54374377],\n",
       "        [0.49125325, 0.99391062, 0.45072837, 0.62060782, 0.91477923]],\n",
       "\n",
       "       [[0.19224677, 0.15270804, 0.52303293, 0.33822617, 0.27931568],\n",
       "        [0.98123411, 0.87892005, 0.76425605, 0.07940652, 0.50134834],\n",
       "        [0.38094514, 0.48738684, 0.65862031, 0.0141893 , 0.89818916],\n",
       "        [0.51752766, 0.92910833, 0.68688803, 0.31528281, 0.23412989],\n",
       "        [0.79975037, 0.90010931, 0.85764717, 0.20743878, 0.08049181]],\n",
       "\n",
       "       [[0.12359353, 0.59748519, 0.36577761, 0.431033  , 0.17548115],\n",
       "        [0.1970839 , 0.93017758, 0.66034104, 0.72861488, 0.41436532],\n",
       "        [0.48416212, 0.86706684, 0.74179144, 0.94360139, 0.79647287],\n",
       "        [0.89241731, 0.50942034, 0.05342913, 0.44151457, 0.35910998],\n",
       "        [0.41172627, 0.95626163, 0.43453947, 0.50705926, 0.28727416]]])"
      ]
     },
     "execution_count": 2,
     "metadata": {},
     "output_type": "execute_result"
    }
   ],
   "source": [
    "x"
   ]
  },
  {
   "cell_type": "code",
   "execution_count": 19,
   "metadata": {},
   "outputs": [
    {
     "name": "stdout",
     "output_type": "stream",
     "text": [
      "[[-4 -3 -1  0]]\n"
     ]
    }
   ],
   "source": [
    "a = np.array([[1, 2, 4, 5]])\n",
    "b = np.array([5])\n",
    "print (a-b)"
   ]
  },
  {
   "cell_type": "code",
   "execution_count": 12,
   "metadata": {},
   "outputs": [
    {
     "name": "stdout",
     "output_type": "stream",
     "text": [
      "[6 6 7 7]\n"
     ]
    }
   ],
   "source": [
    "c = np.array([5, 4, 3, 2])\n",
    "print (a+c)"
   ]
  },
  {
   "cell_type": "code",
   "execution_count": 20,
   "metadata": {},
   "outputs": [
    {
     "data": {
      "text/plain": [
       "array([6, 7, 8])"
      ]
     },
     "execution_count": 20,
     "metadata": {},
     "output_type": "execute_result"
    }
   ],
   "source": [
    "np.arange(3) + 6"
   ]
  },
  {
   "cell_type": "code",
   "execution_count": 6,
   "metadata": {},
   "outputs": [],
   "source": [
    "import pandas as pd\n",
    "s = pd.Series([2,-1,3,5])"
   ]
  },
  {
   "cell_type": "code",
   "execution_count": 7,
   "metadata": {},
   "outputs": [
    {
     "data": {
      "text/plain": [
       "0    2\n",
       "1   -1\n",
       "2    3\n",
       "3    5\n",
       "dtype: int64"
      ]
     },
     "execution_count": 7,
     "metadata": {},
     "output_type": "execute_result"
    }
   ],
   "source": [
    "s"
   ]
  },
  {
   "cell_type": "code",
   "execution_count": 10,
   "metadata": {},
   "outputs": [
    {
     "data": {
      "text/plain": [
       "0     4\n",
       "1     1\n",
       "2     9\n",
       "3    25\n",
       "dtype: int64"
      ]
     },
     "execution_count": 10,
     "metadata": {},
     "output_type": "execute_result"
    }
   ],
   "source": [
    "np.square(s)"
   ]
  },
  {
   "cell_type": "code",
   "execution_count": 26,
   "metadata": {},
   "outputs": [
    {
     "data": {
      "text/plain": [
       "0    102\n",
       "1    199\n",
       "2    303\n",
       "3    405\n",
       "dtype: int64"
      ]
     },
     "execution_count": 26,
     "metadata": {},
     "output_type": "execute_result"
    }
   ],
   "source": [
    "s + [100, 200, 300, 400]"
   ]
  },
  {
   "cell_type": "code",
   "execution_count": 27,
   "metadata": {},
   "outputs": [
    {
     "data": {
      "text/plain": [
       "0    False\n",
       "1     True\n",
       "2    False\n",
       "3    False\n",
       "dtype: bool"
      ]
     },
     "execution_count": 27,
     "metadata": {},
     "output_type": "execute_result"
    }
   ],
   "source": [
    "s < 0"
   ]
  },
  {
   "cell_type": "code",
   "execution_count": null,
   "metadata": {},
   "outputs": [],
   "source": []
  },
  {
   "cell_type": "code",
   "execution_count": 11,
   "metadata": {},
   "outputs": [
    {
     "name": "stdout",
     "output_type": "stream",
     "text": [
      "alice      23\n",
      "bob        45\n",
      "charles    64\n",
      "daarwin    76\n",
      "dtype: int64\n"
     ]
    }
   ],
   "source": [
    "s2 = pd.Series([23, 45, 64, 76], index=['alice', 'bob', 'charles', 'daarwin'])\n",
    "print (s2)"
   ]
  },
  {
   "cell_type": "code",
   "execution_count": 12,
   "metadata": {},
   "outputs": [
    {
     "name": "stdout",
     "output_type": "stream",
     "text": [
      "     0\n",
      "23 NaN\n",
      "45 NaN\n",
      "64 NaN\n",
      "76 NaN\n"
     ]
    }
   ],
   "source": [
    "print(pd.DataFrame(s,s2))"
   ]
  },
  {
   "cell_type": "code",
   "execution_count": 13,
   "metadata": {},
   "outputs": [],
   "source": [
    "s3 = pd.Series([87, 65, 76, 97], index=['alice', 'bob', 'charles', 'daarwin'])\n",
    "s4 = pd.Series([98, 35, 76, 37], index=['alice', 'bird', 'charles', 'daarwin'])"
   ]
  },
  {
   "cell_type": "code",
   "execution_count": 14,
   "metadata": {},
   "outputs": [
    {
     "name": "stdout",
     "output_type": "stream",
     "text": [
      "   alice   bob  charles  daarwin  bird\n",
      "0   23.0  45.0     64.0     76.0   NaN\n",
      "1   87.0  65.0     76.0     97.0   NaN\n",
      "2   98.0   NaN     76.0     37.0  35.0\n"
     ]
    }
   ],
   "source": [
    "print(pd.DataFrame([s2, s3, s4]))"
   ]
  },
  {
   "cell_type": "code",
   "execution_count": 15,
   "metadata": {},
   "outputs": [],
   "source": [
    "data = pd.DataFrame([s2, s3,  s4])"
   ]
  },
  {
   "cell_type": "code",
   "execution_count": 16,
   "metadata": {},
   "outputs": [
    {
     "name": "stdout",
     "output_type": "stream",
     "text": [
      "   alice   bob  charles  daarwin  bird\n",
      "0   23.0  45.0     64.0     76.0   NaN\n",
      "1   87.0  65.0     76.0     97.0   NaN\n",
      "2   98.0   NaN     76.0     37.0  35.0\n"
     ]
    }
   ],
   "source": [
    "print(data)"
   ]
  },
  {
   "cell_type": "code",
   "execution_count": 22,
   "metadata": {},
   "outputs": [
    {
     "data": {
      "text/plain": [
       "alice      23.0\n",
       "bob        45.0\n",
       "charles    64.0\n",
       "daarwin    76.0\n",
       "bird        NaN\n",
       "Name: 0, dtype: float64"
      ]
     },
     "execution_count": 22,
     "metadata": {},
     "output_type": "execute_result"
    }
   ],
   "source": [
    "data.iloc[0]"
   ]
  },
  {
   "cell_type": "code",
   "execution_count": 23,
   "metadata": {},
   "outputs": [],
   "source": [
    "people = data.T"
   ]
  },
  {
   "cell_type": "code",
   "execution_count": 24,
   "metadata": {},
   "outputs": [
    {
     "data": {
      "text/html": [
       "<div>\n",
       "<style scoped>\n",
       "    .dataframe tbody tr th:only-of-type {\n",
       "        vertical-align: middle;\n",
       "    }\n",
       "\n",
       "    .dataframe tbody tr th {\n",
       "        vertical-align: top;\n",
       "    }\n",
       "\n",
       "    .dataframe thead th {\n",
       "        text-align: right;\n",
       "    }\n",
       "</style>\n",
       "<table border=\"1\" class=\"dataframe\">\n",
       "  <thead>\n",
       "    <tr style=\"text-align: right;\">\n",
       "      <th></th>\n",
       "      <th>0</th>\n",
       "      <th>1</th>\n",
       "      <th>2</th>\n",
       "    </tr>\n",
       "  </thead>\n",
       "  <tbody>\n",
       "    <tr>\n",
       "      <td>alice</td>\n",
       "      <td>23.0</td>\n",
       "      <td>87.0</td>\n",
       "      <td>98.0</td>\n",
       "    </tr>\n",
       "    <tr>\n",
       "      <td>bob</td>\n",
       "      <td>45.0</td>\n",
       "      <td>65.0</td>\n",
       "      <td>NaN</td>\n",
       "    </tr>\n",
       "    <tr>\n",
       "      <td>charles</td>\n",
       "      <td>64.0</td>\n",
       "      <td>76.0</td>\n",
       "      <td>76.0</td>\n",
       "    </tr>\n",
       "    <tr>\n",
       "      <td>daarwin</td>\n",
       "      <td>76.0</td>\n",
       "      <td>97.0</td>\n",
       "      <td>37.0</td>\n",
       "    </tr>\n",
       "    <tr>\n",
       "      <td>bird</td>\n",
       "      <td>NaN</td>\n",
       "      <td>NaN</td>\n",
       "      <td>35.0</td>\n",
       "    </tr>\n",
       "  </tbody>\n",
       "</table>\n",
       "</div>"
      ],
      "text/plain": [
       "            0     1     2\n",
       "alice    23.0  87.0  98.0\n",
       "bob      45.0  65.0   NaN\n",
       "charles  64.0  76.0  76.0\n",
       "daarwin  76.0  97.0  37.0\n",
       "bird      NaN   NaN  35.0"
      ]
     },
     "execution_count": 24,
     "metadata": {},
     "output_type": "execute_result"
    }
   ],
   "source": [
    "people"
   ]
  },
  {
   "cell_type": "code",
   "execution_count": 29,
   "metadata": {},
   "outputs": [],
   "source": [
    "people.insert(1,\"hobby\",[\"bike\",\"dance\",\"sing\",\"swim\",\"oo\"])"
   ]
  },
  {
   "cell_type": "code",
   "execution_count": 30,
   "metadata": {},
   "outputs": [
    {
     "data": {
      "text/html": [
       "<div>\n",
       "<style scoped>\n",
       "    .dataframe tbody tr th:only-of-type {\n",
       "        vertical-align: middle;\n",
       "    }\n",
       "\n",
       "    .dataframe tbody tr th {\n",
       "        vertical-align: top;\n",
       "    }\n",
       "\n",
       "    .dataframe thead th {\n",
       "        text-align: right;\n",
       "    }\n",
       "</style>\n",
       "<table border=\"1\" class=\"dataframe\">\n",
       "  <thead>\n",
       "    <tr style=\"text-align: right;\">\n",
       "      <th></th>\n",
       "      <th>0</th>\n",
       "      <th>hobby</th>\n",
       "      <th>1</th>\n",
       "      <th>2</th>\n",
       "    </tr>\n",
       "  </thead>\n",
       "  <tbody>\n",
       "    <tr>\n",
       "      <td>alice</td>\n",
       "      <td>23.0</td>\n",
       "      <td>bike</td>\n",
       "      <td>87.0</td>\n",
       "      <td>98.0</td>\n",
       "    </tr>\n",
       "    <tr>\n",
       "      <td>bob</td>\n",
       "      <td>45.0</td>\n",
       "      <td>dance</td>\n",
       "      <td>65.0</td>\n",
       "      <td>NaN</td>\n",
       "    </tr>\n",
       "    <tr>\n",
       "      <td>charles</td>\n",
       "      <td>64.0</td>\n",
       "      <td>sing</td>\n",
       "      <td>76.0</td>\n",
       "      <td>76.0</td>\n",
       "    </tr>\n",
       "    <tr>\n",
       "      <td>daarwin</td>\n",
       "      <td>76.0</td>\n",
       "      <td>swim</td>\n",
       "      <td>97.0</td>\n",
       "      <td>37.0</td>\n",
       "    </tr>\n",
       "    <tr>\n",
       "      <td>bird</td>\n",
       "      <td>NaN</td>\n",
       "      <td>oo</td>\n",
       "      <td>NaN</td>\n",
       "      <td>35.0</td>\n",
       "    </tr>\n",
       "  </tbody>\n",
       "</table>\n",
       "</div>"
      ],
      "text/plain": [
       "            0  hobby     1     2\n",
       "alice    23.0   bike  87.0  98.0\n",
       "bob      45.0  dance  65.0   NaN\n",
       "charles  64.0   sing  76.0  76.0\n",
       "daarwin  76.0   swim  97.0  37.0\n",
       "bird      NaN     oo   NaN  35.0"
      ]
     },
     "execution_count": 30,
     "metadata": {},
     "output_type": "execute_result"
    }
   ],
   "source": [
    "people"
   ]
  },
  {
   "cell_type": "code",
   "execution_count": 33,
   "metadata": {},
   "outputs": [],
   "source": [
    "people[\"birth_year\"] = pd.Series({\"alice\":1985, \"bob\":1989, \"charles\":1991,\"daarwin\":1997})"
   ]
  },
  {
   "cell_type": "code",
   "execution_count": null,
   "metadata": {},
   "outputs": [],
   "source": []
  },
  {
   "cell_type": "code",
   "execution_count": 34,
   "metadata": {},
   "outputs": [
    {
     "data": {
      "text/html": [
       "<div>\n",
       "<style scoped>\n",
       "    .dataframe tbody tr th:only-of-type {\n",
       "        vertical-align: middle;\n",
       "    }\n",
       "\n",
       "    .dataframe tbody tr th {\n",
       "        vertical-align: top;\n",
       "    }\n",
       "\n",
       "    .dataframe thead th {\n",
       "        text-align: right;\n",
       "    }\n",
       "</style>\n",
       "<table border=\"1\" class=\"dataframe\">\n",
       "  <thead>\n",
       "    <tr style=\"text-align: right;\">\n",
       "      <th></th>\n",
       "      <th>0</th>\n",
       "      <th>hobby</th>\n",
       "      <th>1</th>\n",
       "      <th>2</th>\n",
       "      <th>birth_year</th>\n",
       "    </tr>\n",
       "  </thead>\n",
       "  <tbody>\n",
       "    <tr>\n",
       "      <td>alice</td>\n",
       "      <td>23.0</td>\n",
       "      <td>bike</td>\n",
       "      <td>87.0</td>\n",
       "      <td>98.0</td>\n",
       "      <td>1985.0</td>\n",
       "    </tr>\n",
       "    <tr>\n",
       "      <td>bob</td>\n",
       "      <td>45.0</td>\n",
       "      <td>dance</td>\n",
       "      <td>65.0</td>\n",
       "      <td>NaN</td>\n",
       "      <td>1989.0</td>\n",
       "    </tr>\n",
       "    <tr>\n",
       "      <td>charles</td>\n",
       "      <td>64.0</td>\n",
       "      <td>sing</td>\n",
       "      <td>76.0</td>\n",
       "      <td>76.0</td>\n",
       "      <td>1991.0</td>\n",
       "    </tr>\n",
       "    <tr>\n",
       "      <td>daarwin</td>\n",
       "      <td>76.0</td>\n",
       "      <td>swim</td>\n",
       "      <td>97.0</td>\n",
       "      <td>37.0</td>\n",
       "      <td>1997.0</td>\n",
       "    </tr>\n",
       "    <tr>\n",
       "      <td>bird</td>\n",
       "      <td>NaN</td>\n",
       "      <td>oo</td>\n",
       "      <td>NaN</td>\n",
       "      <td>35.0</td>\n",
       "      <td>NaN</td>\n",
       "    </tr>\n",
       "  </tbody>\n",
       "</table>\n",
       "</div>"
      ],
      "text/plain": [
       "            0  hobby     1     2  birth_year\n",
       "alice    23.0   bike  87.0  98.0      1985.0\n",
       "bob      45.0  dance  65.0   NaN      1989.0\n",
       "charles  64.0   sing  76.0  76.0      1991.0\n",
       "daarwin  76.0   swim  97.0  37.0      1997.0\n",
       "bird      NaN     oo   NaN  35.0         NaN"
      ]
     },
     "execution_count": 34,
     "metadata": {},
     "output_type": "execute_result"
    }
   ],
   "source": [
    "people"
   ]
  },
  {
   "cell_type": "code",
   "execution_count": 35,
   "metadata": {},
   "outputs": [
    {
     "data": {
      "text/html": [
       "<div>\n",
       "<style scoped>\n",
       "    .dataframe tbody tr th:only-of-type {\n",
       "        vertical-align: middle;\n",
       "    }\n",
       "\n",
       "    .dataframe tbody tr th {\n",
       "        vertical-align: top;\n",
       "    }\n",
       "\n",
       "    .dataframe thead th {\n",
       "        text-align: right;\n",
       "    }\n",
       "</style>\n",
       "<table border=\"1\" class=\"dataframe\">\n",
       "  <thead>\n",
       "    <tr style=\"text-align: right;\">\n",
       "      <th></th>\n",
       "      <th>0</th>\n",
       "      <th>hobby</th>\n",
       "      <th>1</th>\n",
       "      <th>2</th>\n",
       "      <th>birth_year</th>\n",
       "    </tr>\n",
       "  </thead>\n",
       "  <tbody>\n",
       "    <tr>\n",
       "      <td>daarwin</td>\n",
       "      <td>76.0</td>\n",
       "      <td>swim</td>\n",
       "      <td>97.0</td>\n",
       "      <td>37.0</td>\n",
       "      <td>1997.0</td>\n",
       "    </tr>\n",
       "    <tr>\n",
       "      <td>charles</td>\n",
       "      <td>64.0</td>\n",
       "      <td>sing</td>\n",
       "      <td>76.0</td>\n",
       "      <td>76.0</td>\n",
       "      <td>1991.0</td>\n",
       "    </tr>\n",
       "    <tr>\n",
       "      <td>bob</td>\n",
       "      <td>45.0</td>\n",
       "      <td>dance</td>\n",
       "      <td>65.0</td>\n",
       "      <td>NaN</td>\n",
       "      <td>1989.0</td>\n",
       "    </tr>\n",
       "    <tr>\n",
       "      <td>bird</td>\n",
       "      <td>NaN</td>\n",
       "      <td>oo</td>\n",
       "      <td>NaN</td>\n",
       "      <td>35.0</td>\n",
       "      <td>NaN</td>\n",
       "    </tr>\n",
       "    <tr>\n",
       "      <td>alice</td>\n",
       "      <td>23.0</td>\n",
       "      <td>bike</td>\n",
       "      <td>87.0</td>\n",
       "      <td>98.0</td>\n",
       "      <td>1985.0</td>\n",
       "    </tr>\n",
       "  </tbody>\n",
       "</table>\n",
       "</div>"
      ],
      "text/plain": [
       "            0  hobby     1     2  birth_year\n",
       "daarwin  76.0   swim  97.0  37.0      1997.0\n",
       "charles  64.0   sing  76.0  76.0      1991.0\n",
       "bob      45.0  dance  65.0   NaN      1989.0\n",
       "bird      NaN     oo   NaN  35.0         NaN\n",
       "alice    23.0   bike  87.0  98.0      1985.0"
      ]
     },
     "execution_count": 35,
     "metadata": {},
     "output_type": "execute_result"
    }
   ],
   "source": [
    "people.sort_index(ascending =False)"
   ]
  },
  {
   "cell_type": "code",
   "execution_count": 39,
   "metadata": {},
   "outputs": [
    {
     "data": {
      "text/html": [
       "<div>\n",
       "<style scoped>\n",
       "    .dataframe tbody tr th:only-of-type {\n",
       "        vertical-align: middle;\n",
       "    }\n",
       "\n",
       "    .dataframe tbody tr th {\n",
       "        vertical-align: top;\n",
       "    }\n",
       "\n",
       "    .dataframe thead th {\n",
       "        text-align: right;\n",
       "    }\n",
       "</style>\n",
       "<table border=\"1\" class=\"dataframe\">\n",
       "  <thead>\n",
       "    <tr style=\"text-align: right;\">\n",
       "      <th></th>\n",
       "      <th>0</th>\n",
       "      <th>hobby</th>\n",
       "      <th>1</th>\n",
       "      <th>2</th>\n",
       "      <th>birth_year</th>\n",
       "    </tr>\n",
       "  </thead>\n",
       "  <tbody>\n",
       "    <tr>\n",
       "      <td>alice</td>\n",
       "      <td>23.0</td>\n",
       "      <td>bike</td>\n",
       "      <td>87.0</td>\n",
       "      <td>98.0</td>\n",
       "      <td>1985.0</td>\n",
       "    </tr>\n",
       "    <tr>\n",
       "      <td>bob</td>\n",
       "      <td>45.0</td>\n",
       "      <td>dance</td>\n",
       "      <td>65.0</td>\n",
       "      <td>NaN</td>\n",
       "      <td>1989.0</td>\n",
       "    </tr>\n",
       "    <tr>\n",
       "      <td>charles</td>\n",
       "      <td>64.0</td>\n",
       "      <td>sing</td>\n",
       "      <td>76.0</td>\n",
       "      <td>76.0</td>\n",
       "      <td>1991.0</td>\n",
       "    </tr>\n",
       "    <tr>\n",
       "      <td>daarwin</td>\n",
       "      <td>76.0</td>\n",
       "      <td>swim</td>\n",
       "      <td>97.0</td>\n",
       "      <td>37.0</td>\n",
       "      <td>1997.0</td>\n",
       "    </tr>\n",
       "    <tr>\n",
       "      <td>bird</td>\n",
       "      <td>NaN</td>\n",
       "      <td>oo</td>\n",
       "      <td>NaN</td>\n",
       "      <td>35.0</td>\n",
       "      <td>NaN</td>\n",
       "    </tr>\n",
       "  </tbody>\n",
       "</table>\n",
       "</div>"
      ],
      "text/plain": [
       "            0  hobby     1     2  birth_year\n",
       "alice    23.0   bike  87.0  98.0      1985.0\n",
       "bob      45.0  dance  65.0   NaN      1989.0\n",
       "charles  64.0   sing  76.0  76.0      1991.0\n",
       "daarwin  76.0   swim  97.0  37.0      1997.0\n",
       "bird      NaN     oo   NaN  35.0         NaN"
      ]
     },
     "execution_count": 39,
     "metadata": {},
     "output_type": "execute_result"
    }
   ],
   "source": [
    "people.sort_values(by=\"birth_year\", inplace = True)\n",
    "people"
   ]
  },
  {
   "cell_type": "code",
   "execution_count": 42,
   "metadata": {},
   "outputs": [
    {
     "data": {
      "image/png": "[encoded data removed]",
      "text/plain": [
       "<Figure size 432x288 with 1 Axes>"
      ]
     },
     "metadata": {
      "needs_background": "light"
     },
     "output_type": "display_data"
    }
   ],
   "source": [
    "import matplotlib.pyplot as plt\n",
    "plt.plot([1,2,3,4,5],[9,7,5,3,1])\n",
    "plt.ylabel('some num')\n",
    "plt.show()"
   ]
  },
  {
   "cell_type": "code",
   "execution_count": 43,
   "metadata": {},
   "outputs": [
    {
     "data": {
      "image/png": "[encoded data removed]",
      "text/plain": [
       "<Figure size 432x288 with 1 Axes>"
      ]
     },
     "metadata": {
      "needs_background": "light"
     },
     "output_type": "display_data"
    }
   ],
   "source": [
    "x = [21,22,23,4,5,6,77,8,9,10,31,32,33,34,35,36,37,18,49,50]\n",
    "num_bins = 5\n",
    "plt.hist(x,  num_bins, facecolor = 'blue')\n",
    "plt.show()"
   ]
  },
  {
   "cell_type": "code",
   "execution_count": 1,
   "metadata": {},
   "outputs": [
    {
     "name": "stdout",
     "output_type": "stream",
     "text": [
      "[50 12 67 23]\n"
     ]
    }
   ],
   "source": [
    "import numpy as np\n",
    "my_list = [50, 12, 67, 23]\n",
    "my_list_array = np.array(my_list)\n",
    "print(my_list_array)"
   ]
  },
  {
   "cell_type": "code",
   "execution_count": 2,
   "metadata": {},
   "outputs": [
    {
     "name": "stdout",
     "output_type": "stream",
     "text": [
      "[88 17 45 76]\n"
     ]
    }
   ],
   "source": [
    "my_tup = (88, 17, 45, 76)\n",
    "my_tup_arr = np.array(my_tup)\n",
    "print(my_tup_arr)"
   ]
  },
  {
   "cell_type": "code",
   "execution_count": 3,
   "metadata": {},
   "outputs": [
    {
     "name": "stdout",
     "output_type": "stream",
     "text": [
      "[1 2 3]\n",
      "[1 2 3]\n"
     ]
    }
   ],
   "source": [
    "sample_list = [1,2,3]\n",
    "list_array = np.array(sample_list)\n",
    "tup = (1,2,3)\n",
    "my_tup_array = np.array(tup)\n",
    "print (list_array)\n",
    "print (my_tup_array)"
   ]
  },
  {
   "cell_type": "code",
   "execution_count": 10,
   "metadata": {},
   "outputs": [],
   "source": [
    "def multiply_loops(A, B):\n",
    "    c=np.zeros((A.shape[0], B.shape[1]))\n",
    "    for i in range(A.shape[0]):\n",
    "        for k in range(B.shape[1]):\n",
    "            c[i,k] = 0\n",
    "            for j in range(B.shape[0]):\n",
    "                n = A[i,j] * B[j,k]\n",
    "                c[i,k] += n\n",
    "    return c"
   ]
  },
  {
   "cell_type": "code",
   "execution_count": 11,
   "metadata": {},
   "outputs": [],
   "source": [
    "def multiply_vector(A, B):\n",
    "     return A @ B"
   ]
  },
  {
   "cell_type": "code",
   "execution_count": 12,
   "metadata": {},
   "outputs": [],
   "source": [
    "X = np.random.random((100, 100))\n",
    "Y = np.random.random((100, 100))"
   ]
  },
  {
   "cell_type": "code",
   "execution_count": 13,
   "metadata": {},
   "outputs": [
    {
     "name": "stdout",
     "output_type": "stream",
     "text": [
      "591 ms ± 4.49 ms per loop (mean ± std. dev. of 7 runs, 1 loop each)\n",
      "26.3 µs ± 706 ns per loop (mean ± std. dev. of 7 runs, 10000 loops each)\n"
     ]
    }
   ],
   "source": [
    "%timeit multiply_loops(X, Y)\n",
    "%timeit multiply_vector(X, Y)"
   ]
  },
  {
   "cell_type": "code",
   "execution_count": 14,
   "metadata": {},
   "outputs": [],
   "source": [
    "tup_dim = (3, 4)\n",
    "my_zeros_array = np.zeros(tup_dim, dtype=np.int16)"
   ]
  },
  {
   "cell_type": "code",
   "execution_count": 15,
   "metadata": {},
   "outputs": [],
   "source": [
    "my_ones_array = np.ones( tup_dim, dtype=np.int16)"
   ]
  },
  {
   "cell_type": "code",
   "execution_count": 16,
   "metadata": {},
   "outputs": [],
   "source": [
    "my_seven_array = np.full(tup_dim, 7, dtype=np.int16)"
   ]
  },
  {
   "cell_type": "code",
   "execution_count": 17,
   "metadata": {},
   "outputs": [
    {
     "name": "stdout",
     "output_type": "stream",
     "text": [
      "[[0 0 0 0]\n",
      " [0 0 0 0]\n",
      " [0 0 0 0]]\n",
      "[[1 1 1 1]\n",
      " [1 1 1 1]\n",
      " [1 1 1 1]]\n",
      "[[7 7 7 7]\n",
      " [7 7 7 7]\n",
      " [7 7 7 7]]\n"
     ]
    }
   ],
   "source": [
    "print(my_zeros_array)\n",
    "print(my_ones_array)\n",
    "print(my_seven_array)"
   ]
  },
  {
   "cell_type": "code",
   "execution_count": 18,
   "metadata": {},
   "outputs": [],
   "source": [
    "my_identity_array = np.identity(4, dtype=np.float64)"
   ]
  },
  {
   "cell_type": "code",
   "execution_count": 19,
   "metadata": {},
   "outputs": [
    {
     "name": "stdout",
     "output_type": "stream",
     "text": [
      "[[1. 0. 0. 0.]\n",
      " [0. 1. 0. 0.]\n",
      " [0. 0. 1. 0.]\n",
      " [0. 0. 0. 1.]]\n"
     ]
    }
   ],
   "source": [
    "print(my_identity_array)"
   ]
  },
  {
   "cell_type": "code",
   "execution_count": 44,
   "metadata": {},
   "outputs": [
    {
     "name": "stdout",
     "output_type": "stream",
     "text": [
      "[[0.92737833 0.07590565 0.68760163 0.70216047]\n",
      " [0.26077035 0.37861294 0.89375392 0.86860787]\n",
      " [0.73404171 0.64884977 0.95850102 0.72135426]]\n"
     ]
    }
   ],
   "source": [
    "my_rand_array = np.random.rand(3,4)\n",
    "print(my_rand_array)"
   ]
  },
  {
   "cell_type": "code",
   "execution_count": 45,
   "metadata": {},
   "outputs": [
    {
     "name": "stdout",
     "output_type": "stream",
     "text": [
      "[[0.92737833 0.07590565 0.68760163 0.70216047]\n",
      " [0.26077035 0.37861294 0.89375392 0.86860787]\n",
      " [0.73404171 0.64884977 0.95850102 0.72135426]]\n"
     ]
    }
   ],
   "source": [
    "tup_dim = (3, 4)\n",
    "my_uninitialized_array = np.empty(tup_dim)\n",
    "print(my_uninitialized_array)"
   ]
  },
  {
   "cell_type": "code",
   "execution_count": 55,
   "metadata": {},
   "outputs": [
    {
     "name": "stdout",
     "output_type": "stream",
     "text": [
      "[10 15 20 25]\n"
     ]
    }
   ],
   "source": [
    "my_range_array = np.arange(10,30,5)\n",
    "print(my_range_array)"
   ]
  },
  {
   "cell_type": "code",
   "execution_count": 57,
   "metadata": {},
   "outputs": [
    {
     "name": "stdout",
     "output_type": "stream",
     "text": [
      "[0.         0.33333333 0.66666667 1.         1.33333333 1.66666667]\n"
     ]
    }
   ],
   "source": [
    "my_spaced_array = np.linspace(0,5/3,6)\n",
    "print(my_spaced_array)"
   ]
  },
  {
   "cell_type": "code",
   "execution_count": 67,
   "metadata": {},
   "outputs": [],
   "source": [
    "array_A = np.array([ [3,4,6], [0,8,1] ])"
   ]
  },
  {
   "cell_type": "code",
   "execution_count": 68,
   "metadata": {},
   "outputs": [
    {
     "data": {
      "text/plain": [
       "2"
      ]
     },
     "execution_count": 68,
     "metadata": {},
     "output_type": "execute_result"
    }
   ],
   "source": [
    "array_A.ndim"
   ]
  },
  {
   "cell_type": "code",
   "execution_count": 69,
   "metadata": {},
   "outputs": [
    {
     "data": {
      "text/plain": [
       "(2, 3)"
      ]
     },
     "execution_count": 69,
     "metadata": {},
     "output_type": "execute_result"
    }
   ],
   "source": [
    "array_A.shape"
   ]
  },
  {
   "cell_type": "code",
   "execution_count": 70,
   "metadata": {},
   "outputs": [
    {
     "data": {
      "text/plain": [
       "6"
      ]
     },
     "execution_count": 70,
     "metadata": {},
     "output_type": "execute_result"
    }
   ],
   "source": [
    "array_A.size"
   ]
  },
  {
   "cell_type": "code",
   "execution_count": 71,
   "metadata": {},
   "outputs": [
    {
     "data": {
      "text/plain": [
       "dtype('int64')"
      ]
     },
     "execution_count": 71,
     "metadata": {},
     "output_type": "execute_result"
    }
   ],
   "source": [
    "array_A.dtype"
   ]
  },
  {
   "cell_type": "code",
   "execution_count": 7,
   "metadata": {},
   "outputs": [
    {
     "ename": "StopIteration",
     "evalue": "",
     "output_type": "error",
     "traceback": [
      "\u001b[0;31m---------------------------------------------------------------------------\u001b[0m",
      "\u001b[0;31mStopIteration\u001b[0m                             Traceback (most recent call last)",
      "\u001b[0;32m<ipython-input-7-90589ae2edca>\u001b[0m in \u001b[0;36m<module>\u001b[0;34m\u001b[0m\n\u001b[1;32m      1\u001b[0m \u001b[0;32mimport\u001b[0m \u001b[0mnumpy\u001b[0m \u001b[0;32mas\u001b[0m \u001b[0mnp\u001b[0m\u001b[0;34m\u001b[0m\u001b[0;34m\u001b[0m\u001b[0m\n\u001b[0;32m----> 2\u001b[0;31m \u001b[0mname_arr\u001b[0m\u001b[0;34m,\u001b[0m \u001b[0maddress_arr\u001b[0m\u001b[0;34m,\u001b[0m \u001b[0mzipcode_arr\u001b[0m \u001b[0;34m=\u001b[0m \u001b[0mnp\u001b[0m\u001b[0;34m.\u001b[0m\u001b[0mloadtxt\u001b[0m\u001b[0;34m(\u001b[0m\u001b[0;34m'python_file_writing.txt'\u001b[0m\u001b[0;34m,\u001b[0m \u001b[0mskiprows\u001b[0m\u001b[0;34m=\u001b[0m\u001b[0;36m2\u001b[0m\u001b[0;34m,\u001b[0m \u001b[0munpack\u001b[0m\u001b[0;34m=\u001b[0m\u001b[0;32mTrue\u001b[0m\u001b[0;34m)\u001b[0m\u001b[0;34m\u001b[0m\u001b[0;34m\u001b[0m\u001b[0m\n\u001b[0m\u001b[1;32m      3\u001b[0m \u001b[0mprint\u001b[0m\u001b[0;34m(\u001b[0m\u001b[0mname_arr\u001b[0m\u001b[0;34m)\u001b[0m\u001b[0;34m\u001b[0m\u001b[0;34m\u001b[0m\u001b[0m\n",
      "\u001b[0;32m/usr/local/anaconda/lib/python3.6/site-packages/numpy/lib/npyio.py\u001b[0m in \u001b[0;36mloadtxt\u001b[0;34m(fname, dtype, comments, delimiter, converters, skiprows, usecols, unpack, ndmin, encoding, max_rows)\u001b[0m\n\u001b[1;32m   1084\u001b[0m         \u001b[0;31m# Skip the first `skiprows` lines\u001b[0m\u001b[0;34m\u001b[0m\u001b[0;34m\u001b[0m\u001b[0;34m\u001b[0m\u001b[0m\n\u001b[1;32m   1085\u001b[0m         \u001b[0;32mfor\u001b[0m \u001b[0mi\u001b[0m \u001b[0;32min\u001b[0m \u001b[0mrange\u001b[0m\u001b[0;34m(\u001b[0m\u001b[0mskiprows\u001b[0m\u001b[0;34m)\u001b[0m\u001b[0;34m:\u001b[0m\u001b[0;34m\u001b[0m\u001b[0;34m\u001b[0m\u001b[0m\n\u001b[0;32m-> 1086\u001b[0;31m             \u001b[0mnext\u001b[0m\u001b[0;34m(\u001b[0m\u001b[0mfh\u001b[0m\u001b[0;34m)\u001b[0m\u001b[0;34m\u001b[0m\u001b[0;34m\u001b[0m\u001b[0m\n\u001b[0m\u001b[1;32m   1087\u001b[0m \u001b[0;34m\u001b[0m\u001b[0m\n\u001b[1;32m   1088\u001b[0m         \u001b[0;31m# Read until we find a line with some values, and use\u001b[0m\u001b[0;34m\u001b[0m\u001b[0;34m\u001b[0m\u001b[0;34m\u001b[0m\u001b[0m\n",
      "\u001b[0;31mStopIteration\u001b[0m: "
     ]
    }
   ],
   "source": [
    "import numpy as np\n",
    "name_arr, address_arr, zipcode_arr = np.loadtxt('python_file_writing.txt', skiprows=2, unpack=True)\n",
    "print(name_arr)"
   ]
  },
  {
   "cell_type": "code",
   "execution_count": 2,
   "metadata": {},
   "outputs": [
    {
     "name": "stdout",
     "output_type": "stream",
     "text": [
      "/home/tukulkumar1011/cloudxlab_jupyter_notebooks\r\n"
     ]
    }
   ],
   "source": [
    "!pwd"
   ]
  },
  {
   "cell_type": "code",
   "execution_count": 10,
   "metadata": {},
   "outputs": [
    {
     "name": "stdout",
     "output_type": "stream",
     "text": [
      "churn_emails_inbox_with_python_433.ipynb\r\n",
      "copy_of_copy_of_getting_started_with_matplotlib_835.ipynb\r\n",
      "copy_of_machine_learning_prerequisites_832.ipynb\r\n",
      "copy_of_pandas_for_machine_learning_833.ipynb\r\n",
      "foundations_of_python_459.ipynb\r\n",
      "getting_started_with_various_tools_at_cloudxlab_928.ipynb\r\n",
      "housing_short.csv\r\n",
      "python_file_writing.txt\r\n"
     ]
    }
   ],
   "source": [
    "!ls"
   ]
  },
  {
   "cell_type": "code",
   "execution_count": 8,
   "metadata": {},
   "outputs": [],
   "source": [
    "import numpy as np\n",
    "import os\n",
    "import pandas as pd\n",
    "# defining housing.csv file path\n",
    "HOUSING_PATH =  '/cxldata/datasets/project/housing'\n",
    "# reading the large housing.csv file using pandas\n",
    "housing_raw = pd.read_csv(os.path.join(HOUSING_PATH, \"housing.csv\"))\n",
    "# extracting only a few rows (5 rows) of data from the pandas dataframe 'my_df'\n",
    "my_df = housing_raw.iloc[ : 5]\n",
    "# creating a new small csv file - 'housing_short.csv' - containing the above extracted 5 rows of data\n",
    "my_df.to_csv('housing_short.csv', index=False)"
   ]
  },
  {
   "cell_type": "code",
   "execution_count": 11,
   "metadata": {},
   "outputs": [],
   "source": [
    "FILE = 'housing_short.csv'"
   ]
  },
  {
   "cell_type": "code",
   "execution_count": 12,
   "metadata": {},
   "outputs": [],
   "source": [
    "def load_housing_data(file = FILE ):\n",
    "    return np.loadtxt(file, dtype={'names': ('longitude','latitude','housing_median_age','total_rooms','total_bedrooms','population','households','median_income','median_house_value','ocean_proximity'),'formats': ('f8', 'f8', 'f8', 'f8', 'f8', 'f8', 'f8', 'f8', 'f8', '|S15')}, delimiter=',', skiprows=1, unpack=True)"
   ]
  },
  {
   "cell_type": "code",
   "execution_count": 13,
   "metadata": {},
   "outputs": [
    {
     "data": {
      "text/plain": [
       "[array([-122.23, -122.22, -122.24, -122.25, -122.25]),\n",
       " array([37.88, 37.86, 37.85, 37.85, 37.85]),\n",
       " array([41., 21., 52., 52., 52.]),\n",
       " array([ 880., 7099., 1467., 1274., 1627.]),\n",
       " array([ 129., 1106.,  190.,  235.,  280.]),\n",
       " array([ 322., 2401.,  496.,  558.,  565.]),\n",
       " array([ 126., 1138.,  177.,  219.,  259.]),\n",
       " array([8.3252, 8.3014, 7.2574, 5.6431, 3.8462]),\n",
       " array([452600., 358500., 352100., 341300., 342200.]),\n",
       " array([b'NEAR BAY', b'NEAR BAY', b'NEAR BAY', b'NEAR BAY', b'NEAR BAY'],\n",
       "       dtype='|S15')]"
      ]
     },
     "execution_count": 13,
     "metadata": {},
     "output_type": "execute_result"
    }
   ],
   "source": [
    "load_housing_data()"
   ]
  },
  {
   "cell_type": "code",
   "execution_count": 14,
   "metadata": {},
   "outputs": [],
   "source": [
    "longitude_arr,latitude_arr,housing_median_age_arr,total_rooms_arr,total_bedrooms_arr,population_arr,households_arr,median_income_arr,median_house_value_arr,ocean_proximity_arr = load_housing_data()"
   ]
  },
  {
   "cell_type": "code",
   "execution_count": 15,
   "metadata": {},
   "outputs": [
    {
     "name": "stdout",
     "output_type": "stream",
     "text": [
      "[452600. 358500. 352100. 341300. 342200.]\n"
     ]
    }
   ],
   "source": [
    "print(median_house_value_arr)"
   ]
  },
  {
   "cell_type": "code",
   "execution_count": 24,
   "metadata": {},
   "outputs": [],
   "source": [
    "HOUSING_PATH =  '/cxldata/datasets/project/housing'"
   ]
  },
  {
   "cell_type": "code",
   "execution_count": 25,
   "metadata": {},
   "outputs": [],
   "source": [
    "File = os.path.join(HOUSING_PATH,\"housing.csv\")"
   ]
  },
  {
   "cell_type": "code",
   "execution_count": 41,
   "metadata": {},
   "outputs": [],
   "source": [
    "def load_housing_dataset(file =File ):\n",
    "    return np.genfromtxt(file, dtype={'names': ('longitude','latitude','housing_median_age','total_rooms','total_bedrooms','population','households','median_income','median_house_value','ocean_proximity'),'formats': ('f8', 'f8', 'f8', 'f8', 'f8', 'f8', 'f8', 'f8', 'f8', '|S15')}, delimiter=',', skip_header=1, filling_values = 99999999, unpack=False)"
   ]
  },
  {
   "cell_type": "code",
   "execution_count": 42,
   "metadata": {},
   "outputs": [],
   "source": [
    "result_arr = load_housing_dataset()"
   ]
  },
  {
   "cell_type": "code",
   "execution_count": 43,
   "metadata": {},
   "outputs": [
    {
     "name": "stdout",
     "output_type": "stream",
     "text": [
      "[(-122.23, 37.88, 41.,  880.,  129.,  322.,  126., 8.3252, 452600., b'NEAR BAY')\n",
      " (-122.22, 37.86, 21., 7099., 1106., 2401., 1138., 8.3014, 358500., b'NEAR BAY')\n",
      " (-122.24, 37.85, 52., 1467.,  190.,  496.,  177., 7.2574, 352100., b'NEAR BAY')\n",
      " ...\n",
      " (-121.22, 39.43, 17., 2254.,  485., 1007.,  433., 1.7   ,  92300., b'INLAND')\n",
      " (-121.32, 39.43, 18., 1860.,  409.,  741.,  349., 1.8672,  84700., b'INLAND')\n",
      " (-121.24, 39.37, 16., 2785.,  616., 1387.,  530., 2.3886,  89400., b'INLAND')]\n"
     ]
    }
   ],
   "source": [
    "print(result_arr )"
   ]
  },
  {
   "cell_type": "code",
   "execution_count": 44,
   "metadata": {},
   "outputs": [
    {
     "data": {
      "text/plain": [
       "(20640,)"
      ]
     },
     "execution_count": 44,
     "metadata": {},
     "output_type": "execute_result"
    }
   ],
   "source": [
    "result_arr.shape"
   ]
  },
  {
   "cell_type": "code",
   "execution_count": 50,
   "metadata": {},
   "outputs": [
    {
     "name": "stdout",
     "output_type": "stream",
     "text": [
      "[[0 1 2]\n",
      " [3 0 0]]\n"
     ]
    }
   ],
   "source": [
    "my_arr = np.array([ [0,1], [2,3] ])\n",
    "\n",
    "my_arr.resize( (2, 3) )\n",
    "\n",
    "print(my_arr)"
   ]
  },
  {
   "cell_type": "code",
   "execution_count": 51,
   "metadata": {},
   "outputs": [],
   "source": [
    "my_arr = np.array([1,2,3,4,5,6,7,8])"
   ]
  },
  {
   "cell_type": "code",
   "execution_count": 52,
   "metadata": {},
   "outputs": [
    {
     "name": "stdout",
     "output_type": "stream",
     "text": [
      "[[1 2 3 4]\n",
      " [5 6 7 8]]\n"
     ]
    }
   ],
   "source": [
    "my_arr.resize((2,4))\n",
    "print(my_arr)"
   ]
  },
  {
   "cell_type": "code",
   "execution_count": 56,
   "metadata": {},
   "outputs": [
    {
     "name": "stdout",
     "output_type": "stream",
     "text": [
      "[0 1 2 3 4 5]\n",
      "[[0 1 2]\n",
      " [3 4 5]]\n"
     ]
    }
   ],
   "source": [
    "my_arr = np.arange(6)\n",
    "print(my_arr)\n",
    "my_new_arr = my_arr.reshape(2,3)\n",
    "print(my_new_arr)"
   ]
  },
  {
   "cell_type": "code",
   "execution_count": 57,
   "metadata": {},
   "outputs": [
    {
     "name": "stdout",
     "output_type": "stream",
     "text": [
      "[0 1 2 3 4 5 6 7 8]\n",
      "[[0 1 2]\n",
      " [3 4 5]\n",
      " [6 7 8]]\n"
     ]
    }
   ],
   "source": [
    "my_arr = np.arange(9)\n",
    "print(my_arr)\n",
    "my_new_arr = my_arr.reshape(-1,3)\n",
    "print(my_new_arr)"
   ]
  },
  {
   "cell_type": "code",
   "execution_count": 58,
   "metadata": {},
   "outputs": [
    {
     "name": "stdout",
     "output_type": "stream",
     "text": [
      "[1 2 3 4 5 6 7 8]\n",
      "[[1 2 3 4]\n",
      " [5 6 7 8]]\n"
     ]
    }
   ],
   "source": [
    "my_first_arr = np.array([1,2,3,4,5,6,7,8])\n",
    "my_new_arr = my_first_arr.reshape(2,4)\n",
    "print(my_first_arr)\n",
    "print(my_new_arr)"
   ]
  },
  {
   "cell_type": "code",
   "execution_count": 60,
   "metadata": {},
   "outputs": [
    {
     "name": "stdout",
     "output_type": "stream",
     "text": [
      "[0 1 2 3 4 5 6 7 8]\n",
      "[[0 1 2]\n",
      " [3 4 5]\n",
      " [6 7 8]]\n"
     ]
    }
   ],
   "source": [
    "my_second_arr = np.array([0,1,2,3,4,5,6,7,8])\n",
    "my_updated_arr = my_second_arr.reshape(-1,3)\n",
    "print(my_second_arr)\n",
    "print(my_updated_arr)"
   ]
  },
  {
   "cell_type": "code",
   "execution_count": 70,
   "metadata": {},
   "outputs": [
    {
     "name": "stdout",
     "output_type": "stream",
     "text": [
      "10\n",
      "[31  2 18]\n"
     ]
    }
   ],
   "source": [
    "arr = np.array([1, 10, 31, 2, 18, 9, 22])\n",
    "print(arr[1])\n",
    "part_arr = arr[2 : 5]\n",
    "print(part_arr)"
   ]
  },
  {
   "cell_type": "code",
   "execution_count": 71,
   "metadata": {},
   "outputs": [
    {
     "name": "stdout",
     "output_type": "stream",
     "text": [
      "[12 89  7 26  9  3 15  1]\n"
     ]
    }
   ],
   "source": [
    "my_orig_arr  = np.array([1, 15, 3, 9, 26, 7, 89, 12])\n",
    "my_rev_arr = my_orig_arr[ : :-1]\n",
    "print(my_rev_arr)"
   ]
  },
  {
   "cell_type": "code",
   "execution_count": 72,
   "metadata": {},
   "outputs": [
    {
     "name": "stdout",
     "output_type": "stream",
     "text": [
      "[ 2  9 -6 -6 -6  4 20 57]\n"
     ]
    }
   ],
   "source": [
    "my_orig_arr2 = np.array([2, 9, 17, 13, 1, 4, 20, 57])\n",
    "my_orig_arr2[2:5] = -6\n",
    "print(my_orig_arr2)"
   ]
  },
  {
   "cell_type": "code",
   "execution_count": 73,
   "metadata": {},
   "outputs": [
    {
     "name": "stdout",
     "output_type": "stream",
     "text": [
      "[ 8 23  3]\n"
     ]
    }
   ],
   "source": [
    "apple = np.array([1, 8, 23, 3, 18, 91, 7, 15])\n",
    "apple_slice = apple[1:4]\n",
    "print(apple_slice)"
   ]
  },
  {
   "cell_type": "code",
   "execution_count": 74,
   "metadata": {},
   "outputs": [],
   "source": [
    "apple_slice[1] = 99999"
   ]
  },
  {
   "cell_type": "code",
   "execution_count": 75,
   "metadata": {},
   "outputs": [
    {
     "name": "stdout",
     "output_type": "stream",
     "text": [
      "[    8 99999     3]\n"
     ]
    }
   ],
   "source": [
    "print(apple_slice)"
   ]
  },
  {
   "cell_type": "code",
   "execution_count": 76,
   "metadata": {},
   "outputs": [
    {
     "name": "stdout",
     "output_type": "stream",
     "text": [
      "[    1     8 99999     3    18    91     7    15]\n"
     ]
    }
   ],
   "source": [
    "print(apple)"
   ]
  },
  {
   "cell_type": "code",
   "execution_count": 77,
   "metadata": {},
   "outputs": [
    {
     "name": "stdout",
     "output_type": "stream",
     "text": [
      "[ 99999 222222     18]\n"
     ]
    }
   ],
   "source": [
    "apple_slice_new = apple[2 : 5].copy()\n",
    "apple_slice_new[1] = 222222\n",
    "print(apple_slice_new)"
   ]
  },
  {
   "cell_type": "code",
   "execution_count": 78,
   "metadata": {},
   "outputs": [
    {
     "name": "stdout",
     "output_type": "stream",
     "text": [
      "[    1     8 99999     3    18    91     7    15]\n"
     ]
    }
   ],
   "source": [
    "print(apple)"
   ]
  },
  {
   "cell_type": "code",
   "execution_count": 98,
   "metadata": {},
   "outputs": [
    {
     "data": {
      "image/png": "[encoded data removed]",
      "text/plain": [
       "<Figure size 432x288 with 1 Axes>"
      ]
     },
     "metadata": {
      "needs_background": "light"
     },
     "output_type": "display_data"
    },
    {
     "name": "stdout",
     "output_type": "stream",
     "text": [
      "(130, 120, 3)\n"
     ]
    },
    {
     "data": {
      "image/png": "[encoded data removed]",
      "text/plain": [
       "<Figure size 432x288 with 1 Axes>"
      ]
     },
     "metadata": {
      "needs_background": "light"
     },
     "output_type": "display_data"
    }
   ],
   "source": [
    "import matplotlib.pyplot as plt\n",
    "from sklearn.datasets import load_sample_image\n",
    "china = load_sample_image(\"china.jpg\")\n",
    "plt.imshow(china,aspect=\"auto\")\n",
    "plt.show()\n",
    "portion = china[120:250,110:230]\n",
    "portion.ndim\n",
    "print(portion.shape)\n",
    "plt.imshow(portion)\n",
    "plt.show()"
   ]
  },
  {
   "cell_type": "code",
   "execution_count": 103,
   "metadata": {},
   "outputs": [
    {
     "data": {
      "text/plain": [
       "(427, 640, 3)"
      ]
     },
     "execution_count": 103,
     "metadata": {},
     "output_type": "execute_result"
    }
   ],
   "source": [
    "from sklearn.datasets import load_sample_image\n",
    "china = load_sample_image(\"china.jpg\")\n",
    "china.shape"
   ]
  },
  {
   "cell_type": "code",
   "execution_count": 106,
   "metadata": {},
   "outputs": [],
   "source": [
    "image = china[150:220, 130:250]\n",
    "height,width,channels = image.shape"
   ]
  },
  {
   "cell_type": "code",
   "execution_count": 107,
   "metadata": {},
   "outputs": [
    {
     "data": {
      "text/plain": [
       "(70, 120)"
      ]
     },
     "execution_count": 107,
     "metadata": {},
     "output_type": "execute_result"
    }
   ],
   "source": [
    "image_grayscale = image.mean(axis=2).astype(np.float32)\n",
    "image_grayscale.shape"
   ]
  },
  {
   "cell_type": "code",
   "execution_count": 108,
   "metadata": {},
   "outputs": [
    {
     "data": {
      "text/plain": [
       "4"
      ]
     },
     "execution_count": 108,
     "metadata": {},
     "output_type": "execute_result"
    }
   ],
   "source": [
    "images = image_grayscale.reshape(1,height,width,1)\n",
    "images.ndim"
   ]
  },
  {
   "cell_type": "code",
   "execution_count": 116,
   "metadata": {},
   "outputs": [
    {
     "name": "stdout",
     "output_type": "stream",
     "text": [
      "[[ 0  1  2  3]\n",
      " [ 4  5  6  7]\n",
      " [ 8  9 10 11]]\n"
     ]
    }
   ],
   "source": [
    "multi_arr = np.arange(12).reshape(3,4)\n",
    "print(multi_arr)"
   ]
  },
  {
   "cell_type": "code",
   "execution_count": 117,
   "metadata": {},
   "outputs": [],
   "source": [
    "rows_wanted = np.array( [True, False, True] )"
   ]
  },
  {
   "cell_type": "code",
   "execution_count": 118,
   "metadata": {},
   "outputs": [],
   "source": [
    "multi_arr_portion = multi_arr[rows_wanted, : ]"
   ]
  },
  {
   "cell_type": "code",
   "execution_count": 119,
   "metadata": {},
   "outputs": [
    {
     "name": "stdout",
     "output_type": "stream",
     "text": [
      "[[ 0  1  2  3]\n",
      " [ 8  9 10 11]]\n"
     ]
    }
   ],
   "source": [
    "print(multi_arr_portion)"
   ]
  },
  {
   "cell_type": "code",
   "execution_count": 128,
   "metadata": {},
   "outputs": [
    {
     "name": "stdout",
     "output_type": "stream",
     "text": [
      "[[ 0  1  2  3  4]\n",
      " [ 5  6  7  8  9]\n",
      " [10 11 12 13 14]\n",
      " [15 16 17 18 19]]\n",
      "[[12 13 14]\n",
      " [17 18 19]]\n"
     ]
    }
   ],
   "source": [
    "my_multi_arr = np.arange(20).reshape(4,5)\n",
    "print(my_multi_arr)\n",
    "my_multi_arr_portion = my_multi_arr[2:4,2:5]\n",
    "print(my_multi_arr_portion)"
   ]
  },
  {
   "cell_type": "code",
   "execution_count": 2,
   "metadata": {},
   "outputs": [
    {
     "name": "stdout",
     "output_type": "stream",
     "text": [
      "[ 0  1  2  3  4  5  6  7  8  9 10 11 12 13 14 15 16 17 18 19]\n"
     ]
    }
   ],
   "source": [
    "import numpy as np\n",
    "import os\n",
    "import pandas as pd\n",
    "my_2d_arr = np.arange(20).reshape(4,5)\n",
    "my_1d_arr = my_2d_arr.ravel()\n",
    "print(my_1d_arr)"
   ]
  },
  {
   "cell_type": "code",
   "execution_count": 3,
   "metadata": {},
   "outputs": [
    {
     "name": "stdout",
     "output_type": "stream",
     "text": [
      "[20 31 42 53]\n"
     ]
    }
   ],
   "source": [
    "import numpy as np\n",
    "a = np.array([ 20, 30, 40, 50])\n",
    "b = np.arange(4)\n",
    "c = a + b\n",
    "print(c)"
   ]
  },
  {
   "cell_type": "code",
   "execution_count": 4,
   "metadata": {},
   "outputs": [
    {
     "name": "stdout",
     "output_type": "stream",
     "text": [
      "[60 71 82 93]\n"
     ]
    }
   ],
   "source": [
    "a_arr = np.array([60, 70, 80, 90])\n",
    "b_arr = np.arange(4)\n",
    "c_arr = a_arr  + b_arr\n",
    "print(c_arr)"
   ]
  },
  {
   "cell_type": "code",
   "execution_count": 5,
   "metadata": {},
   "outputs": [
    {
     "name": "stdout",
     "output_type": "stream",
     "text": [
      "[60 69 78 87]\n"
     ]
    }
   ],
   "source": [
    "d_arr = np.array([60, 70, 80, 90])\n",
    "e_arr = np.arange(4)\n",
    "f_arr = d_arr  - e_arr\n",
    "print(f_arr)"
   ]
  },
  {
   "cell_type": "code",
   "execution_count": 22,
   "metadata": {},
   "outputs": [
    {
     "name": "stdout",
     "output_type": "stream",
     "text": [
      "[[10 72]\n",
      " [ 4 42]]\n"
     ]
    }
   ],
   "source": [
    "A_arr = np.array([ [ 5,9], [4, 7] ])\n",
    "B_arr = np.array( [ [2, 8], [1, 6] ] )\n",
    "M_arr = A_arr * B_arr\n",
    "print(M_arr)"
   ]
  },
  {
   "cell_type": "code",
   "execution_count": 23,
   "metadata": {},
   "outputs": [
    {
     "name": "stdout",
     "output_type": "stream",
     "text": [
      "[[19 94]\n",
      " [15 74]]\n"
     ]
    }
   ],
   "source": [
    "C_arr = np.array([ [ 5,9], [4, 7] ])\n",
    "D_arr = np.array( [ [2, 8], [1, 6] ] )\n",
    "P_arr = np.dot(C_arr,D_arr)\n",
    "print(P_arr)"
   ]
  },
  {
   "cell_type": "code",
   "execution_count": 40,
   "metadata": {},
   "outputs": [
    {
     "name": "stdout",
     "output_type": "stream",
     "text": [
      "[[12.5  6.5]\n",
      " [10.   2.8]]\n"
     ]
    }
   ],
   "source": [
    "R_div = np.array([ [ 25,65], [40, 14] ])\n",
    "S_div = np.array([ [2, 10], [4, 5] ] )\n",
    "T_div = R_div /  S_div\n",
    "print(T_div)"
   ]
  },
  {
   "cell_type": "code",
   "execution_count": 41,
   "metadata": {},
   "outputs": [
    {
     "name": "stdout",
     "output_type": "stream",
     "text": [
      "[[12  6]\n",
      " [ 5 23]]\n"
     ]
    }
   ],
   "source": [
    "R_int_div = np.array([ [ 25,65], [40, 70] ])\n",
    "S_int_div = np.array([ [2, 10], [8, 3] ] )\n",
    "T_int_div = R_int_div // S_int_div\n",
    "print(T_int_div)"
   ]
  },
  {
   "cell_type": "code",
   "execution_count": 42,
   "metadata": {},
   "outputs": [
    {
     "name": "stdout",
     "output_type": "stream",
     "text": [
      "[[0 5]\n",
      " [0 1]]\n"
     ]
    }
   ],
   "source": [
    "R_mod = np.array([ [ 20,65], [40, 70] ])\n",
    "S_mod = np.array([ [2, 10], [8, 3] ] )\n",
    "T_mod = R_mod % S_mod\n",
    "print(T_mod)"
   ]
  },
  {
   "cell_type": "code",
   "execution_count": 61,
   "metadata": {},
   "outputs": [
    {
     "name": "stdout",
     "output_type": "stream",
     "text": [
      "[[  16 1024]\n",
      " [  81 1024]]\n"
     ]
    }
   ],
   "source": [
    "R_exp = np.array([ [ 4, 2], [3, 4 ] ] )\n",
    "S_exp = np.array( [ [2, 10], [4, 5] ] )\n",
    "T_exp = R_exp ** S_exp\n",
    "print(T_exp)"
   ]
  },
  {
   "cell_type": "code",
   "execution_count": 70,
   "metadata": {},
   "outputs": [
    {
     "data": {
      "text/plain": [
       "array([False,  True,  True, False])"
      ]
     },
     "execution_count": 70,
     "metadata": {},
     "output_type": "execute_result"
    }
   ],
   "source": [
    "m = np.array( [ 20, -5, 30, 40] )\n",
    "m < [15, 16, 35, 36]"
   ]
  },
  {
   "cell_type": "code",
   "execution_count": 71,
   "metadata": {},
   "outputs": [
    {
     "data": {
      "text/plain": [
       "array([ True,  True, False, False])"
      ]
     },
     "execution_count": 71,
     "metadata": {},
     "output_type": "execute_result"
    }
   ],
   "source": [
    "m< 25"
   ]
  },
  {
   "cell_type": "code",
   "execution_count": 73,
   "metadata": {},
   "outputs": [
    {
     "name": "stdout",
     "output_type": "stream",
     "text": [
      "[[ True False]\n",
      " [False  True]]\n"
     ]
    }
   ],
   "source": [
    "U = np.array([[ 22, 45], [90, 4 ]])\n",
    "print(U < 45)"
   ]
  },
  {
   "cell_type": "code",
   "execution_count": 79,
   "metadata": {},
   "outputs": [
    {
     "name": "stdout",
     "output_type": "stream",
     "text": [
      "mean =  6.766666666666667\n"
     ]
    }
   ],
   "source": [
    "X = np.array( [ [-2.5, 3.1, 7],\n",
    "                [10, 11, 12] ] )\n",
    "print(\"mean = \", X.mean())"
   ]
  },
  {
   "cell_type": "code",
   "execution_count": 80,
   "metadata": {},
   "outputs": [
    {
     "name": "stdout",
     "output_type": "stream",
     "text": [
      "Variance =  25.855555555555554\n"
     ]
    }
   ],
   "source": [
    "print(\"Variance = \", X.var())"
   ]
  },
  {
   "cell_type": "code",
   "execution_count": 81,
   "metadata": {},
   "outputs": [
    {
     "name": "stdout",
     "output_type": "stream",
     "text": [
      "Standard Deviation =  5.084835843520964\n"
     ]
    }
   ],
   "source": [
    "print(\"Standard Deviation = \", X.std())"
   ]
  },
  {
   "cell_type": "code",
   "execution_count": 82,
   "metadata": {},
   "outputs": [
    {
     "name": "stdout",
     "output_type": "stream",
     "text": [
      "mean =  1.8333333333333333\n",
      "Variance =  11.805555555555557\n",
      "Standard Deviation =  3.435921354681384\n",
      "min =  -5\n",
      "max =  6\n",
      "sum =  11\n",
      "product =  -720\n"
     ]
    }
   ],
   "source": [
    "X_stat = np.array([[ 1, 2, 3], [ 4, -5, 6]])\n",
    "print(\"mean = \", X_stat.mean())\n",
    "print(\"Variance = \", X_stat.var())\n",
    "print(\"Standard Deviation = \", X_stat.std())\n",
    "print(\"min = \", X_stat.min())\n",
    "print(\"max = \", X_stat.max())\n",
    "print(\"sum = \", X_stat.sum())\n",
    "print(\"product = \", X_stat.prod())"
   ]
  },
  {
   "cell_type": "code",
   "execution_count": 94,
   "metadata": {},
   "outputs": [
    {
     "name": "stdout",
     "output_type": "stream",
     "text": [
      "[[[ 0  1  2]\n",
      "  [ 3  4  5]\n",
      "  [ 6  7  8]]\n",
      "\n",
      " [[ 9 10 11]\n",
      "  [12 13 14]\n",
      "  [15 16 17]]]\n",
      "[[ 3 12 21]\n",
      " [30 39 48]]\n"
     ]
    }
   ],
   "source": [
    "Z = np.arange(18).reshape(2,3,3)\n",
    "print(Z)\n",
    "print(Z.sum(axis=2))"
   ]
  },
  {
   "cell_type": "code",
   "execution_count": 100,
   "metadata": {},
   "outputs": [
    {
     "name": "stdout",
     "output_type": "stream",
     "text": [
      "[[0 1]\n",
      " [2 3]\n",
      " [4 5]]\n",
      "Transpose =  [[0 2 4]\n",
      " [1 3 5]]\n"
     ]
    }
   ],
   "source": [
    "N = np.arange(6).reshape(3,2)\n",
    "print(N)\n",
    "print(\"Transpose = \",N.T)"
   ]
  },
  {
   "cell_type": "code",
   "execution_count": 107,
   "metadata": {},
   "outputs": [
    {
     "name": "stdout",
     "output_type": "stream",
     "text": [
      "[[1. 1. 1.]\n",
      " [1. 1. 1.]\n",
      " [1. 1. 1.]]\n"
     ]
    }
   ],
   "source": [
    "X_broad = np.ones((3,3))\n",
    "print(X_broad)"
   ]
  },
  {
   "cell_type": "code",
   "execution_count": 109,
   "metadata": {},
   "outputs": [
    {
     "name": "stdout",
     "output_type": "stream",
     "text": [
      "[0 1 2]\n"
     ]
    }
   ],
   "source": [
    "Y_broad = np.arange(3)\n",
    "print(Y_broad)"
   ]
  },
  {
   "cell_type": "code",
   "execution_count": 110,
   "metadata": {},
   "outputs": [
    {
     "name": "stdout",
     "output_type": "stream",
     "text": [
      "[[1. 2. 3.]\n",
      " [1. 2. 3.]\n",
      " [1. 2. 3.]]\n"
     ]
    }
   ],
   "source": [
    "Z_broad = X_broad + Y_broad\n",
    "print(Z_broad)"
   ]
  },
  {
   "cell_type": "code",
   "execution_count": null,
   "metadata": {},
   "outputs": [],
   "source": []
  }
 ],
 "metadata": {
  "kernelspec": {
   "display_name": "Python 3",
   "language": "python",
   "name": "python3"
  },
  "language_info": {
   "codemirror_mode": {
    "name": "ipython",
    "version": 3
   },
   "file_extension": ".py",
   "mimetype": "text/x-python",
   "name": "python",
   "nbconvert_exporter": "python",
   "pygments_lexer": "ipython3",
   "version": "3.6.8"
  },
  "toc": {
   "base_numbering": 1,
   "nav_menu": {},
   "number_sections": true,
   "sideBar": true,
   "skip_h1_title": false,
   "title_cell": "Table of Contents",
   "title_sidebar": "Contents",
   "toc_cell": false,
   "toc_position": {},
   "toc_section_display": true,
   "toc_window_display": false
  }
 },
 "nbformat": 4,
 "nbformat_minor": 2
}
